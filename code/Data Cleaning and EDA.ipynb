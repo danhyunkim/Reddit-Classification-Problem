{
 "cells": [
  {
   "cell_type": "markdown",
   "metadata": {},
   "source": [
    "# Data Cleaning and EDA\n",
    "\n",
    "### Let's clean and analyze our data and prepare it for modeling"
   ]
  },
  {
   "cell_type": "code",
   "execution_count": 1,
   "metadata": {},
   "outputs": [],
   "source": [
    "import pandas as pd, numpy as np, matplotlib.pyplot as plt, seaborn as sns"
   ]
  },
  {
   "cell_type": "markdown",
   "metadata": {},
   "source": [
    "### Read in both Nike and Adidas csvs"
   ]
  },
  {
   "cell_type": "code",
   "execution_count": 2,
   "metadata": {},
   "outputs": [],
   "source": [
    "nike_df = pd.read_csv('../data/Nike.csv')\n",
    "\n",
    "adidas_df = pd.read_csv('../data/Adidas.csv')"
   ]
  },
  {
   "cell_type": "markdown",
   "metadata": {},
   "source": [
    "## Nike dataframe cleaning and EDA"
   ]
  },
  {
   "cell_type": "code",
   "execution_count": 3,
   "metadata": {},
   "outputs": [
    {
     "data": {
      "text/html": [
       "<div>\n",
       "<style scoped>\n",
       "    .dataframe tbody tr th:only-of-type {\n",
       "        vertical-align: middle;\n",
       "    }\n",
       "\n",
       "    .dataframe tbody tr th {\n",
       "        vertical-align: top;\n",
       "    }\n",
       "\n",
       "    .dataframe thead th {\n",
       "        text-align: right;\n",
       "    }\n",
       "</style>\n",
       "<table border=\"1\" class=\"dataframe\">\n",
       "  <thead>\n",
       "    <tr style=\"text-align: right;\">\n",
       "      <th></th>\n",
       "      <th>Unnamed: 0</th>\n",
       "      <th>author</th>\n",
       "      <th>comments</th>\n",
       "      <th>created</th>\n",
       "      <th>score</th>\n",
       "      <th>subreddit</th>\n",
       "      <th>subscribers</th>\n",
       "      <th>text</th>\n",
       "      <th>title</th>\n",
       "      <th>url</th>\n",
       "    </tr>\n",
       "  </thead>\n",
       "  <tbody>\n",
       "    <tr>\n",
       "      <th>0</th>\n",
       "      <td>0</td>\n",
       "      <td>jeremec</td>\n",
       "      <td>1</td>\n",
       "      <td>1.456352e+09</td>\n",
       "      <td>18</td>\n",
       "      <td>Nike</td>\n",
       "      <td>11043</td>\n",
       "      <td>Please note that any product from a previous s...</td>\n",
       "      <td>Tips for identifying Nike Product</td>\n",
       "      <td>https://www.reddit.com/r/Nike/comments/47fex4/...</td>\n",
       "    </tr>\n",
       "    <tr>\n",
       "      <th>1</th>\n",
       "      <td>1</td>\n",
       "      <td>lavienstyle</td>\n",
       "      <td>2</td>\n",
       "      <td>1.545215e+09</td>\n",
       "      <td>8</td>\n",
       "      <td>Nike</td>\n",
       "      <td>11043</td>\n",
       "      <td>NaN</td>\n",
       "      <td>What’s this called?</td>\n",
       "      <td>https://i.redd.it/hjnoz5gqo7521.jpg</td>\n",
       "    </tr>\n",
       "    <tr>\n",
       "      <th>2</th>\n",
       "      <td>2</td>\n",
       "      <td>azndkflush</td>\n",
       "      <td>0</td>\n",
       "      <td>1.545232e+09</td>\n",
       "      <td>1</td>\n",
       "      <td>Nike</td>\n",
       "      <td>11043</td>\n",
       "      <td>NaN</td>\n",
       "      <td>[LC] OW NIKE PRESTO :D!</td>\n",
       "      <td>https://imgur.com/gallery/Aykz7YX</td>\n",
       "    </tr>\n",
       "    <tr>\n",
       "      <th>3</th>\n",
       "      <td>3</td>\n",
       "      <td>hiding_in_NJ</td>\n",
       "      <td>2</td>\n",
       "      <td>1.545150e+09</td>\n",
       "      <td>49</td>\n",
       "      <td>Nike</td>\n",
       "      <td>11043</td>\n",
       "      <td>NaN</td>\n",
       "      <td>3D printed Jordan 1s by me</td>\n",
       "      <td>https://i.redd.it/j4oaab0za2521.jpg</td>\n",
       "    </tr>\n",
       "    <tr>\n",
       "      <th>4</th>\n",
       "      <td>4</td>\n",
       "      <td>nitr0h</td>\n",
       "      <td>0</td>\n",
       "      <td>1.545203e+09</td>\n",
       "      <td>2</td>\n",
       "      <td>Nike</td>\n",
       "      <td>11043</td>\n",
       "      <td>http://www.jimmyjazz.com/boys/clothing/nike-bl...</td>\n",
       "      <td>need help finding this tracksuit in mens</td>\n",
       "      <td>https://www.reddit.com/r/Nike/comments/a7k2nd/...</td>\n",
       "    </tr>\n",
       "  </tbody>\n",
       "</table>\n",
       "</div>"
      ],
      "text/plain": [
       "   Unnamed: 0        author  comments       created  score subreddit  \\\n",
       "0           0       jeremec         1  1.456352e+09     18      Nike   \n",
       "1           1   lavienstyle         2  1.545215e+09      8      Nike   \n",
       "2           2    azndkflush         0  1.545232e+09      1      Nike   \n",
       "3           3  hiding_in_NJ         2  1.545150e+09     49      Nike   \n",
       "4           4        nitr0h         0  1.545203e+09      2      Nike   \n",
       "\n",
       "   subscribers                                               text  \\\n",
       "0        11043  Please note that any product from a previous s...   \n",
       "1        11043                                                NaN   \n",
       "2        11043                                                NaN   \n",
       "3        11043                                                NaN   \n",
       "4        11043  http://www.jimmyjazz.com/boys/clothing/nike-bl...   \n",
       "\n",
       "                                      title  \\\n",
       "0         Tips for identifying Nike Product   \n",
       "1                       What’s this called?   \n",
       "2                   [LC] OW NIKE PRESTO :D!   \n",
       "3                3D printed Jordan 1s by me   \n",
       "4  need help finding this tracksuit in mens   \n",
       "\n",
       "                                                 url  \n",
       "0  https://www.reddit.com/r/Nike/comments/47fex4/...  \n",
       "1                https://i.redd.it/hjnoz5gqo7521.jpg  \n",
       "2                  https://imgur.com/gallery/Aykz7YX  \n",
       "3                https://i.redd.it/j4oaab0za2521.jpg  \n",
       "4  https://www.reddit.com/r/Nike/comments/a7k2nd/...  "
      ]
     },
     "execution_count": 3,
     "metadata": {},
     "output_type": "execute_result"
    }
   ],
   "source": [
    "nike_df.head()"
   ]
  },
  {
   "cell_type": "markdown",
   "metadata": {},
   "source": [
    "**Drop `Unnamed: 0` column**"
   ]
  },
  {
   "cell_type": "code",
   "execution_count": 4,
   "metadata": {},
   "outputs": [],
   "source": [
    "nike_df.drop('Unnamed: 0', axis=1, inplace=True)"
   ]
  },
  {
   "cell_type": "markdown",
   "metadata": {},
   "source": [
    "**Change column order**"
   ]
  },
  {
   "cell_type": "code",
   "execution_count": 5,
   "metadata": {},
   "outputs": [
    {
     "data": {
      "text/html": [
       "<div>\n",
       "<style scoped>\n",
       "    .dataframe tbody tr th:only-of-type {\n",
       "        vertical-align: middle;\n",
       "    }\n",
       "\n",
       "    .dataframe tbody tr th {\n",
       "        vertical-align: top;\n",
       "    }\n",
       "\n",
       "    .dataframe thead th {\n",
       "        text-align: right;\n",
       "    }\n",
       "</style>\n",
       "<table border=\"1\" class=\"dataframe\">\n",
       "  <thead>\n",
       "    <tr style=\"text-align: right;\">\n",
       "      <th></th>\n",
       "      <th>author</th>\n",
       "      <th>comments</th>\n",
       "      <th>created</th>\n",
       "      <th>score</th>\n",
       "      <th>subscribers</th>\n",
       "      <th>text</th>\n",
       "      <th>title</th>\n",
       "      <th>url</th>\n",
       "      <th>subreddit</th>\n",
       "    </tr>\n",
       "  </thead>\n",
       "  <tbody>\n",
       "    <tr>\n",
       "      <th>0</th>\n",
       "      <td>jeremec</td>\n",
       "      <td>1</td>\n",
       "      <td>1.456352e+09</td>\n",
       "      <td>18</td>\n",
       "      <td>11043</td>\n",
       "      <td>Please note that any product from a previous s...</td>\n",
       "      <td>Tips for identifying Nike Product</td>\n",
       "      <td>https://www.reddit.com/r/Nike/comments/47fex4/...</td>\n",
       "      <td>Nike</td>\n",
       "    </tr>\n",
       "    <tr>\n",
       "      <th>1</th>\n",
       "      <td>lavienstyle</td>\n",
       "      <td>2</td>\n",
       "      <td>1.545215e+09</td>\n",
       "      <td>8</td>\n",
       "      <td>11043</td>\n",
       "      <td>NaN</td>\n",
       "      <td>What’s this called?</td>\n",
       "      <td>https://i.redd.it/hjnoz5gqo7521.jpg</td>\n",
       "      <td>Nike</td>\n",
       "    </tr>\n",
       "    <tr>\n",
       "      <th>2</th>\n",
       "      <td>azndkflush</td>\n",
       "      <td>0</td>\n",
       "      <td>1.545232e+09</td>\n",
       "      <td>1</td>\n",
       "      <td>11043</td>\n",
       "      <td>NaN</td>\n",
       "      <td>[LC] OW NIKE PRESTO :D!</td>\n",
       "      <td>https://imgur.com/gallery/Aykz7YX</td>\n",
       "      <td>Nike</td>\n",
       "    </tr>\n",
       "    <tr>\n",
       "      <th>3</th>\n",
       "      <td>hiding_in_NJ</td>\n",
       "      <td>2</td>\n",
       "      <td>1.545150e+09</td>\n",
       "      <td>49</td>\n",
       "      <td>11043</td>\n",
       "      <td>NaN</td>\n",
       "      <td>3D printed Jordan 1s by me</td>\n",
       "      <td>https://i.redd.it/j4oaab0za2521.jpg</td>\n",
       "      <td>Nike</td>\n",
       "    </tr>\n",
       "    <tr>\n",
       "      <th>4</th>\n",
       "      <td>nitr0h</td>\n",
       "      <td>0</td>\n",
       "      <td>1.545203e+09</td>\n",
       "      <td>2</td>\n",
       "      <td>11043</td>\n",
       "      <td>http://www.jimmyjazz.com/boys/clothing/nike-bl...</td>\n",
       "      <td>need help finding this tracksuit in mens</td>\n",
       "      <td>https://www.reddit.com/r/Nike/comments/a7k2nd/...</td>\n",
       "      <td>Nike</td>\n",
       "    </tr>\n",
       "  </tbody>\n",
       "</table>\n",
       "</div>"
      ],
      "text/plain": [
       "         author  comments       created  score  subscribers  \\\n",
       "0       jeremec         1  1.456352e+09     18        11043   \n",
       "1   lavienstyle         2  1.545215e+09      8        11043   \n",
       "2    azndkflush         0  1.545232e+09      1        11043   \n",
       "3  hiding_in_NJ         2  1.545150e+09     49        11043   \n",
       "4        nitr0h         0  1.545203e+09      2        11043   \n",
       "\n",
       "                                                text  \\\n",
       "0  Please note that any product from a previous s...   \n",
       "1                                                NaN   \n",
       "2                                                NaN   \n",
       "3                                                NaN   \n",
       "4  http://www.jimmyjazz.com/boys/clothing/nike-bl...   \n",
       "\n",
       "                                      title  \\\n",
       "0         Tips for identifying Nike Product   \n",
       "1                       What’s this called?   \n",
       "2                   [LC] OW NIKE PRESTO :D!   \n",
       "3                3D printed Jordan 1s by me   \n",
       "4  need help finding this tracksuit in mens   \n",
       "\n",
       "                                                 url subreddit  \n",
       "0  https://www.reddit.com/r/Nike/comments/47fex4/...      Nike  \n",
       "1                https://i.redd.it/hjnoz5gqo7521.jpg      Nike  \n",
       "2                  https://imgur.com/gallery/Aykz7YX      Nike  \n",
       "3                https://i.redd.it/j4oaab0za2521.jpg      Nike  \n",
       "4  https://www.reddit.com/r/Nike/comments/a7k2nd/...      Nike  "
      ]
     },
     "execution_count": 5,
     "metadata": {},
     "output_type": "execute_result"
    }
   ],
   "source": [
    "# Moving the subreddit column to the end for the eventual merge with the Adidas dataframe\n",
    "# This will be the y_value\n",
    "nike_df = nike_df[['author', 'comments', 'created', 'score', 'subscribers', 'text', 'title', 'url', 'subreddit']]\n",
    "nike_df.head()"
   ]
  },
  {
   "cell_type": "markdown",
   "metadata": {},
   "source": [
    "**Check for, explore and handle null values**"
   ]
  },
  {
   "cell_type": "code",
   "execution_count": 6,
   "metadata": {},
   "outputs": [
    {
     "data": {
      "text/plain": [
       "author           0\n",
       "comments         0\n",
       "created          0\n",
       "score            0\n",
       "subscribers      0\n",
       "text           694\n",
       "title            0\n",
       "url              0\n",
       "subreddit        0\n",
       "dtype: int64"
      ]
     },
     "execution_count": 6,
     "metadata": {},
     "output_type": "execute_result"
    }
   ],
   "source": [
    "# Check dataframe for total amount of null values\n",
    "nike_df.isnull().sum()"
   ]
  },
  {
   "cell_type": "code",
   "execution_count": 7,
   "metadata": {},
   "outputs": [],
   "source": [
    "# Replace null values in dataframe\n",
    "nike_df.fillna('0', inplace=True)"
   ]
  },
  {
   "cell_type": "code",
   "execution_count": 8,
   "metadata": {
    "scrolled": true
   },
   "outputs": [
    {
     "data": {
      "text/plain": [
       "author         0\n",
       "comments       0\n",
       "created        0\n",
       "score          0\n",
       "subscribers    0\n",
       "text           0\n",
       "title          0\n",
       "url            0\n",
       "subreddit      0\n",
       "dtype: int64"
      ]
     },
     "execution_count": 8,
     "metadata": {},
     "output_type": "execute_result"
    }
   ],
   "source": [
    "# Check to see if replace was successful\n",
    "nike_df.isnull().sum()"
   ]
  },
  {
   "cell_type": "markdown",
   "metadata": {},
   "source": [
    "**Summary Statistics**"
   ]
  },
  {
   "cell_type": "code",
   "execution_count": 9,
   "metadata": {},
   "outputs": [
    {
     "name": "stdout",
     "output_type": "stream",
     "text": [
      "<class 'pandas.core.frame.DataFrame'>\n",
      "RangeIndex: 999 entries, 0 to 998\n",
      "Data columns (total 9 columns):\n",
      "author         999 non-null object\n",
      "comments       999 non-null int64\n",
      "created        999 non-null float64\n",
      "score          999 non-null int64\n",
      "subscribers    999 non-null int64\n",
      "text           999 non-null object\n",
      "title          999 non-null object\n",
      "url            999 non-null object\n",
      "subreddit      999 non-null object\n",
      "dtypes: float64(1), int64(3), object(5)\n",
      "memory usage: 70.3+ KB\n"
     ]
    }
   ],
   "source": [
    "nike_df.info()"
   ]
  },
  {
   "cell_type": "markdown",
   "metadata": {},
   "source": [
    "All columns types are appropriate, but the `created` column is in scientific notation in the dataframe and we want to clean that up so we will convert the dtype of `nike['created']` into integers."
   ]
  },
  {
   "cell_type": "code",
   "execution_count": 10,
   "metadata": {},
   "outputs": [],
   "source": [
    "nike_df['created'] = nike_df['created'].astype(int)"
   ]
  },
  {
   "cell_type": "code",
   "execution_count": 11,
   "metadata": {},
   "outputs": [
    {
     "data": {
      "text/html": [
       "<div>\n",
       "<style scoped>\n",
       "    .dataframe tbody tr th:only-of-type {\n",
       "        vertical-align: middle;\n",
       "    }\n",
       "\n",
       "    .dataframe tbody tr th {\n",
       "        vertical-align: top;\n",
       "    }\n",
       "\n",
       "    .dataframe thead th {\n",
       "        text-align: right;\n",
       "    }\n",
       "</style>\n",
       "<table border=\"1\" class=\"dataframe\">\n",
       "  <thead>\n",
       "    <tr style=\"text-align: right;\">\n",
       "      <th></th>\n",
       "      <th>author</th>\n",
       "      <th>comments</th>\n",
       "      <th>created</th>\n",
       "      <th>score</th>\n",
       "      <th>subscribers</th>\n",
       "      <th>text</th>\n",
       "      <th>title</th>\n",
       "      <th>url</th>\n",
       "      <th>subreddit</th>\n",
       "    </tr>\n",
       "  </thead>\n",
       "  <tbody>\n",
       "    <tr>\n",
       "      <th>0</th>\n",
       "      <td>jeremec</td>\n",
       "      <td>1</td>\n",
       "      <td>1456352296</td>\n",
       "      <td>18</td>\n",
       "      <td>11043</td>\n",
       "      <td>Please note that any product from a previous s...</td>\n",
       "      <td>Tips for identifying Nike Product</td>\n",
       "      <td>https://www.reddit.com/r/Nike/comments/47fex4/...</td>\n",
       "      <td>Nike</td>\n",
       "    </tr>\n",
       "    <tr>\n",
       "      <th>1</th>\n",
       "      <td>lavienstyle</td>\n",
       "      <td>2</td>\n",
       "      <td>1545215250</td>\n",
       "      <td>8</td>\n",
       "      <td>11043</td>\n",
       "      <td>0</td>\n",
       "      <td>What’s this called?</td>\n",
       "      <td>https://i.redd.it/hjnoz5gqo7521.jpg</td>\n",
       "      <td>Nike</td>\n",
       "    </tr>\n",
       "    <tr>\n",
       "      <th>2</th>\n",
       "      <td>azndkflush</td>\n",
       "      <td>0</td>\n",
       "      <td>1545232035</td>\n",
       "      <td>1</td>\n",
       "      <td>11043</td>\n",
       "      <td>0</td>\n",
       "      <td>[LC] OW NIKE PRESTO :D!</td>\n",
       "      <td>https://imgur.com/gallery/Aykz7YX</td>\n",
       "      <td>Nike</td>\n",
       "    </tr>\n",
       "    <tr>\n",
       "      <th>3</th>\n",
       "      <td>hiding_in_NJ</td>\n",
       "      <td>2</td>\n",
       "      <td>1545150078</td>\n",
       "      <td>49</td>\n",
       "      <td>11043</td>\n",
       "      <td>0</td>\n",
       "      <td>3D printed Jordan 1s by me</td>\n",
       "      <td>https://i.redd.it/j4oaab0za2521.jpg</td>\n",
       "      <td>Nike</td>\n",
       "    </tr>\n",
       "    <tr>\n",
       "      <th>4</th>\n",
       "      <td>nitr0h</td>\n",
       "      <td>0</td>\n",
       "      <td>1545202806</td>\n",
       "      <td>2</td>\n",
       "      <td>11043</td>\n",
       "      <td>http://www.jimmyjazz.com/boys/clothing/nike-bl...</td>\n",
       "      <td>need help finding this tracksuit in mens</td>\n",
       "      <td>https://www.reddit.com/r/Nike/comments/a7k2nd/...</td>\n",
       "      <td>Nike</td>\n",
       "    </tr>\n",
       "  </tbody>\n",
       "</table>\n",
       "</div>"
      ],
      "text/plain": [
       "         author  comments     created  score  subscribers  \\\n",
       "0       jeremec         1  1456352296     18        11043   \n",
       "1   lavienstyle         2  1545215250      8        11043   \n",
       "2    azndkflush         0  1545232035      1        11043   \n",
       "3  hiding_in_NJ         2  1545150078     49        11043   \n",
       "4        nitr0h         0  1545202806      2        11043   \n",
       "\n",
       "                                                text  \\\n",
       "0  Please note that any product from a previous s...   \n",
       "1                                                  0   \n",
       "2                                                  0   \n",
       "3                                                  0   \n",
       "4  http://www.jimmyjazz.com/boys/clothing/nike-bl...   \n",
       "\n",
       "                                      title  \\\n",
       "0         Tips for identifying Nike Product   \n",
       "1                       What’s this called?   \n",
       "2                   [LC] OW NIKE PRESTO :D!   \n",
       "3                3D printed Jordan 1s by me   \n",
       "4  need help finding this tracksuit in mens   \n",
       "\n",
       "                                                 url subreddit  \n",
       "0  https://www.reddit.com/r/Nike/comments/47fex4/...      Nike  \n",
       "1                https://i.redd.it/hjnoz5gqo7521.jpg      Nike  \n",
       "2                  https://imgur.com/gallery/Aykz7YX      Nike  \n",
       "3                https://i.redd.it/j4oaab0za2521.jpg      Nike  \n",
       "4  https://www.reddit.com/r/Nike/comments/a7k2nd/...      Nike  "
      ]
     },
     "execution_count": 11,
     "metadata": {},
     "output_type": "execute_result"
    }
   ],
   "source": [
    "# Now the numbers in the created column are no longer in scientific notation\n",
    "nike_df.head()"
   ]
  },
  {
   "cell_type": "markdown",
   "metadata": {},
   "source": [
    "The integer in the `created` column indicates a unix timestamp which indicates how old a post is in seconds since its creation. The base epoch year of creation begins in 1970. The `lambda` function below converts all integers in the `created` column into another integer indicating the number of weeks after the epoch year that the post was created. The `lambda` function takes the integer, `x`, and divides it by the number of seconds in a week. "
   ]
  },
  {
   "cell_type": "code",
   "execution_count": 12,
   "metadata": {},
   "outputs": [],
   "source": [
    "nike_df['created'] = nike_df['created'].map(lambda x: int(x/604800))"
   ]
  },
  {
   "cell_type": "code",
   "execution_count": 187,
   "metadata": {},
   "outputs": [
    {
     "data": {
      "text/html": [
       "<div>\n",
       "<style scoped>\n",
       "    .dataframe tbody tr th:only-of-type {\n",
       "        vertical-align: middle;\n",
       "    }\n",
       "\n",
       "    .dataframe tbody tr th {\n",
       "        vertical-align: top;\n",
       "    }\n",
       "\n",
       "    .dataframe thead th {\n",
       "        text-align: right;\n",
       "    }\n",
       "</style>\n",
       "<table border=\"1\" class=\"dataframe\">\n",
       "  <thead>\n",
       "    <tr style=\"text-align: right;\">\n",
       "      <th></th>\n",
       "      <th>author</th>\n",
       "      <th>comments</th>\n",
       "      <th>created</th>\n",
       "      <th>score</th>\n",
       "      <th>subscribers</th>\n",
       "      <th>text</th>\n",
       "      <th>title</th>\n",
       "      <th>url</th>\n",
       "      <th>subreddit</th>\n",
       "    </tr>\n",
       "  </thead>\n",
       "  <tbody>\n",
       "    <tr>\n",
       "      <th>0</th>\n",
       "      <td>jeremec</td>\n",
       "      <td>1</td>\n",
       "      <td>2407</td>\n",
       "      <td>18</td>\n",
       "      <td>11043</td>\n",
       "      <td>Please note that any product from a previous s...</td>\n",
       "      <td>Tips for identifying Nike Product</td>\n",
       "      <td>https://www.reddit.com/r/Nike/comments/47fex4/...</td>\n",
       "      <td>Nike</td>\n",
       "    </tr>\n",
       "    <tr>\n",
       "      <th>1</th>\n",
       "      <td>lavienstyle</td>\n",
       "      <td>2</td>\n",
       "      <td>2554</td>\n",
       "      <td>8</td>\n",
       "      <td>11043</td>\n",
       "      <td>0</td>\n",
       "      <td>What’s this called?</td>\n",
       "      <td>https://i.redd.it/hjnoz5gqo7521.jpg</td>\n",
       "      <td>Nike</td>\n",
       "    </tr>\n",
       "    <tr>\n",
       "      <th>2</th>\n",
       "      <td>azndkflush</td>\n",
       "      <td>0</td>\n",
       "      <td>2554</td>\n",
       "      <td>1</td>\n",
       "      <td>11043</td>\n",
       "      <td>0</td>\n",
       "      <td>[LC] OW NIKE PRESTO :D!</td>\n",
       "      <td>https://imgur.com/gallery/Aykz7YX</td>\n",
       "      <td>Nike</td>\n",
       "    </tr>\n",
       "    <tr>\n",
       "      <th>3</th>\n",
       "      <td>hiding_in_NJ</td>\n",
       "      <td>2</td>\n",
       "      <td>2554</td>\n",
       "      <td>49</td>\n",
       "      <td>11043</td>\n",
       "      <td>0</td>\n",
       "      <td>3D printed Jordan 1s by me</td>\n",
       "      <td>https://i.redd.it/j4oaab0za2521.jpg</td>\n",
       "      <td>Nike</td>\n",
       "    </tr>\n",
       "    <tr>\n",
       "      <th>4</th>\n",
       "      <td>nitr0h</td>\n",
       "      <td>0</td>\n",
       "      <td>2554</td>\n",
       "      <td>2</td>\n",
       "      <td>11043</td>\n",
       "      <td>http://www.jimmyjazz.com/boys/clothing/nike-bl...</td>\n",
       "      <td>need help finding this tracksuit in mens</td>\n",
       "      <td>https://www.reddit.com/r/Nike/comments/a7k2nd/...</td>\n",
       "      <td>Nike</td>\n",
       "    </tr>\n",
       "  </tbody>\n",
       "</table>\n",
       "</div>"
      ],
      "text/plain": [
       "         author  comments  created  score  subscribers  \\\n",
       "0       jeremec         1     2407     18        11043   \n",
       "1   lavienstyle         2     2554      8        11043   \n",
       "2    azndkflush         0     2554      1        11043   \n",
       "3  hiding_in_NJ         2     2554     49        11043   \n",
       "4        nitr0h         0     2554      2        11043   \n",
       "\n",
       "                                                text  \\\n",
       "0  Please note that any product from a previous s...   \n",
       "1                                                  0   \n",
       "2                                                  0   \n",
       "3                                                  0   \n",
       "4  http://www.jimmyjazz.com/boys/clothing/nike-bl...   \n",
       "\n",
       "                                      title  \\\n",
       "0         Tips for identifying Nike Product   \n",
       "1                       What’s this called?   \n",
       "2                   [LC] OW NIKE PRESTO :D!   \n",
       "3                3D printed Jordan 1s by me   \n",
       "4  need help finding this tracksuit in mens   \n",
       "\n",
       "                                                 url subreddit  \n",
       "0  https://www.reddit.com/r/Nike/comments/47fex4/...      Nike  \n",
       "1                https://i.redd.it/hjnoz5gqo7521.jpg      Nike  \n",
       "2                  https://imgur.com/gallery/Aykz7YX      Nike  \n",
       "3                https://i.redd.it/j4oaab0za2521.jpg      Nike  \n",
       "4  https://www.reddit.com/r/Nike/comments/a7k2nd/...      Nike  "
      ]
     },
     "execution_count": 187,
     "metadata": {},
     "output_type": "execute_result"
    }
   ],
   "source": [
    "nike_df.head()"
   ]
  },
  {
   "cell_type": "code",
   "execution_count": 14,
   "metadata": {
    "scrolled": true
   },
   "outputs": [
    {
     "data": {
      "text/html": [
       "<div>\n",
       "<style scoped>\n",
       "    .dataframe tbody tr th:only-of-type {\n",
       "        vertical-align: middle;\n",
       "    }\n",
       "\n",
       "    .dataframe tbody tr th {\n",
       "        vertical-align: top;\n",
       "    }\n",
       "\n",
       "    .dataframe thead th {\n",
       "        text-align: right;\n",
       "    }\n",
       "</style>\n",
       "<table border=\"1\" class=\"dataframe\">\n",
       "  <thead>\n",
       "    <tr style=\"text-align: right;\">\n",
       "      <th></th>\n",
       "      <th>count</th>\n",
       "      <th>mean</th>\n",
       "      <th>std</th>\n",
       "      <th>min</th>\n",
       "      <th>25%</th>\n",
       "      <th>50%</th>\n",
       "      <th>75%</th>\n",
       "      <th>max</th>\n",
       "    </tr>\n",
       "  </thead>\n",
       "  <tbody>\n",
       "    <tr>\n",
       "      <th>comments</th>\n",
       "      <td>999.0</td>\n",
       "      <td>2.899900</td>\n",
       "      <td>4.163010</td>\n",
       "      <td>0.0</td>\n",
       "      <td>0.0</td>\n",
       "      <td>2.0</td>\n",
       "      <td>4.0</td>\n",
       "      <td>41.0</td>\n",
       "    </tr>\n",
       "    <tr>\n",
       "      <th>created</th>\n",
       "      <td>999.0</td>\n",
       "      <td>2544.474474</td>\n",
       "      <td>7.200054</td>\n",
       "      <td>2407.0</td>\n",
       "      <td>2540.0</td>\n",
       "      <td>2544.0</td>\n",
       "      <td>2550.0</td>\n",
       "      <td>2554.0</td>\n",
       "    </tr>\n",
       "    <tr>\n",
       "      <th>score</th>\n",
       "      <td>999.0</td>\n",
       "      <td>8.817818</td>\n",
       "      <td>16.561201</td>\n",
       "      <td>0.0</td>\n",
       "      <td>1.0</td>\n",
       "      <td>2.0</td>\n",
       "      <td>8.0</td>\n",
       "      <td>173.0</td>\n",
       "    </tr>\n",
       "    <tr>\n",
       "      <th>subscribers</th>\n",
       "      <td>999.0</td>\n",
       "      <td>11043.000000</td>\n",
       "      <td>0.000000</td>\n",
       "      <td>11043.0</td>\n",
       "      <td>11043.0</td>\n",
       "      <td>11043.0</td>\n",
       "      <td>11043.0</td>\n",
       "      <td>11043.0</td>\n",
       "    </tr>\n",
       "  </tbody>\n",
       "</table>\n",
       "</div>"
      ],
      "text/plain": [
       "             count          mean        std      min      25%      50%  \\\n",
       "comments     999.0      2.899900   4.163010      0.0      0.0      2.0   \n",
       "created      999.0   2544.474474   7.200054   2407.0   2540.0   2544.0   \n",
       "score        999.0      8.817818  16.561201      0.0      1.0      2.0   \n",
       "subscribers  999.0  11043.000000   0.000000  11043.0  11043.0  11043.0   \n",
       "\n",
       "                 75%      max  \n",
       "comments         4.0     41.0  \n",
       "created       2550.0   2554.0  \n",
       "score            8.0    173.0  \n",
       "subscribers  11043.0  11043.0  "
      ]
     },
     "execution_count": 14,
     "metadata": {},
     "output_type": "execute_result"
    }
   ],
   "source": [
    "nike_df.describe().T"
   ]
  },
  {
   "cell_type": "markdown",
   "metadata": {},
   "source": [
    "**Plot distributions for appropriate numeric columns**"
   ]
  },
  {
   "cell_type": "code",
   "execution_count": 15,
   "metadata": {},
   "outputs": [
    {
     "data": {
      "image/png": "[encoded data removed]",
      "text/plain": [
       "<Figure size 432x288 with 1 Axes>"
      ]
     },
     "metadata": {
      "needs_background": "light"
     },
     "output_type": "display_data"
    }
   ],
   "source": [
    "plt.title('Distribution of Comments')\n",
    "plt.hist(nike_df['comments'], bins=3, color='darkgreen');"
   ]
  },
  {
   "cell_type": "code",
   "execution_count": 16,
   "metadata": {},
   "outputs": [
    {
     "data": {
      "image/png": "[encoded data removed]",
      "text/plain": [
       "<Figure size 432x288 with 1 Axes>"
      ]
     },
     "metadata": {
      "needs_background": "light"
     },
     "output_type": "display_data"
    }
   ],
   "source": [
    "plt.title('Distribution of Comments')\n",
    "sns.boxplot(nike_df['comments'], color='darkgreen');"
   ]
  },
  {
   "cell_type": "markdown",
   "metadata": {},
   "source": [
    "**In the case of number of comments on a given post, the outliers are not inherently significant to 'fix'.**"
   ]
  },
  {
   "cell_type": "code",
   "execution_count": 17,
   "metadata": {},
   "outputs": [
    {
     "data": {
      "image/png": "[encoded data removed]",
      "text/plain": [
       "<Figure size 432x288 with 1 Axes>"
      ]
     },
     "metadata": {
      "needs_background": "light"
     },
     "output_type": "display_data"
    }
   ],
   "source": [
    "plt.title('Distribution of Weeks Passed Since Creation')\n",
    "plt.hist(nike_df['created'], bins=40, color='darkgreen');"
   ]
  },
  {
   "cell_type": "code",
   "execution_count": 166,
   "metadata": {},
   "outputs": [
    {
     "data": {
      "image/png": "[encoded data removed]",
      "text/plain": [
       "<Figure size 432x288 with 1 Axes>"
      ]
     },
     "metadata": {
      "needs_background": "light"
     },
     "output_type": "display_data"
    }
   ],
   "source": [
    "plt.title('Distribution of Weeks Passed Since Creation')\n",
    "sns.boxplot(nike_df['created'], color='darkgreen');"
   ]
  },
  {
   "cell_type": "markdown",
   "metadata": {},
   "source": [
    "The outlier above represents a stickied post. A stickied post is created by a moderator of the subreddit that sticks this post at the beginning of the subreddit so it cannot be moved. A stickied post is normally created closer to the origination of the subreddit so it makes sense that this post is newer than the others in the subreddit."
   ]
  },
  {
   "cell_type": "code",
   "execution_count": 43,
   "metadata": {},
   "outputs": [
    {
     "data": {
      "image/png": "[encoded data removed]",
      "text/plain": [
       "<Figure size 432x288 with 1 Axes>"
      ]
     },
     "metadata": {
      "needs_background": "light"
     },
     "output_type": "display_data"
    }
   ],
   "source": [
    "plt.title('Distribution of Post Score')\n",
    "plt.hist(nike_df['score'], bins=4, color='darkgreen');"
   ]
  },
  {
   "cell_type": "code",
   "execution_count": 44,
   "metadata": {},
   "outputs": [
    {
     "data": {
      "image/png": "[encoded data removed]",
      "text/plain": [
       "<Figure size 432x288 with 1 Axes>"
      ]
     },
     "metadata": {
      "needs_background": "light"
     },
     "output_type": "display_data"
    }
   ],
   "source": [
    "plt.title('Distribution of Post Score')\n",
    "sns.boxplot(nike_df['score'], color='darkgreen');"
   ]
  },
  {
   "cell_type": "markdown",
   "metadata": {},
   "source": [
    "A given posts score is calculated by `post_upvotes - post_downvotes`. Posts with high scores are the posts with the most net upvotes."
   ]
  },
  {
   "cell_type": "markdown",
   "metadata": {},
   "source": [
    "## Adidas dataframe cleaning and EDA"
   ]
  },
  {
   "cell_type": "code",
   "execution_count": 19,
   "metadata": {},
   "outputs": [
    {
     "data": {
      "text/html": [
       "<div>\n",
       "<style scoped>\n",
       "    .dataframe tbody tr th:only-of-type {\n",
       "        vertical-align: middle;\n",
       "    }\n",
       "\n",
       "    .dataframe tbody tr th {\n",
       "        vertical-align: top;\n",
       "    }\n",
       "\n",
       "    .dataframe thead th {\n",
       "        text-align: right;\n",
       "    }\n",
       "</style>\n",
       "<table border=\"1\" class=\"dataframe\">\n",
       "  <thead>\n",
       "    <tr style=\"text-align: right;\">\n",
       "      <th></th>\n",
       "      <th>Unnamed: 0</th>\n",
       "      <th>author</th>\n",
       "      <th>comments</th>\n",
       "      <th>created</th>\n",
       "      <th>score</th>\n",
       "      <th>subreddit</th>\n",
       "      <th>subscribers</th>\n",
       "      <th>text</th>\n",
       "      <th>title</th>\n",
       "      <th>url</th>\n",
       "    </tr>\n",
       "  </thead>\n",
       "  <tbody>\n",
       "    <tr>\n",
       "      <th>0</th>\n",
       "      <td>0</td>\n",
       "      <td>jeremec</td>\n",
       "      <td>0</td>\n",
       "      <td>1.513752e+09</td>\n",
       "      <td>18</td>\n",
       "      <td>adidas</td>\n",
       "      <td>9666</td>\n",
       "      <td>With holidays coming around, and a lot of big ...</td>\n",
       "      <td>Just a friendly holiday reminder about CS ques...</td>\n",
       "      <td>https://www.reddit.com/r/adidas/comments/7kzpb...</td>\n",
       "    </tr>\n",
       "    <tr>\n",
       "      <th>1</th>\n",
       "      <td>1</td>\n",
       "      <td>lavienstyle</td>\n",
       "      <td>5</td>\n",
       "      <td>1.545224e+09</td>\n",
       "      <td>8</td>\n",
       "      <td>adidas</td>\n",
       "      <td>9666</td>\n",
       "      <td>I have pair of Alphabounces that I think are j...</td>\n",
       "      <td>How warm are the Ultra Boosts?</td>\n",
       "      <td>https://www.reddit.com/r/adidas/comments/a7m6t...</td>\n",
       "    </tr>\n",
       "    <tr>\n",
       "      <th>2</th>\n",
       "      <td>2</td>\n",
       "      <td>azndkflush</td>\n",
       "      <td>0</td>\n",
       "      <td>1.545176e+09</td>\n",
       "      <td>1</td>\n",
       "      <td>adidas</td>\n",
       "      <td>9666</td>\n",
       "      <td>NaN</td>\n",
       "      <td>Here's my (Small) collection!</td>\n",
       "      <td>https://imgur.com/a/3uEHrDf</td>\n",
       "    </tr>\n",
       "    <tr>\n",
       "      <th>3</th>\n",
       "      <td>3</td>\n",
       "      <td>hiding_in_NJ</td>\n",
       "      <td>1</td>\n",
       "      <td>1.545158e+09</td>\n",
       "      <td>49</td>\n",
       "      <td>adidas</td>\n",
       "      <td>9666</td>\n",
       "      <td>NaN</td>\n",
       "      <td>ID on these. Says they're 08/03.</td>\n",
       "      <td>https://imgur.com/Oi5Dz5G</td>\n",
       "    </tr>\n",
       "    <tr>\n",
       "      <th>4</th>\n",
       "      <td>4</td>\n",
       "      <td>nitr0h</td>\n",
       "      <td>9</td>\n",
       "      <td>1.545120e+09</td>\n",
       "      <td>2</td>\n",
       "      <td>adidas</td>\n",
       "      <td>9666</td>\n",
       "      <td>NaN</td>\n",
       "      <td>Awkward flex .</td>\n",
       "      <td>https://i.redd.it/wln7dfhruz421.jpg</td>\n",
       "    </tr>\n",
       "  </tbody>\n",
       "</table>\n",
       "</div>"
      ],
      "text/plain": [
       "   Unnamed: 0        author  comments       created  score subreddit  \\\n",
       "0           0       jeremec         0  1.513752e+09     18    adidas   \n",
       "1           1   lavienstyle         5  1.545224e+09      8    adidas   \n",
       "2           2    azndkflush         0  1.545176e+09      1    adidas   \n",
       "3           3  hiding_in_NJ         1  1.545158e+09     49    adidas   \n",
       "4           4        nitr0h         9  1.545120e+09      2    adidas   \n",
       "\n",
       "   subscribers                                               text  \\\n",
       "0         9666  With holidays coming around, and a lot of big ...   \n",
       "1         9666  I have pair of Alphabounces that I think are j...   \n",
       "2         9666                                                NaN   \n",
       "3         9666                                                NaN   \n",
       "4         9666                                                NaN   \n",
       "\n",
       "                                               title  \\\n",
       "0  Just a friendly holiday reminder about CS ques...   \n",
       "1                     How warm are the Ultra Boosts?   \n",
       "2                      Here's my (Small) collection!   \n",
       "3                   ID on these. Says they're 08/03.   \n",
       "4                                     Awkward flex .   \n",
       "\n",
       "                                                 url  \n",
       "0  https://www.reddit.com/r/adidas/comments/7kzpb...  \n",
       "1  https://www.reddit.com/r/adidas/comments/a7m6t...  \n",
       "2                        https://imgur.com/a/3uEHrDf  \n",
       "3                          https://imgur.com/Oi5Dz5G  \n",
       "4                https://i.redd.it/wln7dfhruz421.jpg  "
      ]
     },
     "execution_count": 19,
     "metadata": {},
     "output_type": "execute_result"
    }
   ],
   "source": [
    "adidas_df.head()"
   ]
  },
  {
   "cell_type": "markdown",
   "metadata": {},
   "source": [
    "**Drop `Unnamed: 0` column**"
   ]
  },
  {
   "cell_type": "code",
   "execution_count": 20,
   "metadata": {},
   "outputs": [],
   "source": [
    "adidas_df.drop('Unnamed: 0', axis=1, inplace=True)"
   ]
  },
  {
   "cell_type": "markdown",
   "metadata": {},
   "source": [
    "**Change column order**"
   ]
  },
  {
   "cell_type": "code",
   "execution_count": 21,
   "metadata": {},
   "outputs": [
    {
     "data": {
      "text/html": [
       "<div>\n",
       "<style scoped>\n",
       "    .dataframe tbody tr th:only-of-type {\n",
       "        vertical-align: middle;\n",
       "    }\n",
       "\n",
       "    .dataframe tbody tr th {\n",
       "        vertical-align: top;\n",
       "    }\n",
       "\n",
       "    .dataframe thead th {\n",
       "        text-align: right;\n",
       "    }\n",
       "</style>\n",
       "<table border=\"1\" class=\"dataframe\">\n",
       "  <thead>\n",
       "    <tr style=\"text-align: right;\">\n",
       "      <th></th>\n",
       "      <th>author</th>\n",
       "      <th>comments</th>\n",
       "      <th>created</th>\n",
       "      <th>score</th>\n",
       "      <th>subscribers</th>\n",
       "      <th>text</th>\n",
       "      <th>title</th>\n",
       "      <th>url</th>\n",
       "      <th>subreddit</th>\n",
       "    </tr>\n",
       "  </thead>\n",
       "  <tbody>\n",
       "    <tr>\n",
       "      <th>0</th>\n",
       "      <td>jeremec</td>\n",
       "      <td>0</td>\n",
       "      <td>1.513752e+09</td>\n",
       "      <td>18</td>\n",
       "      <td>9666</td>\n",
       "      <td>With holidays coming around, and a lot of big ...</td>\n",
       "      <td>Just a friendly holiday reminder about CS ques...</td>\n",
       "      <td>https://www.reddit.com/r/adidas/comments/7kzpb...</td>\n",
       "      <td>adidas</td>\n",
       "    </tr>\n",
       "    <tr>\n",
       "      <th>1</th>\n",
       "      <td>lavienstyle</td>\n",
       "      <td>5</td>\n",
       "      <td>1.545224e+09</td>\n",
       "      <td>8</td>\n",
       "      <td>9666</td>\n",
       "      <td>I have pair of Alphabounces that I think are j...</td>\n",
       "      <td>How warm are the Ultra Boosts?</td>\n",
       "      <td>https://www.reddit.com/r/adidas/comments/a7m6t...</td>\n",
       "      <td>adidas</td>\n",
       "    </tr>\n",
       "    <tr>\n",
       "      <th>2</th>\n",
       "      <td>azndkflush</td>\n",
       "      <td>0</td>\n",
       "      <td>1.545176e+09</td>\n",
       "      <td>1</td>\n",
       "      <td>9666</td>\n",
       "      <td>NaN</td>\n",
       "      <td>Here's my (Small) collection!</td>\n",
       "      <td>https://imgur.com/a/3uEHrDf</td>\n",
       "      <td>adidas</td>\n",
       "    </tr>\n",
       "    <tr>\n",
       "      <th>3</th>\n",
       "      <td>hiding_in_NJ</td>\n",
       "      <td>1</td>\n",
       "      <td>1.545158e+09</td>\n",
       "      <td>49</td>\n",
       "      <td>9666</td>\n",
       "      <td>NaN</td>\n",
       "      <td>ID on these. Says they're 08/03.</td>\n",
       "      <td>https://imgur.com/Oi5Dz5G</td>\n",
       "      <td>adidas</td>\n",
       "    </tr>\n",
       "    <tr>\n",
       "      <th>4</th>\n",
       "      <td>nitr0h</td>\n",
       "      <td>9</td>\n",
       "      <td>1.545120e+09</td>\n",
       "      <td>2</td>\n",
       "      <td>9666</td>\n",
       "      <td>NaN</td>\n",
       "      <td>Awkward flex .</td>\n",
       "      <td>https://i.redd.it/wln7dfhruz421.jpg</td>\n",
       "      <td>adidas</td>\n",
       "    </tr>\n",
       "  </tbody>\n",
       "</table>\n",
       "</div>"
      ],
      "text/plain": [
       "         author  comments       created  score  subscribers  \\\n",
       "0       jeremec         0  1.513752e+09     18         9666   \n",
       "1   lavienstyle         5  1.545224e+09      8         9666   \n",
       "2    azndkflush         0  1.545176e+09      1         9666   \n",
       "3  hiding_in_NJ         1  1.545158e+09     49         9666   \n",
       "4        nitr0h         9  1.545120e+09      2         9666   \n",
       "\n",
       "                                                text  \\\n",
       "0  With holidays coming around, and a lot of big ...   \n",
       "1  I have pair of Alphabounces that I think are j...   \n",
       "2                                                NaN   \n",
       "3                                                NaN   \n",
       "4                                                NaN   \n",
       "\n",
       "                                               title  \\\n",
       "0  Just a friendly holiday reminder about CS ques...   \n",
       "1                     How warm are the Ultra Boosts?   \n",
       "2                      Here's my (Small) collection!   \n",
       "3                   ID on these. Says they're 08/03.   \n",
       "4                                     Awkward flex .   \n",
       "\n",
       "                                                 url subreddit  \n",
       "0  https://www.reddit.com/r/adidas/comments/7kzpb...    adidas  \n",
       "1  https://www.reddit.com/r/adidas/comments/a7m6t...    adidas  \n",
       "2                        https://imgur.com/a/3uEHrDf    adidas  \n",
       "3                          https://imgur.com/Oi5Dz5G    adidas  \n",
       "4                https://i.redd.it/wln7dfhruz421.jpg    adidas  "
      ]
     },
     "execution_count": 21,
     "metadata": {},
     "output_type": "execute_result"
    }
   ],
   "source": [
    "# Moving the subreddit column to the end for the eventual merge with the Nike dataframe\n",
    "# This will be the y_value\n",
    "adidas_df = adidas_df[['author', 'comments', 'created', 'score', 'subscribers', 'text', 'title', 'url', 'subreddit']]\n",
    "adidas_df.head()"
   ]
  },
  {
   "cell_type": "markdown",
   "metadata": {},
   "source": [
    "**Check for, explore and handle null values**"
   ]
  },
  {
   "cell_type": "code",
   "execution_count": 22,
   "metadata": {},
   "outputs": [
    {
     "data": {
      "text/plain": [
       "author           0\n",
       "comments         0\n",
       "created          0\n",
       "score            0\n",
       "subscribers      0\n",
       "text           613\n",
       "title            0\n",
       "url              0\n",
       "subreddit        0\n",
       "dtype: int64"
      ]
     },
     "execution_count": 22,
     "metadata": {},
     "output_type": "execute_result"
    }
   ],
   "source": [
    "# Check dataframe for total amount of null values\n",
    "adidas_df.isnull().sum()"
   ]
  },
  {
   "cell_type": "code",
   "execution_count": 23,
   "metadata": {},
   "outputs": [],
   "source": [
    "# Replace null values in dataframe\n",
    "adidas_df.fillna('0', inplace=True)"
   ]
  },
  {
   "cell_type": "code",
   "execution_count": 24,
   "metadata": {
    "scrolled": true
   },
   "outputs": [
    {
     "data": {
      "text/plain": [
       "author         0\n",
       "comments       0\n",
       "created        0\n",
       "score          0\n",
       "subscribers    0\n",
       "text           0\n",
       "title          0\n",
       "url            0\n",
       "subreddit      0\n",
       "dtype: int64"
      ]
     },
     "execution_count": 24,
     "metadata": {},
     "output_type": "execute_result"
    }
   ],
   "source": [
    "# Check to see if replace was successful\n",
    "adidas_df.isnull().sum()"
   ]
  },
  {
   "cell_type": "markdown",
   "metadata": {},
   "source": [
    "**Summary Statistics**"
   ]
  },
  {
   "cell_type": "code",
   "execution_count": 25,
   "metadata": {},
   "outputs": [
    {
     "name": "stdout",
     "output_type": "stream",
     "text": [
      "<class 'pandas.core.frame.DataFrame'>\n",
      "RangeIndex: 992 entries, 0 to 991\n",
      "Data columns (total 9 columns):\n",
      "author         992 non-null object\n",
      "comments       992 non-null int64\n",
      "created        992 non-null float64\n",
      "score          992 non-null int64\n",
      "subscribers    992 non-null int64\n",
      "text           992 non-null object\n",
      "title          992 non-null object\n",
      "url            992 non-null object\n",
      "subreddit      992 non-null object\n",
      "dtypes: float64(1), int64(3), object(5)\n",
      "memory usage: 69.8+ KB\n"
     ]
    }
   ],
   "source": [
    "adidas_df.info()"
   ]
  },
  {
   "cell_type": "markdown",
   "metadata": {},
   "source": [
    "All columns types are appropriate, but the `created` column ids in scientific notation in the dataframe and we want to clean that up so we will convert the dtype of `adidas['created']` into integers."
   ]
  },
  {
   "cell_type": "code",
   "execution_count": 26,
   "metadata": {},
   "outputs": [],
   "source": [
    "adidas_df['created'] = adidas_df['created'].astype(int)"
   ]
  },
  {
   "cell_type": "code",
   "execution_count": 27,
   "metadata": {},
   "outputs": [
    {
     "data": {
      "text/html": [
       "<div>\n",
       "<style scoped>\n",
       "    .dataframe tbody tr th:only-of-type {\n",
       "        vertical-align: middle;\n",
       "    }\n",
       "\n",
       "    .dataframe tbody tr th {\n",
       "        vertical-align: top;\n",
       "    }\n",
       "\n",
       "    .dataframe thead th {\n",
       "        text-align: right;\n",
       "    }\n",
       "</style>\n",
       "<table border=\"1\" class=\"dataframe\">\n",
       "  <thead>\n",
       "    <tr style=\"text-align: right;\">\n",
       "      <th></th>\n",
       "      <th>author</th>\n",
       "      <th>comments</th>\n",
       "      <th>created</th>\n",
       "      <th>score</th>\n",
       "      <th>subscribers</th>\n",
       "      <th>text</th>\n",
       "      <th>title</th>\n",
       "      <th>url</th>\n",
       "      <th>subreddit</th>\n",
       "    </tr>\n",
       "  </thead>\n",
       "  <tbody>\n",
       "    <tr>\n",
       "      <th>0</th>\n",
       "      <td>jeremec</td>\n",
       "      <td>0</td>\n",
       "      <td>1513752356</td>\n",
       "      <td>18</td>\n",
       "      <td>9666</td>\n",
       "      <td>With holidays coming around, and a lot of big ...</td>\n",
       "      <td>Just a friendly holiday reminder about CS ques...</td>\n",
       "      <td>https://www.reddit.com/r/adidas/comments/7kzpb...</td>\n",
       "      <td>adidas</td>\n",
       "    </tr>\n",
       "    <tr>\n",
       "      <th>1</th>\n",
       "      <td>lavienstyle</td>\n",
       "      <td>5</td>\n",
       "      <td>1545224346</td>\n",
       "      <td>8</td>\n",
       "      <td>9666</td>\n",
       "      <td>I have pair of Alphabounces that I think are j...</td>\n",
       "      <td>How warm are the Ultra Boosts?</td>\n",
       "      <td>https://www.reddit.com/r/adidas/comments/a7m6t...</td>\n",
       "      <td>adidas</td>\n",
       "    </tr>\n",
       "    <tr>\n",
       "      <th>2</th>\n",
       "      <td>azndkflush</td>\n",
       "      <td>0</td>\n",
       "      <td>1545176462</td>\n",
       "      <td>1</td>\n",
       "      <td>9666</td>\n",
       "      <td>0</td>\n",
       "      <td>Here's my (Small) collection!</td>\n",
       "      <td>https://imgur.com/a/3uEHrDf</td>\n",
       "      <td>adidas</td>\n",
       "    </tr>\n",
       "    <tr>\n",
       "      <th>3</th>\n",
       "      <td>hiding_in_NJ</td>\n",
       "      <td>1</td>\n",
       "      <td>1545158013</td>\n",
       "      <td>49</td>\n",
       "      <td>9666</td>\n",
       "      <td>0</td>\n",
       "      <td>ID on these. Says they're 08/03.</td>\n",
       "      <td>https://imgur.com/Oi5Dz5G</td>\n",
       "      <td>adidas</td>\n",
       "    </tr>\n",
       "    <tr>\n",
       "      <th>4</th>\n",
       "      <td>nitr0h</td>\n",
       "      <td>9</td>\n",
       "      <td>1545120429</td>\n",
       "      <td>2</td>\n",
       "      <td>9666</td>\n",
       "      <td>0</td>\n",
       "      <td>Awkward flex .</td>\n",
       "      <td>https://i.redd.it/wln7dfhruz421.jpg</td>\n",
       "      <td>adidas</td>\n",
       "    </tr>\n",
       "  </tbody>\n",
       "</table>\n",
       "</div>"
      ],
      "text/plain": [
       "         author  comments     created  score  subscribers  \\\n",
       "0       jeremec         0  1513752356     18         9666   \n",
       "1   lavienstyle         5  1545224346      8         9666   \n",
       "2    azndkflush         0  1545176462      1         9666   \n",
       "3  hiding_in_NJ         1  1545158013     49         9666   \n",
       "4        nitr0h         9  1545120429      2         9666   \n",
       "\n",
       "                                                text  \\\n",
       "0  With holidays coming around, and a lot of big ...   \n",
       "1  I have pair of Alphabounces that I think are j...   \n",
       "2                                                  0   \n",
       "3                                                  0   \n",
       "4                                                  0   \n",
       "\n",
       "                                               title  \\\n",
       "0  Just a friendly holiday reminder about CS ques...   \n",
       "1                     How warm are the Ultra Boosts?   \n",
       "2                      Here's my (Small) collection!   \n",
       "3                   ID on these. Says they're 08/03.   \n",
       "4                                     Awkward flex .   \n",
       "\n",
       "                                                 url subreddit  \n",
       "0  https://www.reddit.com/r/adidas/comments/7kzpb...    adidas  \n",
       "1  https://www.reddit.com/r/adidas/comments/a7m6t...    adidas  \n",
       "2                        https://imgur.com/a/3uEHrDf    adidas  \n",
       "3                          https://imgur.com/Oi5Dz5G    adidas  \n",
       "4                https://i.redd.it/wln7dfhruz421.jpg    adidas  "
      ]
     },
     "execution_count": 27,
     "metadata": {},
     "output_type": "execute_result"
    }
   ],
   "source": [
    "# Now the numbers in the created column are no longer in scientific notation\n",
    "adidas_df.head()"
   ]
  },
  {
   "cell_type": "markdown",
   "metadata": {},
   "source": [
    "The integer in the `created` column indicates a unix timestamp which indicates how old a post is in seconds since its creation. The base epoch year of creation begins in 1970. The `lambda` function below converts all integers in the `created` column into another integer indicating the number of weeks after the epoch year that the post was created. The `lambda` function takes the integer, `x`, and divides it by the number of seconds in a week. "
   ]
  },
  {
   "cell_type": "code",
   "execution_count": 28,
   "metadata": {},
   "outputs": [],
   "source": [
    "adidas_df['created'] = adidas_df['created'].map(lambda x: int(x/604800))"
   ]
  },
  {
   "cell_type": "code",
   "execution_count": 188,
   "metadata": {},
   "outputs": [
    {
     "data": {
      "text/html": [
       "<div>\n",
       "<style scoped>\n",
       "    .dataframe tbody tr th:only-of-type {\n",
       "        vertical-align: middle;\n",
       "    }\n",
       "\n",
       "    .dataframe tbody tr th {\n",
       "        vertical-align: top;\n",
       "    }\n",
       "\n",
       "    .dataframe thead th {\n",
       "        text-align: right;\n",
       "    }\n",
       "</style>\n",
       "<table border=\"1\" class=\"dataframe\">\n",
       "  <thead>\n",
       "    <tr style=\"text-align: right;\">\n",
       "      <th></th>\n",
       "      <th>author</th>\n",
       "      <th>comments</th>\n",
       "      <th>created</th>\n",
       "      <th>score</th>\n",
       "      <th>subscribers</th>\n",
       "      <th>text</th>\n",
       "      <th>title</th>\n",
       "      <th>url</th>\n",
       "      <th>subreddit</th>\n",
       "    </tr>\n",
       "  </thead>\n",
       "  <tbody>\n",
       "    <tr>\n",
       "      <th>0</th>\n",
       "      <td>jeremec</td>\n",
       "      <td>0</td>\n",
       "      <td>2502</td>\n",
       "      <td>18</td>\n",
       "      <td>9666</td>\n",
       "      <td>With holidays coming around, and a lot of big ...</td>\n",
       "      <td>Just a friendly holiday reminder about CS ques...</td>\n",
       "      <td>https://www.reddit.com/r/adidas/comments/7kzpb...</td>\n",
       "      <td>adidas</td>\n",
       "    </tr>\n",
       "    <tr>\n",
       "      <th>1</th>\n",
       "      <td>lavienstyle</td>\n",
       "      <td>5</td>\n",
       "      <td>2554</td>\n",
       "      <td>8</td>\n",
       "      <td>9666</td>\n",
       "      <td>I have pair of Alphabounces that I think are j...</td>\n",
       "      <td>How warm are the Ultra Boosts?</td>\n",
       "      <td>https://www.reddit.com/r/adidas/comments/a7m6t...</td>\n",
       "      <td>adidas</td>\n",
       "    </tr>\n",
       "    <tr>\n",
       "      <th>2</th>\n",
       "      <td>azndkflush</td>\n",
       "      <td>0</td>\n",
       "      <td>2554</td>\n",
       "      <td>1</td>\n",
       "      <td>9666</td>\n",
       "      <td>0</td>\n",
       "      <td>Here's my (Small) collection!</td>\n",
       "      <td>https://imgur.com/a/3uEHrDf</td>\n",
       "      <td>adidas</td>\n",
       "    </tr>\n",
       "    <tr>\n",
       "      <th>3</th>\n",
       "      <td>hiding_in_NJ</td>\n",
       "      <td>1</td>\n",
       "      <td>2554</td>\n",
       "      <td>49</td>\n",
       "      <td>9666</td>\n",
       "      <td>0</td>\n",
       "      <td>ID on these. Says they're 08/03.</td>\n",
       "      <td>https://imgur.com/Oi5Dz5G</td>\n",
       "      <td>adidas</td>\n",
       "    </tr>\n",
       "    <tr>\n",
       "      <th>4</th>\n",
       "      <td>nitr0h</td>\n",
       "      <td>9</td>\n",
       "      <td>2554</td>\n",
       "      <td>2</td>\n",
       "      <td>9666</td>\n",
       "      <td>0</td>\n",
       "      <td>Awkward flex .</td>\n",
       "      <td>https://i.redd.it/wln7dfhruz421.jpg</td>\n",
       "      <td>adidas</td>\n",
       "    </tr>\n",
       "  </tbody>\n",
       "</table>\n",
       "</div>"
      ],
      "text/plain": [
       "         author  comments  created  score  subscribers  \\\n",
       "0       jeremec         0     2502     18         9666   \n",
       "1   lavienstyle         5     2554      8         9666   \n",
       "2    azndkflush         0     2554      1         9666   \n",
       "3  hiding_in_NJ         1     2554     49         9666   \n",
       "4        nitr0h         9     2554      2         9666   \n",
       "\n",
       "                                                text  \\\n",
       "0  With holidays coming around, and a lot of big ...   \n",
       "1  I have pair of Alphabounces that I think are j...   \n",
       "2                                                  0   \n",
       "3                                                  0   \n",
       "4                                                  0   \n",
       "\n",
       "                                               title  \\\n",
       "0  Just a friendly holiday reminder about CS ques...   \n",
       "1                     How warm are the Ultra Boosts?   \n",
       "2                      Here's my (Small) collection!   \n",
       "3                   ID on these. Says they're 08/03.   \n",
       "4                                     Awkward flex .   \n",
       "\n",
       "                                                 url subreddit  \n",
       "0  https://www.reddit.com/r/adidas/comments/7kzpb...    adidas  \n",
       "1  https://www.reddit.com/r/adidas/comments/a7m6t...    adidas  \n",
       "2                        https://imgur.com/a/3uEHrDf    adidas  \n",
       "3                          https://imgur.com/Oi5Dz5G    adidas  \n",
       "4                https://i.redd.it/wln7dfhruz421.jpg    adidas  "
      ]
     },
     "execution_count": 188,
     "metadata": {},
     "output_type": "execute_result"
    }
   ],
   "source": [
    "adidas_df.head()"
   ]
  },
  {
   "cell_type": "code",
   "execution_count": 30,
   "metadata": {
    "scrolled": true
   },
   "outputs": [
    {
     "data": {
      "text/html": [
       "<div>\n",
       "<style scoped>\n",
       "    .dataframe tbody tr th:only-of-type {\n",
       "        vertical-align: middle;\n",
       "    }\n",
       "\n",
       "    .dataframe tbody tr th {\n",
       "        vertical-align: top;\n",
       "    }\n",
       "\n",
       "    .dataframe thead th {\n",
       "        text-align: right;\n",
       "    }\n",
       "</style>\n",
       "<table border=\"1\" class=\"dataframe\">\n",
       "  <thead>\n",
       "    <tr style=\"text-align: right;\">\n",
       "      <th></th>\n",
       "      <th>count</th>\n",
       "      <th>mean</th>\n",
       "      <th>std</th>\n",
       "      <th>min</th>\n",
       "      <th>25%</th>\n",
       "      <th>50%</th>\n",
       "      <th>75%</th>\n",
       "      <th>max</th>\n",
       "    </tr>\n",
       "  </thead>\n",
       "  <tbody>\n",
       "    <tr>\n",
       "      <th>comments</th>\n",
       "      <td>992.0</td>\n",
       "      <td>4.439516</td>\n",
       "      <td>4.861178</td>\n",
       "      <td>0.0</td>\n",
       "      <td>1.0</td>\n",
       "      <td>3.0</td>\n",
       "      <td>6.00</td>\n",
       "      <td>46.0</td>\n",
       "    </tr>\n",
       "    <tr>\n",
       "      <th>created</th>\n",
       "      <td>992.0</td>\n",
       "      <td>2543.606855</td>\n",
       "      <td>6.582449</td>\n",
       "      <td>2502.0</td>\n",
       "      <td>2538.0</td>\n",
       "      <td>2543.0</td>\n",
       "      <td>2549.25</td>\n",
       "      <td>2554.0</td>\n",
       "    </tr>\n",
       "    <tr>\n",
       "      <th>score</th>\n",
       "      <td>992.0</td>\n",
       "      <td>8.865927</td>\n",
       "      <td>16.608909</td>\n",
       "      <td>0.0</td>\n",
       "      <td>1.0</td>\n",
       "      <td>2.0</td>\n",
       "      <td>8.00</td>\n",
       "      <td>173.0</td>\n",
       "    </tr>\n",
       "    <tr>\n",
       "      <th>subscribers</th>\n",
       "      <td>992.0</td>\n",
       "      <td>9666.000000</td>\n",
       "      <td>0.000000</td>\n",
       "      <td>9666.0</td>\n",
       "      <td>9666.0</td>\n",
       "      <td>9666.0</td>\n",
       "      <td>9666.00</td>\n",
       "      <td>9666.0</td>\n",
       "    </tr>\n",
       "  </tbody>\n",
       "</table>\n",
       "</div>"
      ],
      "text/plain": [
       "             count         mean        std     min     25%     50%      75%  \\\n",
       "comments     992.0     4.439516   4.861178     0.0     1.0     3.0     6.00   \n",
       "created      992.0  2543.606855   6.582449  2502.0  2538.0  2543.0  2549.25   \n",
       "score        992.0     8.865927  16.608909     0.0     1.0     2.0     8.00   \n",
       "subscribers  992.0  9666.000000   0.000000  9666.0  9666.0  9666.0  9666.00   \n",
       "\n",
       "                max  \n",
       "comments       46.0  \n",
       "created      2554.0  \n",
       "score         173.0  \n",
       "subscribers  9666.0  "
      ]
     },
     "execution_count": 30,
     "metadata": {},
     "output_type": "execute_result"
    }
   ],
   "source": [
    "adidas_df.describe().T"
   ]
  },
  {
   "cell_type": "markdown",
   "metadata": {},
   "source": [
    "**Plot distributions for appropriate numeric columns**"
   ]
  },
  {
   "cell_type": "code",
   "execution_count": 31,
   "metadata": {},
   "outputs": [
    {
     "data": {
      "image/png": "[encoded data removed]",
      "text/plain": [
       "<Figure size 432x288 with 1 Axes>"
      ]
     },
     "metadata": {
      "needs_background": "light"
     },
     "output_type": "display_data"
    }
   ],
   "source": [
    "plt.title('Distribution of Comments')\n",
    "plt.hist(adidas_df['comments'], bins=3, color='orange');"
   ]
  },
  {
   "cell_type": "code",
   "execution_count": 32,
   "metadata": {},
   "outputs": [
    {
     "data": {
      "image/png": "[encoded data removed]",
      "text/plain": [
       "<Figure size 432x288 with 1 Axes>"
      ]
     },
     "metadata": {
      "needs_background": "light"
     },
     "output_type": "display_data"
    }
   ],
   "source": [
    "plt.title('Distribution of Comments')\n",
    "sns.boxplot(adidas_df['comments'], color='orange');"
   ]
  },
  {
   "cell_type": "markdown",
   "metadata": {},
   "source": [
    "**In the case of number of comments on a given post, the outliers are not inherently significant to 'fix'.**"
   ]
  },
  {
   "cell_type": "code",
   "execution_count": 33,
   "metadata": {},
   "outputs": [
    {
     "data": {
      "image/png": "[encoded data removed]",
      "text/plain": [
       "<Figure size 432x288 with 1 Axes>"
      ]
     },
     "metadata": {
      "needs_background": "light"
     },
     "output_type": "display_data"
    }
   ],
   "source": [
    "plt.title('Distribution of Weeks Passed Since Creation')\n",
    "plt.hist(adidas_df['created'], bins=40, color='orange');"
   ]
  },
  {
   "cell_type": "code",
   "execution_count": 34,
   "metadata": {},
   "outputs": [
    {
     "data": {
      "image/png": "[encoded data removed]",
      "text/plain": [
       "<Figure size 432x288 with 1 Axes>"
      ]
     },
     "metadata": {
      "needs_background": "light"
     },
     "output_type": "display_data"
    }
   ],
   "source": [
    "plt.title('Distribution of Weeks Passed Since Creation')\n",
    "sns.boxplot(adidas_df['created'], color='orange');"
   ]
  },
  {
   "cell_type": "markdown",
   "metadata": {},
   "source": [
    "The outlier above represents a stickied post. A stickied post is created by a moderator of the subreddit that sticks this post at the beginning of the subreddit so it cannot be moved. A stickied post is normally created closer to the origination of the subreddit so it makes sense that this post is newer than the others in the subreddit."
   ]
  },
  {
   "cell_type": "code",
   "execution_count": 45,
   "metadata": {},
   "outputs": [
    {
     "data": {
      "image/png": "[encoded data removed]",
      "text/plain": [
       "<Figure size 432x288 with 1 Axes>"
      ]
     },
     "metadata": {
      "needs_background": "light"
     },
     "output_type": "display_data"
    }
   ],
   "source": [
    "plt.title('Distribution of Post Score')\n",
    "plt.hist(adidas_df['score'], bins=4, color='orange');"
   ]
  },
  {
   "cell_type": "code",
   "execution_count": 46,
   "metadata": {},
   "outputs": [
    {
     "data": {
      "image/png": "[encoded data removed]",
      "text/plain": [
       "<Figure size 432x288 with 1 Axes>"
      ]
     },
     "metadata": {
      "needs_background": "light"
     },
     "output_type": "display_data"
    }
   ],
   "source": [
    "plt.title('Distribution of Post Score')\n",
    "sns.boxplot(adidas_df['score'], color='orange');"
   ]
  },
  {
   "cell_type": "markdown",
   "metadata": {},
   "source": [
    "A given posts score is calculated by `post_upvotes - post_downvotes`. Posts with high scores are the posts with the most net upvotes."
   ]
  },
  {
   "cell_type": "markdown",
   "metadata": {},
   "source": [
    "## Merge both dataframes"
   ]
  },
  {
   "cell_type": "code",
   "execution_count": 35,
   "metadata": {},
   "outputs": [],
   "source": [
    "final_df = pd.merge(nike_df, adidas_df, how='outer',\n",
    "                    left_on=['author', 'comments', 'created', 'score', 'subscribers', 'text', 'title', 'url', 'subreddit'], \n",
    "                    right_on=['author', 'comments', 'created', 'score', 'subscribers', 'text', 'title', 'url', 'subreddit'])"
   ]
  },
  {
   "cell_type": "code",
   "execution_count": 36,
   "metadata": {},
   "outputs": [
    {
     "data": {
      "text/html": [
       "<div>\n",
       "<style scoped>\n",
       "    .dataframe tbody tr th:only-of-type {\n",
       "        vertical-align: middle;\n",
       "    }\n",
       "\n",
       "    .dataframe tbody tr th {\n",
       "        vertical-align: top;\n",
       "    }\n",
       "\n",
       "    .dataframe thead th {\n",
       "        text-align: right;\n",
       "    }\n",
       "</style>\n",
       "<table border=\"1\" class=\"dataframe\">\n",
       "  <thead>\n",
       "    <tr style=\"text-align: right;\">\n",
       "      <th></th>\n",
       "      <th>author</th>\n",
       "      <th>comments</th>\n",
       "      <th>created</th>\n",
       "      <th>score</th>\n",
       "      <th>subscribers</th>\n",
       "      <th>text</th>\n",
       "      <th>title</th>\n",
       "      <th>url</th>\n",
       "      <th>subreddit</th>\n",
       "    </tr>\n",
       "  </thead>\n",
       "  <tbody>\n",
       "    <tr>\n",
       "      <th>0</th>\n",
       "      <td>jeremec</td>\n",
       "      <td>1</td>\n",
       "      <td>2407</td>\n",
       "      <td>18</td>\n",
       "      <td>11043</td>\n",
       "      <td>Please note that any product from a previous s...</td>\n",
       "      <td>Tips for identifying Nike Product</td>\n",
       "      <td>https://www.reddit.com/r/Nike/comments/47fex4/...</td>\n",
       "      <td>Nike</td>\n",
       "    </tr>\n",
       "    <tr>\n",
       "      <th>1</th>\n",
       "      <td>lavienstyle</td>\n",
       "      <td>2</td>\n",
       "      <td>2554</td>\n",
       "      <td>8</td>\n",
       "      <td>11043</td>\n",
       "      <td>0</td>\n",
       "      <td>What’s this called?</td>\n",
       "      <td>https://i.redd.it/hjnoz5gqo7521.jpg</td>\n",
       "      <td>Nike</td>\n",
       "    </tr>\n",
       "    <tr>\n",
       "      <th>2</th>\n",
       "      <td>azndkflush</td>\n",
       "      <td>0</td>\n",
       "      <td>2554</td>\n",
       "      <td>1</td>\n",
       "      <td>11043</td>\n",
       "      <td>0</td>\n",
       "      <td>[LC] OW NIKE PRESTO :D!</td>\n",
       "      <td>https://imgur.com/gallery/Aykz7YX</td>\n",
       "      <td>Nike</td>\n",
       "    </tr>\n",
       "    <tr>\n",
       "      <th>3</th>\n",
       "      <td>hiding_in_NJ</td>\n",
       "      <td>2</td>\n",
       "      <td>2554</td>\n",
       "      <td>49</td>\n",
       "      <td>11043</td>\n",
       "      <td>0</td>\n",
       "      <td>3D printed Jordan 1s by me</td>\n",
       "      <td>https://i.redd.it/j4oaab0za2521.jpg</td>\n",
       "      <td>Nike</td>\n",
       "    </tr>\n",
       "    <tr>\n",
       "      <th>4</th>\n",
       "      <td>nitr0h</td>\n",
       "      <td>0</td>\n",
       "      <td>2554</td>\n",
       "      <td>2</td>\n",
       "      <td>11043</td>\n",
       "      <td>http://www.jimmyjazz.com/boys/clothing/nike-bl...</td>\n",
       "      <td>need help finding this tracksuit in mens</td>\n",
       "      <td>https://www.reddit.com/r/Nike/comments/a7k2nd/...</td>\n",
       "      <td>Nike</td>\n",
       "    </tr>\n",
       "  </tbody>\n",
       "</table>\n",
       "</div>"
      ],
      "text/plain": [
       "         author  comments  created  score  subscribers  \\\n",
       "0       jeremec         1     2407     18        11043   \n",
       "1   lavienstyle         2     2554      8        11043   \n",
       "2    azndkflush         0     2554      1        11043   \n",
       "3  hiding_in_NJ         2     2554     49        11043   \n",
       "4        nitr0h         0     2554      2        11043   \n",
       "\n",
       "                                                text  \\\n",
       "0  Please note that any product from a previous s...   \n",
       "1                                                  0   \n",
       "2                                                  0   \n",
       "3                                                  0   \n",
       "4  http://www.jimmyjazz.com/boys/clothing/nike-bl...   \n",
       "\n",
       "                                      title  \\\n",
       "0         Tips for identifying Nike Product   \n",
       "1                       What’s this called?   \n",
       "2                   [LC] OW NIKE PRESTO :D!   \n",
       "3                3D printed Jordan 1s by me   \n",
       "4  need help finding this tracksuit in mens   \n",
       "\n",
       "                                                 url subreddit  \n",
       "0  https://www.reddit.com/r/Nike/comments/47fex4/...      Nike  \n",
       "1                https://i.redd.it/hjnoz5gqo7521.jpg      Nike  \n",
       "2                  https://imgur.com/gallery/Aykz7YX      Nike  \n",
       "3                https://i.redd.it/j4oaab0za2521.jpg      Nike  \n",
       "4  https://www.reddit.com/r/Nike/comments/a7k2nd/...      Nike  "
      ]
     },
     "execution_count": 36,
     "metadata": {},
     "output_type": "execute_result"
    }
   ],
   "source": [
    "final_df.head()"
   ]
  },
  {
   "cell_type": "code",
   "execution_count": 37,
   "metadata": {},
   "outputs": [
    {
     "data": {
      "text/plain": [
       "(1991, 9)"
      ]
     },
     "execution_count": 37,
     "metadata": {},
     "output_type": "execute_result"
    }
   ],
   "source": [
    "final_df.shape"
   ]
  },
  {
   "cell_type": "code",
   "execution_count": 38,
   "metadata": {},
   "outputs": [
    {
     "name": "stdout",
     "output_type": "stream",
     "text": [
      "(999, 9)\n",
      "(992, 9)\n"
     ]
    }
   ],
   "source": [
    "# Checking to see if the rows in both dataframes add up to the rows in the final dataframe\n",
    "# Looks like everything checks out!\n",
    "print(nike_df.shape)\n",
    "print(adidas_df.shape)"
   ]
  },
  {
   "cell_type": "markdown",
   "metadata": {},
   "source": [
    "### Binarize the subreddit column\n",
    "### `Nike = 1` and `Adidas = 0`"
   ]
  },
  {
   "cell_type": "code",
   "execution_count": 39,
   "metadata": {},
   "outputs": [],
   "source": [
    "# Lambda function that changes the text in the subreddit column\n",
    "# Nike becomes a 1 and Adidas becomes a 0\n",
    "final_df['subreddit'] = final_df['subreddit'].map(lambda x: 1 if x == 'Nike' else 0)"
   ]
  },
  {
   "cell_type": "code",
   "execution_count": 189,
   "metadata": {},
   "outputs": [
    {
     "data": {
      "text/html": [
       "<div>\n",
       "<style scoped>\n",
       "    .dataframe tbody tr th:only-of-type {\n",
       "        vertical-align: middle;\n",
       "    }\n",
       "\n",
       "    .dataframe tbody tr th {\n",
       "        vertical-align: top;\n",
       "    }\n",
       "\n",
       "    .dataframe thead th {\n",
       "        text-align: right;\n",
       "    }\n",
       "</style>\n",
       "<table border=\"1\" class=\"dataframe\">\n",
       "  <thead>\n",
       "    <tr style=\"text-align: right;\">\n",
       "      <th></th>\n",
       "      <th>author</th>\n",
       "      <th>comments</th>\n",
       "      <th>created</th>\n",
       "      <th>score</th>\n",
       "      <th>subscribers</th>\n",
       "      <th>text</th>\n",
       "      <th>title</th>\n",
       "      <th>url</th>\n",
       "      <th>subreddit</th>\n",
       "    </tr>\n",
       "  </thead>\n",
       "  <tbody>\n",
       "    <tr>\n",
       "      <th>0</th>\n",
       "      <td>jeremec</td>\n",
       "      <td>1</td>\n",
       "      <td>2407</td>\n",
       "      <td>18</td>\n",
       "      <td>11043</td>\n",
       "      <td>Please note that any product from a previous s...</td>\n",
       "      <td>tip for identifi nike product</td>\n",
       "      <td>https://www.reddit.com/r/Nike/comments/47fex4/...</td>\n",
       "      <td>1</td>\n",
       "    </tr>\n",
       "    <tr>\n",
       "      <th>1</th>\n",
       "      <td>lavienstyle</td>\n",
       "      <td>2</td>\n",
       "      <td>2554</td>\n",
       "      <td>8</td>\n",
       "      <td>11043</td>\n",
       "      <td>0</td>\n",
       "      <td>what thi called</td>\n",
       "      <td>https://i.redd.it/hjnoz5gqo7521.jpg</td>\n",
       "      <td>1</td>\n",
       "    </tr>\n",
       "    <tr>\n",
       "      <th>2</th>\n",
       "      <td>azndkflush</td>\n",
       "      <td>0</td>\n",
       "      <td>2554</td>\n",
       "      <td>1</td>\n",
       "      <td>11043</td>\n",
       "      <td>0</td>\n",
       "      <td>lc OW nike presto d</td>\n",
       "      <td>https://imgur.com/gallery/Aykz7YX</td>\n",
       "      <td>1</td>\n",
       "    </tr>\n",
       "    <tr>\n",
       "      <th>3</th>\n",
       "      <td>hiding_in_NJ</td>\n",
       "      <td>2</td>\n",
       "      <td>2554</td>\n",
       "      <td>49</td>\n",
       "      <td>11043</td>\n",
       "      <td>0</td>\n",
       "      <td>3D print jordan 1s by me</td>\n",
       "      <td>https://i.redd.it/j4oaab0za2521.jpg</td>\n",
       "      <td>1</td>\n",
       "    </tr>\n",
       "    <tr>\n",
       "      <th>4</th>\n",
       "      <td>nitr0h</td>\n",
       "      <td>0</td>\n",
       "      <td>2554</td>\n",
       "      <td>2</td>\n",
       "      <td>11043</td>\n",
       "      <td>http://www.jimmyjazz.com/boys/clothing/nike-bl...</td>\n",
       "      <td>need help find thi tracksuit in men</td>\n",
       "      <td>https://www.reddit.com/r/Nike/comments/a7k2nd/...</td>\n",
       "      <td>1</td>\n",
       "    </tr>\n",
       "  </tbody>\n",
       "</table>\n",
       "</div>"
      ],
      "text/plain": [
       "         author  comments  created  score  subscribers  \\\n",
       "0       jeremec         1     2407     18        11043   \n",
       "1   lavienstyle         2     2554      8        11043   \n",
       "2    azndkflush         0     2554      1        11043   \n",
       "3  hiding_in_NJ         2     2554     49        11043   \n",
       "4        nitr0h         0     2554      2        11043   \n",
       "\n",
       "                                                text  \\\n",
       "0  Please note that any product from a previous s...   \n",
       "1                                                  0   \n",
       "2                                                  0   \n",
       "3                                                  0   \n",
       "4  http://www.jimmyjazz.com/boys/clothing/nike-bl...   \n",
       "\n",
       "                                 title  \\\n",
       "0        tip for identifi nike product   \n",
       "1                      what thi called   \n",
       "2                  lc OW nike presto d   \n",
       "3             3D print jordan 1s by me   \n",
       "4  need help find thi tracksuit in men   \n",
       "\n",
       "                                                 url  subreddit  \n",
       "0  https://www.reddit.com/r/Nike/comments/47fex4/...          1  \n",
       "1                https://i.redd.it/hjnoz5gqo7521.jpg          1  \n",
       "2                  https://imgur.com/gallery/Aykz7YX          1  \n",
       "3                https://i.redd.it/j4oaab0za2521.jpg          1  \n",
       "4  https://www.reddit.com/r/Nike/comments/a7k2nd/...          1  "
      ]
     },
     "execution_count": 189,
     "metadata": {},
     "output_type": "execute_result"
    }
   ],
   "source": [
    "final_df.head()"
   ]
  },
  {
   "cell_type": "markdown",
   "metadata": {},
   "source": [
    "## With the final dataframe, let's lemmatize the words in the `final_df['title']` column using Stem\n",
    "### We do this to shorten the words to combine similar forms of the same word to create cleaner data for our eventual CountVectorizer transformer"
   ]
  },
  {
   "cell_type": "markdown",
   "metadata": {},
   "source": [
    "**First we need to Tokenize**\n",
    "\n",
    "Instead of importing the tokenizer library from sklearn, we will just split each row by white space using list comprehension."
   ]
  },
  {
   "cell_type": "code",
   "execution_count": 53,
   "metadata": {},
   "outputs": [],
   "source": [
    "# Setting tokenized words to a variable\n",
    "tokenized_words = [x.split(' ') for x in final_df['title']]"
   ]
  },
  {
   "cell_type": "code",
   "execution_count": 114,
   "metadata": {},
   "outputs": [
    {
     "data": {
      "text/plain": [
       "'Tips'"
      ]
     },
     "execution_count": 114,
     "metadata": {},
     "output_type": "execute_result"
    }
   ],
   "source": [
    "tokenized_words[0][0]"
   ]
  },
  {
   "cell_type": "markdown",
   "metadata": {},
   "source": [
    "**Now let's bring in Stemmer**\n",
    "\n",
    "We chose to use Stemmer instead of WordLemmatizer because Stemmer has a stronger penalty on getting the lemm of words."
   ]
  },
  {
   "cell_type": "code",
   "execution_count": 54,
   "metadata": {},
   "outputs": [],
   "source": [
    "# Import PortStemmer\n",
    "from nltk.stem.porter import PorterStemmer"
   ]
  },
  {
   "cell_type": "code",
   "execution_count": 55,
   "metadata": {},
   "outputs": [],
   "source": [
    "# Instantiate PortStemmer\n",
    "stemmer = PorterStemmer()"
   ]
  },
  {
   "cell_type": "code",
   "execution_count": 129,
   "metadata": {
    "scrolled": true
   },
   "outputs": [],
   "source": [
    "# For loop that will take all of the words in each list of the tokenized_words list, stem them, remove all \n",
    "# non letter/digit characters and place them back into a a new list called stemmed_titles\n",
    "\n",
    "import re # Import regex\n",
    "\n",
    "stemmed_titles = []\n",
    "for all_lists in tokenized_words:\n",
    "    empty_list = []\n",
    "    for word in all_lists:\n",
    "        empty_list.append(re.sub(\"[^a-zA-Z0-9]\", '', stemmer.stem(word)))\n",
    "    stemmed_titles.append(empty_list)\n"
   ]
  },
  {
   "cell_type": "code",
   "execution_count": 192,
   "metadata": {},
   "outputs": [],
   "source": [
    "# For loop that will join all of the strings in each list\n",
    "\n",
    "joined_titles = []\n",
    "for lists in stemmed_titles:\n",
    "    joined_titles.append(' '.join(lists))\n"
   ]
  },
  {
   "cell_type": "code",
   "execution_count": 191,
   "metadata": {},
   "outputs": [
    {
     "data": {
      "text/html": [
       "<div>\n",
       "<style scoped>\n",
       "    .dataframe tbody tr th:only-of-type {\n",
       "        vertical-align: middle;\n",
       "    }\n",
       "\n",
       "    .dataframe tbody tr th {\n",
       "        vertical-align: top;\n",
       "    }\n",
       "\n",
       "    .dataframe thead th {\n",
       "        text-align: right;\n",
       "    }\n",
       "</style>\n",
       "<table border=\"1\" class=\"dataframe\">\n",
       "  <thead>\n",
       "    <tr style=\"text-align: right;\">\n",
       "      <th></th>\n",
       "      <th>title</th>\n",
       "    </tr>\n",
       "  </thead>\n",
       "  <tbody>\n",
       "    <tr>\n",
       "      <th>0</th>\n",
       "      <td>tip for identifi nike product</td>\n",
       "    </tr>\n",
       "    <tr>\n",
       "      <th>1</th>\n",
       "      <td>what thi called</td>\n",
       "    </tr>\n",
       "    <tr>\n",
       "      <th>2</th>\n",
       "      <td>lc OW nike presto d</td>\n",
       "    </tr>\n",
       "    <tr>\n",
       "      <th>3</th>\n",
       "      <td>3D print jordan 1s by me</td>\n",
       "    </tr>\n",
       "    <tr>\n",
       "      <th>4</th>\n",
       "      <td>need help find thi tracksuit in men</td>\n",
       "    </tr>\n",
       "  </tbody>\n",
       "</table>\n",
       "</div>"
      ],
      "text/plain": [
       "                                 title\n",
       "0        tip for identifi nike product\n",
       "1                      what thi called\n",
       "2                  lc OW nike presto d\n",
       "3             3D print jordan 1s by me\n",
       "4  need help find thi tracksuit in men"
      ]
     },
     "execution_count": 191,
     "metadata": {},
     "output_type": "execute_result"
    }
   ],
   "source": [
    "# Place new lists of stemmed words into the 'title' column in the final dataframe\n",
    "final_df['title'] = joined_titles\n",
    "\n",
    "# Check to see that the 'title' column is how it should look\n",
    "final_df[['title']].head()"
   ]
  },
  {
   "cell_type": "code",
   "execution_count": 161,
   "metadata": {},
   "outputs": [],
   "source": [
    "# created a csv of the finalized dataframe\n",
    "final_df.to_csv('../data/Nike_Adidas_combined.csv')"
   ]
  },
  {
   "cell_type": "markdown",
   "metadata": {},
   "source": [
    "### We have collected, analyzed and cleaned relevant data concerning reddit posts about Nike and Adidas. Now we are ready to model!"
   ]
  },
  {
   "cell_type": "code",
   "execution_count": null,
   "metadata": {},
   "outputs": [],
   "source": []
  }
 ],
 "metadata": {
  "kernelspec": {
   "display_name": "Python 3",
   "language": "python",
   "name": "python3"
  },
  "language_info": {
   "codemirror_mode": {
    "name": "ipython",
    "version": 3
   },
   "file_extension": ".py",
   "mimetype": "text/x-python",
   "name": "python",
   "nbconvert_exporter": "python",
   "pygments_lexer": "ipython3",
   "version": "3.7.0"
  }
 },
 "nbformat": 4,
 "nbformat_minor": 2
}
