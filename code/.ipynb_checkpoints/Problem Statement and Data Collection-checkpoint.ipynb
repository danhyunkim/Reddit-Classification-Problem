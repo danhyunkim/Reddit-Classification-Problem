{
 "cells": [
  {
   "cell_type": "markdown",
   "metadata": {},
   "source": [
    "# Problem Statement\n",
    "\n",
    "#### Oh no! Reddit is in shambles. Reddit's data science team needs assistance accurately classifying all posts to the specific subreddit that they came from. To prove that we can be of assistance, we will decrease the scale of the project and focus on just the Nike and Adidas subreddits and build a model to determine whether a given post is a Nike related post. \n",
    "\n",
    "#### We will build different types of classification models: a Logistic Regression model, a Multinomial Naive Bayes Model, a Decision Tree Model, a Bagged Trees Model, an Extra Trees Model,  and a Random Forest model. We will optimize our model so our `score` is as close to `1` as possible. With an accurate model, Reddit should be able to apply this model to sort out the rest of their posts that are currently in limbo. "
   ]
  },
  {
   "cell_type": "markdown",
   "metadata": {},
   "source": [
    "# Data Collection"
   ]
  },
  {
   "cell_type": "markdown",
   "metadata": {},
   "source": [
    "#### We will be hitting Reddit's API for samples of Nike and Adidas related posts. Steps for the data collection process will be the same for both companies. "
   ]
  },
  {
   "cell_type": "code",
   "execution_count": 1,
   "metadata": {},
   "outputs": [],
   "source": [
    "import requests\n",
    "import time \n",
    "import pandas as pd"
   ]
  },
  {
   "cell_type": "code",
   "execution_count": 2,
   "metadata": {},
   "outputs": [],
   "source": [
    "nike_url = 'https://www.reddit.com/r/Nike/hot/.json'             # Set Nike url\n",
    "\n",
    "adidas_url = 'https://www.reddit.com/r/adidas/hot/.json'         # Set Adidas url"
   ]
  },
  {
   "cell_type": "code",
   "execution_count": 3,
   "metadata": {},
   "outputs": [],
   "source": [
    "headers = {'User-agent': 'danhyunkim'}                           # Set user agent to prevent status code issue"
   ]
  },
  {
   "cell_type": "code",
   "execution_count": 4,
   "metadata": {},
   "outputs": [],
   "source": [
    "nike_res = requests.get(nike_url, headers=headers)               # Set Nike get request\n",
    "\n",
    "adidas_res = requests.get(adidas_url, headers=headers)           # Set Adidas get request"
   ]
  },
  {
   "cell_type": "code",
   "execution_count": 5,
   "metadata": {},
   "outputs": [
    {
     "name": "stdout",
     "output_type": "stream",
     "text": [
      "200\n",
      "200\n"
     ]
    }
   ],
   "source": [
    "# Check status code for both requests to ensure we are not getting a 400 or 500 code\n",
    "print(nike_res.status_code)\n",
    "\n",
    "print(adidas_res.status_code)"
   ]
  },
  {
   "cell_type": "markdown",
   "metadata": {},
   "source": [
    "### Nike data collection"
   ]
  },
  {
   "cell_type": "code",
   "execution_count": 6,
   "metadata": {},
   "outputs": [],
   "source": [
    "nike_json = nike_res.json()"
   ]
  },
  {
   "cell_type": "code",
   "execution_count": 7,
   "metadata": {},
   "outputs": [
    {
     "name": "stdout",
     "output_type": "stream",
     "text": [
      "0\n",
      "1\n",
      "2\n",
      "3\n",
      "4\n",
      "5\n",
      "6\n",
      "7\n",
      "8\n",
      "9\n",
      "10\n",
      "11\n",
      "12\n",
      "13\n",
      "14\n",
      "15\n",
      "16\n",
      "17\n",
      "18\n",
      "19\n",
      "20\n",
      "21\n",
      "22\n",
      "23\n",
      "24\n",
      "25\n",
      "26\n",
      "27\n",
      "28\n",
      "29\n",
      "30\n",
      "31\n",
      "32\n",
      "33\n",
      "34\n",
      "35\n",
      "36\n",
      "37\n",
      "38\n",
      "39\n"
     ]
    }
   ],
   "source": [
    "nike_posts = []\n",
    "after = None\n",
    "for i in range(40):\n",
    "    print(i)\n",
    "    if after == None:\n",
    "        params = {}\n",
    "    else: \n",
    "        params = {'after': after}\n",
    "    NIKE_url = 'https://www.reddit.com/r/Nike/hot/.json'\n",
    "    res = requests.get(NIKE_url, params=params, headers=headers)\n",
    "    if res.status_code == 200:\n",
    "        the_json = res.json()\n",
    "        nike_posts.extend(the_json['data']['children'])\n",
    "        after = the_json['data']['after']\n",
    "    else:\n",
    "        print(res.status_code)\n",
    "        break\n",
    "    time.sleep(2)"
   ]
  },
  {
   "cell_type": "code",
   "execution_count": 8,
   "metadata": {},
   "outputs": [
    {
     "data": {
      "text/plain": [
       "(999, 2)"
      ]
     },
     "execution_count": 8,
     "metadata": {},
     "output_type": "execute_result"
    }
   ],
   "source": [
    "nike_df = pd.DataFrame(nike_posts)\n",
    "nike_df.shape"
   ]
  },
  {
   "cell_type": "code",
   "execution_count": 9,
   "metadata": {},
   "outputs": [],
   "source": [
    "nike_cells = []\n",
    "for i in range(len(nike_posts)):\n",
    "    nike_cells.append({'title': nike_posts[i]['data']['title'], \n",
    "                       'subreddit': nike_posts[i]['data']['subreddit'], \n",
    "                      'comments': nike_posts[i]['data']['num_comments'], \n",
    "                       'text': nike_posts[i]['data']['selftext'], \n",
    "                      'subscribers': nike_posts[i]['data']['subreddit_subscribers'], \n",
    "                       'url': nike_posts[i]['data']['url'],\n",
    "                      'created': nike_posts[i]['data']['created_utc'],\n",
    "                      'author': nike_posts[i]['data']['author'],\n",
    "                      'score': nike_posts[i]['data']['score']})\n",
    "    \n",
    "nike_df = pd.DataFrame(nike_cells)"
   ]
  },
  {
   "cell_type": "code",
   "execution_count": 10,
   "metadata": {},
   "outputs": [
    {
     "data": {
      "text/html": [
       "<div>\n",
       "<style scoped>\n",
       "    .dataframe tbody tr th:only-of-type {\n",
       "        vertical-align: middle;\n",
       "    }\n",
       "\n",
       "    .dataframe tbody tr th {\n",
       "        vertical-align: top;\n",
       "    }\n",
       "\n",
       "    .dataframe thead th {\n",
       "        text-align: right;\n",
       "    }\n",
       "</style>\n",
       "<table border=\"1\" class=\"dataframe\">\n",
       "  <thead>\n",
       "    <tr style=\"text-align: right;\">\n",
       "      <th></th>\n",
       "      <th>comments</th>\n",
       "      <th>created</th>\n",
       "      <th>subreddit</th>\n",
       "      <th>subscribers</th>\n",
       "      <th>text</th>\n",
       "      <th>title</th>\n",
       "      <th>url</th>\n",
       "    </tr>\n",
       "  </thead>\n",
       "  <tbody>\n",
       "    <tr>\n",
       "      <th>0</th>\n",
       "      <td>1</td>\n",
       "      <td>1.456352e+09</td>\n",
       "      <td>Nike</td>\n",
       "      <td>11031</td>\n",
       "      <td>Please note that any product from a previous s...</td>\n",
       "      <td>Tips for identifying Nike Product</td>\n",
       "      <td>https://www.reddit.com/r/Nike/comments/47fex4/...</td>\n",
       "    </tr>\n",
       "    <tr>\n",
       "      <th>1</th>\n",
       "      <td>6</td>\n",
       "      <td>1.545143e+09</td>\n",
       "      <td>Nike</td>\n",
       "      <td>11031</td>\n",
       "      <td></td>\n",
       "      <td>Nike IDs, 🔥or🗑?</td>\n",
       "      <td>https://i.redd.it/kop0xjccq1521.jpg</td>\n",
       "    </tr>\n",
       "    <tr>\n",
       "      <th>2</th>\n",
       "      <td>0</td>\n",
       "      <td>1.545150e+09</td>\n",
       "      <td>Nike</td>\n",
       "      <td>11031</td>\n",
       "      <td></td>\n",
       "      <td>3D printed Jordan 1s by me</td>\n",
       "      <td>https://i.redd.it/j4oaab0za2521.jpg</td>\n",
       "    </tr>\n",
       "    <tr>\n",
       "      <th>3</th>\n",
       "      <td>7</td>\n",
       "      <td>1.545082e+09</td>\n",
       "      <td>Nike</td>\n",
       "      <td>11031</td>\n",
       "      <td></td>\n",
       "      <td>Hardshell Backpack / Drone Camera Bag INFO PLE...</td>\n",
       "      <td>https://i.redd.it/2bk8fp7rnw421.jpg</td>\n",
       "    </tr>\n",
       "    <tr>\n",
       "      <th>4</th>\n",
       "      <td>0</td>\n",
       "      <td>1.545109e+09</td>\n",
       "      <td>Nike</td>\n",
       "      <td>11031</td>\n",
       "      <td></td>\n",
       "      <td>Another Redditor asked me too find the name of...</td>\n",
       "      <td>https://i.redd.it/6kqs52x3xy421.jpg</td>\n",
       "    </tr>\n",
       "  </tbody>\n",
       "</table>\n",
       "</div>"
      ],
      "text/plain": [
       "   comments       created subreddit  subscribers  \\\n",
       "0         1  1.456352e+09      Nike        11031   \n",
       "1         6  1.545143e+09      Nike        11031   \n",
       "2         0  1.545150e+09      Nike        11031   \n",
       "3         7  1.545082e+09      Nike        11031   \n",
       "4         0  1.545109e+09      Nike        11031   \n",
       "\n",
       "                                                text  \\\n",
       "0  Please note that any product from a previous s...   \n",
       "1                                                      \n",
       "2                                                      \n",
       "3                                                      \n",
       "4                                                      \n",
       "\n",
       "                                               title  \\\n",
       "0                  Tips for identifying Nike Product   \n",
       "1                                    Nike IDs, 🔥or🗑?   \n",
       "2                         3D printed Jordan 1s by me   \n",
       "3  Hardshell Backpack / Drone Camera Bag INFO PLE...   \n",
       "4  Another Redditor asked me too find the name of...   \n",
       "\n",
       "                                                 url  \n",
       "0  https://www.reddit.com/r/Nike/comments/47fex4/...  \n",
       "1                https://i.redd.it/kop0xjccq1521.jpg  \n",
       "2                https://i.redd.it/j4oaab0za2521.jpg  \n",
       "3                https://i.redd.it/2bk8fp7rnw421.jpg  \n",
       "4                https://i.redd.it/6kqs52x3xy421.jpg  "
      ]
     },
     "execution_count": 10,
     "metadata": {},
     "output_type": "execute_result"
    }
   ],
   "source": [
    "nike_df.head()"
   ]
  },
  {
   "cell_type": "code",
   "execution_count": 11,
   "metadata": {},
   "outputs": [
    {
     "data": {
      "text/plain": [
       "(999, 7)"
      ]
     },
     "execution_count": 11,
     "metadata": {},
     "output_type": "execute_result"
    }
   ],
   "source": [
    "nike_df.shape"
   ]
  },
  {
   "cell_type": "code",
   "execution_count": 12,
   "metadata": {},
   "outputs": [],
   "source": [
    "nike_df.to_csv('./Nike.csv')"
   ]
  },
  {
   "cell_type": "markdown",
   "metadata": {},
   "source": [
    "### Adidas data collection"
   ]
  },
  {
   "cell_type": "code",
   "execution_count": 13,
   "metadata": {},
   "outputs": [],
   "source": [
    "adidas_json = adidas_res.json()"
   ]
  },
  {
   "cell_type": "code",
   "execution_count": 14,
   "metadata": {},
   "outputs": [
    {
     "name": "stdout",
     "output_type": "stream",
     "text": [
      "0\n",
      "1\n",
      "2\n",
      "3\n",
      "4\n",
      "5\n",
      "6\n",
      "7\n",
      "8\n",
      "9\n",
      "10\n",
      "11\n",
      "12\n",
      "13\n",
      "14\n",
      "15\n",
      "16\n",
      "17\n",
      "18\n",
      "19\n",
      "20\n",
      "21\n",
      "22\n",
      "23\n",
      "24\n",
      "25\n",
      "26\n",
      "27\n",
      "28\n",
      "29\n",
      "30\n",
      "31\n",
      "32\n",
      "33\n",
      "34\n",
      "35\n",
      "36\n",
      "37\n",
      "38\n",
      "39\n"
     ]
    }
   ],
   "source": [
    "adidas_posts = []\n",
    "after = None\n",
    "for i in range(40):\n",
    "    print(i)\n",
    "    if after == None:\n",
    "        params = {}\n",
    "    else: \n",
    "        params = {'after': after}\n",
    "    ADIDAS_url = 'https://www.reddit.com/r/adidas/hot/.json'\n",
    "    res = requests.get(ADIDAS_url, params=params, headers=headers)\n",
    "    if res.status_code == 200:\n",
    "        the_json = res.json()\n",
    "        adidas_posts.extend(the_json['data']['children'])\n",
    "        after = the_json['data']['after']\n",
    "    else:\n",
    "        print(res.status_code)\n",
    "        break\n",
    "    time.sleep(2)"
   ]
  },
  {
   "cell_type": "code",
   "execution_count": 15,
   "metadata": {},
   "outputs": [
    {
     "data": {
      "text/plain": [
       "(992, 2)"
      ]
     },
     "execution_count": 15,
     "metadata": {},
     "output_type": "execute_result"
    }
   ],
   "source": [
    "adidas_df = pd.DataFrame(adidas_posts)\n",
    "adidas_df.shape"
   ]
  },
  {
   "cell_type": "code",
   "execution_count": 16,
   "metadata": {},
   "outputs": [],
   "source": [
    "adidas_cells = []\n",
    "for i in range(len(adidas_posts)):\n",
    "    adidas_cells.append({'title': adidas_posts[i]['data']['title'], \n",
    "                       'subreddit': adidas_posts[i]['data']['subreddit'], \n",
    "                      'comments': adidas_posts[i]['data']['num_comments'], \n",
    "                       'text': adidas_posts[i]['data']['selftext'], \n",
    "                      'subscribers': adidas_posts[i]['data']['subreddit_subscribers'], \n",
    "                       'url': adidas_posts[i]['data']['url'],\n",
    "                      'created': adidas_posts[i]['data']['created_utc'],\n",
    "                        'author': nike_posts[i]['data']['author'],\n",
    "                        'score': nike_posts[i]['data']['score']})\n",
    "    \n",
    "adidas_df = pd.DataFrame(adidas_cells)"
   ]
  },
  {
   "cell_type": "code",
   "execution_count": 17,
   "metadata": {},
   "outputs": [
    {
     "data": {
      "text/html": [
       "<div>\n",
       "<style scoped>\n",
       "    .dataframe tbody tr th:only-of-type {\n",
       "        vertical-align: middle;\n",
       "    }\n",
       "\n",
       "    .dataframe tbody tr th {\n",
       "        vertical-align: top;\n",
       "    }\n",
       "\n",
       "    .dataframe thead th {\n",
       "        text-align: right;\n",
       "    }\n",
       "</style>\n",
       "<table border=\"1\" class=\"dataframe\">\n",
       "  <thead>\n",
       "    <tr style=\"text-align: right;\">\n",
       "      <th></th>\n",
       "      <th>comments</th>\n",
       "      <th>created</th>\n",
       "      <th>subreddit</th>\n",
       "      <th>subscribers</th>\n",
       "      <th>text</th>\n",
       "      <th>title</th>\n",
       "      <th>url</th>\n",
       "    </tr>\n",
       "  </thead>\n",
       "  <tbody>\n",
       "    <tr>\n",
       "      <th>0</th>\n",
       "      <td>0</td>\n",
       "      <td>1.513752e+09</td>\n",
       "      <td>adidas</td>\n",
       "      <td>9658</td>\n",
       "      <td>With holidays coming around, and a lot of big ...</td>\n",
       "      <td>Just a friendly holiday reminder about CS ques...</td>\n",
       "      <td>https://www.reddit.com/r/adidas/comments/7kzpb...</td>\n",
       "    </tr>\n",
       "    <tr>\n",
       "      <th>1</th>\n",
       "      <td>11</td>\n",
       "      <td>1.545102e+09</td>\n",
       "      <td>adidas</td>\n",
       "      <td>9658</td>\n",
       "      <td>Hey Everyone!\\n\\nI'm doing a group project for...</td>\n",
       "      <td>Adidas Brand Survey</td>\n",
       "      <td>https://www.reddit.com/r/adidas/comments/a7704...</td>\n",
       "    </tr>\n",
       "    <tr>\n",
       "      <th>2</th>\n",
       "      <td>5</td>\n",
       "      <td>1.545108e+09</td>\n",
       "      <td>adidas</td>\n",
       "      <td>9658</td>\n",
       "      <td></td>\n",
       "      <td>3D printed YEEZY</td>\n",
       "      <td>https://i.redd.it/q14x6l4vuy421.jpg</td>\n",
       "    </tr>\n",
       "    <tr>\n",
       "      <th>3</th>\n",
       "      <td>2</td>\n",
       "      <td>1.545120e+09</td>\n",
       "      <td>adidas</td>\n",
       "      <td>9658</td>\n",
       "      <td></td>\n",
       "      <td>Awkward flex .</td>\n",
       "      <td>https://i.redd.it/wln7dfhruz421.jpg</td>\n",
       "    </tr>\n",
       "    <tr>\n",
       "      <th>4</th>\n",
       "      <td>2</td>\n",
       "      <td>1.545114e+09</td>\n",
       "      <td>adidas</td>\n",
       "      <td>9658</td>\n",
       "      <td></td>\n",
       "      <td>I Just Had To Pick These Up</td>\n",
       "      <td>https://i.redd.it/mcb80ukwaz421.jpg</td>\n",
       "    </tr>\n",
       "  </tbody>\n",
       "</table>\n",
       "</div>"
      ],
      "text/plain": [
       "   comments       created subreddit  subscribers  \\\n",
       "0         0  1.513752e+09    adidas         9658   \n",
       "1        11  1.545102e+09    adidas         9658   \n",
       "2         5  1.545108e+09    adidas         9658   \n",
       "3         2  1.545120e+09    adidas         9658   \n",
       "4         2  1.545114e+09    adidas         9658   \n",
       "\n",
       "                                                text  \\\n",
       "0  With holidays coming around, and a lot of big ...   \n",
       "1  Hey Everyone!\\n\\nI'm doing a group project for...   \n",
       "2                                                      \n",
       "3                                                      \n",
       "4                                                      \n",
       "\n",
       "                                               title  \\\n",
       "0  Just a friendly holiday reminder about CS ques...   \n",
       "1                                Adidas Brand Survey   \n",
       "2                                   3D printed YEEZY   \n",
       "3                                     Awkward flex .   \n",
       "4                        I Just Had To Pick These Up   \n",
       "\n",
       "                                                 url  \n",
       "0  https://www.reddit.com/r/adidas/comments/7kzpb...  \n",
       "1  https://www.reddit.com/r/adidas/comments/a7704...  \n",
       "2                https://i.redd.it/q14x6l4vuy421.jpg  \n",
       "3                https://i.redd.it/wln7dfhruz421.jpg  \n",
       "4                https://i.redd.it/mcb80ukwaz421.jpg  "
      ]
     },
     "execution_count": 17,
     "metadata": {},
     "output_type": "execute_result"
    }
   ],
   "source": [
    "adidas_df.head()"
   ]
  },
  {
   "cell_type": "code",
   "execution_count": 18,
   "metadata": {},
   "outputs": [
    {
     "data": {
      "text/plain": [
       "(992, 7)"
      ]
     },
     "execution_count": 18,
     "metadata": {},
     "output_type": "execute_result"
    }
   ],
   "source": [
    "adidas_df.shape"
   ]
  },
  {
   "cell_type": "code",
   "execution_count": 19,
   "metadata": {},
   "outputs": [],
   "source": [
    "adidas_df.to_csv('./Adidas.csv')"
   ]
  }
 ],
 "metadata": {
  "kernelspec": {
   "display_name": "Python 3",
   "language": "python",
   "name": "python3"
  },
  "language_info": {
   "codemirror_mode": {
    "name": "ipython",
    "version": 3
   },
   "file_extension": ".py",
   "mimetype": "text/x-python",
   "name": "python",
   "nbconvert_exporter": "python",
   "pygments_lexer": "ipython3",
   "version": "3.7.0"
  }
 },
 "nbformat": 4,
 "nbformat_minor": 2
}
