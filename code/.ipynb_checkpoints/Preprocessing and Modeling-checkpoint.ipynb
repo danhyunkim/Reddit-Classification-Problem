{
 "cells": [
  {
   "cell_type": "markdown",
   "metadata": {},
   "source": [
    "# Time to model!"
   ]
  },
  {
   "cell_type": "code",
   "execution_count": 1,
   "metadata": {},
   "outputs": [],
   "source": [
    "import pandas as pd, numpy as np\n",
    "from sklearn.model_selection import train_test_split, cross_val_score, GridSearchCV\n",
    "from sklearn.linear_model import LogisticRegression\n",
    "from sklearn.naive_bayes import MultinomialNB\n",
    "from sklearn.feature_extraction.text import CountVectorizer, TfidfVectorizer\n",
    "from sklearn.tree import DecisionTreeClassifier\n",
    "from sklearn.ensemble import RandomForestClassifier, ExtraTreesClassifier, BaggingClassifier"
   ]
  },
  {
   "cell_type": "code",
   "execution_count": 3,
   "metadata": {},
   "outputs": [],
   "source": [
    "import warnings\n",
    "warnings.simplefilter(action='ignore', category=FutureWarning)"
   ]
  },
  {
   "cell_type": "markdown",
   "metadata": {},
   "source": [
    "**Read in the combined Nike and Adidas csv to begin modeling**"
   ]
  },
  {
   "cell_type": "code",
   "execution_count": 3,
   "metadata": {},
   "outputs": [],
   "source": [
    "df = pd.read_csv('../dataNike_Adidas_combined.csv')"
   ]
  },
  {
   "cell_type": "code",
   "execution_count": 4,
   "metadata": {},
   "outputs": [
    {
     "data": {
      "text/html": [
       "<div>\n",
       "<style scoped>\n",
       "    .dataframe tbody tr th:only-of-type {\n",
       "        vertical-align: middle;\n",
       "    }\n",
       "\n",
       "    .dataframe tbody tr th {\n",
       "        vertical-align: top;\n",
       "    }\n",
       "\n",
       "    .dataframe thead th {\n",
       "        text-align: right;\n",
       "    }\n",
       "</style>\n",
       "<table border=\"1\" class=\"dataframe\">\n",
       "  <thead>\n",
       "    <tr style=\"text-align: right;\">\n",
       "      <th></th>\n",
       "      <th>Unnamed: 0</th>\n",
       "      <th>comments</th>\n",
       "      <th>created</th>\n",
       "      <th>subscribers</th>\n",
       "      <th>text</th>\n",
       "      <th>title</th>\n",
       "      <th>url</th>\n",
       "      <th>subreddit</th>\n",
       "    </tr>\n",
       "  </thead>\n",
       "  <tbody>\n",
       "    <tr>\n",
       "      <th>0</th>\n",
       "      <td>0</td>\n",
       "      <td>1</td>\n",
       "      <td>2407</td>\n",
       "      <td>11031</td>\n",
       "      <td>Please note that any product from a previous s...</td>\n",
       "      <td>tip for identifi nike product nike ids, 🔥or🗑? ...</td>\n",
       "      <td>https://www.reddit.com/r/Nike/comments/47fex4/...</td>\n",
       "      <td>1</td>\n",
       "    </tr>\n",
       "    <tr>\n",
       "      <th>1</th>\n",
       "      <td>1</td>\n",
       "      <td>6</td>\n",
       "      <td>2554</td>\n",
       "      <td>11031</td>\n",
       "      <td>0</td>\n",
       "      <td>tip for identifi nike product nike ids, 🔥or🗑? ...</td>\n",
       "      <td>https://i.redd.it/kop0xjccq1521.jpg</td>\n",
       "      <td>1</td>\n",
       "    </tr>\n",
       "    <tr>\n",
       "      <th>2</th>\n",
       "      <td>2</td>\n",
       "      <td>0</td>\n",
       "      <td>2554</td>\n",
       "      <td>11031</td>\n",
       "      <td>0</td>\n",
       "      <td>tip for identifi nike product nike ids, 🔥or🗑? ...</td>\n",
       "      <td>https://i.redd.it/j4oaab0za2521.jpg</td>\n",
       "      <td>1</td>\n",
       "    </tr>\n",
       "    <tr>\n",
       "      <th>3</th>\n",
       "      <td>3</td>\n",
       "      <td>7</td>\n",
       "      <td>2554</td>\n",
       "      <td>11031</td>\n",
       "      <td>0</td>\n",
       "      <td>tip for identifi nike product nike ids, 🔥or🗑? ...</td>\n",
       "      <td>https://i.redd.it/2bk8fp7rnw421.jpg</td>\n",
       "      <td>1</td>\n",
       "    </tr>\n",
       "    <tr>\n",
       "      <th>4</th>\n",
       "      <td>4</td>\n",
       "      <td>0</td>\n",
       "      <td>2554</td>\n",
       "      <td>11031</td>\n",
       "      <td>0</td>\n",
       "      <td>tip for identifi nike product nike ids, 🔥or🗑? ...</td>\n",
       "      <td>https://i.redd.it/6kqs52x3xy421.jpg</td>\n",
       "      <td>1</td>\n",
       "    </tr>\n",
       "  </tbody>\n",
       "</table>\n",
       "</div>"
      ],
      "text/plain": [
       "   Unnamed: 0  comments  created  subscribers  \\\n",
       "0           0         1     2407        11031   \n",
       "1           1         6     2554        11031   \n",
       "2           2         0     2554        11031   \n",
       "3           3         7     2554        11031   \n",
       "4           4         0     2554        11031   \n",
       "\n",
       "                                                text  \\\n",
       "0  Please note that any product from a previous s...   \n",
       "1                                                  0   \n",
       "2                                                  0   \n",
       "3                                                  0   \n",
       "4                                                  0   \n",
       "\n",
       "                                               title  \\\n",
       "0  tip for identifi nike product nike ids, 🔥or🗑? ...   \n",
       "1  tip for identifi nike product nike ids, 🔥or🗑? ...   \n",
       "2  tip for identifi nike product nike ids, 🔥or🗑? ...   \n",
       "3  tip for identifi nike product nike ids, 🔥or🗑? ...   \n",
       "4  tip for identifi nike product nike ids, 🔥or🗑? ...   \n",
       "\n",
       "                                                 url  subreddit  \n",
       "0  https://www.reddit.com/r/Nike/comments/47fex4/...          1  \n",
       "1                https://i.redd.it/kop0xjccq1521.jpg          1  \n",
       "2                https://i.redd.it/j4oaab0za2521.jpg          1  \n",
       "3                https://i.redd.it/2bk8fp7rnw421.jpg          1  \n",
       "4                https://i.redd.it/6kqs52x3xy421.jpg          1  "
      ]
     },
     "execution_count": 4,
     "metadata": {},
     "output_type": "execute_result"
    }
   ],
   "source": [
    "# Check dataframe\n",
    "df.head()"
   ]
  },
  {
   "cell_type": "code",
   "execution_count": 5,
   "metadata": {},
   "outputs": [],
   "source": [
    "# Drop Unnamed: 0 column\n",
    "df.drop('Unnamed: 0', axis=1, inplace=True)"
   ]
  },
  {
   "cell_type": "code",
   "execution_count": 6,
   "metadata": {},
   "outputs": [
    {
     "data": {
      "text/html": [
       "<div>\n",
       "<style scoped>\n",
       "    .dataframe tbody tr th:only-of-type {\n",
       "        vertical-align: middle;\n",
       "    }\n",
       "\n",
       "    .dataframe tbody tr th {\n",
       "        vertical-align: top;\n",
       "    }\n",
       "\n",
       "    .dataframe thead th {\n",
       "        text-align: right;\n",
       "    }\n",
       "</style>\n",
       "<table border=\"1\" class=\"dataframe\">\n",
       "  <thead>\n",
       "    <tr style=\"text-align: right;\">\n",
       "      <th></th>\n",
       "      <th>comments</th>\n",
       "      <th>created</th>\n",
       "      <th>subscribers</th>\n",
       "      <th>text</th>\n",
       "      <th>title</th>\n",
       "      <th>url</th>\n",
       "      <th>subreddit</th>\n",
       "    </tr>\n",
       "  </thead>\n",
       "  <tbody>\n",
       "    <tr>\n",
       "      <th>0</th>\n",
       "      <td>1</td>\n",
       "      <td>2407</td>\n",
       "      <td>11031</td>\n",
       "      <td>Please note that any product from a previous s...</td>\n",
       "      <td>tip for identifi nike product nike ids, 🔥or🗑? ...</td>\n",
       "      <td>https://www.reddit.com/r/Nike/comments/47fex4/...</td>\n",
       "      <td>1</td>\n",
       "    </tr>\n",
       "    <tr>\n",
       "      <th>1</th>\n",
       "      <td>6</td>\n",
       "      <td>2554</td>\n",
       "      <td>11031</td>\n",
       "      <td>0</td>\n",
       "      <td>tip for identifi nike product nike ids, 🔥or🗑? ...</td>\n",
       "      <td>https://i.redd.it/kop0xjccq1521.jpg</td>\n",
       "      <td>1</td>\n",
       "    </tr>\n",
       "    <tr>\n",
       "      <th>2</th>\n",
       "      <td>0</td>\n",
       "      <td>2554</td>\n",
       "      <td>11031</td>\n",
       "      <td>0</td>\n",
       "      <td>tip for identifi nike product nike ids, 🔥or🗑? ...</td>\n",
       "      <td>https://i.redd.it/j4oaab0za2521.jpg</td>\n",
       "      <td>1</td>\n",
       "    </tr>\n",
       "    <tr>\n",
       "      <th>3</th>\n",
       "      <td>7</td>\n",
       "      <td>2554</td>\n",
       "      <td>11031</td>\n",
       "      <td>0</td>\n",
       "      <td>tip for identifi nike product nike ids, 🔥or🗑? ...</td>\n",
       "      <td>https://i.redd.it/2bk8fp7rnw421.jpg</td>\n",
       "      <td>1</td>\n",
       "    </tr>\n",
       "    <tr>\n",
       "      <th>4</th>\n",
       "      <td>0</td>\n",
       "      <td>2554</td>\n",
       "      <td>11031</td>\n",
       "      <td>0</td>\n",
       "      <td>tip for identifi nike product nike ids, 🔥or🗑? ...</td>\n",
       "      <td>https://i.redd.it/6kqs52x3xy421.jpg</td>\n",
       "      <td>1</td>\n",
       "    </tr>\n",
       "  </tbody>\n",
       "</table>\n",
       "</div>"
      ],
      "text/plain": [
       "   comments  created  subscribers  \\\n",
       "0         1     2407        11031   \n",
       "1         6     2554        11031   \n",
       "2         0     2554        11031   \n",
       "3         7     2554        11031   \n",
       "4         0     2554        11031   \n",
       "\n",
       "                                                text  \\\n",
       "0  Please note that any product from a previous s...   \n",
       "1                                                  0   \n",
       "2                                                  0   \n",
       "3                                                  0   \n",
       "4                                                  0   \n",
       "\n",
       "                                               title  \\\n",
       "0  tip for identifi nike product nike ids, 🔥or🗑? ...   \n",
       "1  tip for identifi nike product nike ids, 🔥or🗑? ...   \n",
       "2  tip for identifi nike product nike ids, 🔥or🗑? ...   \n",
       "3  tip for identifi nike product nike ids, 🔥or🗑? ...   \n",
       "4  tip for identifi nike product nike ids, 🔥or🗑? ...   \n",
       "\n",
       "                                                 url  subreddit  \n",
       "0  https://www.reddit.com/r/Nike/comments/47fex4/...          1  \n",
       "1                https://i.redd.it/kop0xjccq1521.jpg          1  \n",
       "2                https://i.redd.it/j4oaab0za2521.jpg          1  \n",
       "3                https://i.redd.it/2bk8fp7rnw421.jpg          1  \n",
       "4                https://i.redd.it/6kqs52x3xy421.jpg          1  "
      ]
     },
     "execution_count": 6,
     "metadata": {},
     "output_type": "execute_result"
    }
   ],
   "source": [
    "# Drop was successful\n",
    "df.head()"
   ]
  },
  {
   "cell_type": "markdown",
   "metadata": {},
   "source": [
    "## Set X and y"
   ]
  },
  {
   "cell_type": "code",
   "execution_count": 7,
   "metadata": {},
   "outputs": [],
   "source": [
    "X = df['title']\n",
    "y = df['subreddit']"
   ]
  },
  {
   "cell_type": "markdown",
   "metadata": {},
   "source": [
    "## Baseline Score\n",
    "\n",
    "**The baseline score is the score of the majority class. Since the majority class is Nike, the baseline score is about `.502`**"
   ]
  },
  {
   "cell_type": "code",
   "execution_count": 8,
   "metadata": {},
   "outputs": [
    {
     "data": {
      "text/plain": [
       "1    0.501758\n",
       "0    0.498242\n",
       "Name: subreddit, dtype: float64"
      ]
     },
     "execution_count": 8,
     "metadata": {},
     "output_type": "execute_result"
    }
   ],
   "source": [
    "y.value_counts(normalize=True)"
   ]
  },
  {
   "cell_type": "markdown",
   "metadata": {},
   "source": [
    "## Train Test Split"
   ]
  },
  {
   "cell_type": "code",
   "execution_count": 9,
   "metadata": {},
   "outputs": [],
   "source": [
    "X_train, X_test, y_train, y_test = train_test_split(X, y, random_state=42, stratify=y)"
   ]
  },
  {
   "cell_type": "code",
   "execution_count": 65,
   "metadata": {},
   "outputs": [
    {
     "data": {
      "text/plain": [
       "'tip for identifi nike product nike ids, 🔥or🗑? 3D print jordan 1s by me hardshel backpack / drone camera bag info please!! just bought thi at goodwil and look for more info if available. anoth redditor ask me too find the name of thi tracksuit, do ani of you guy have ani idea what the name might be? can I get an ID on these? jordan concord 11 doe anyon know how legit thi jacket is? doe anyon know thi style of sweatshirt? can’t find it anywher anyon know whi nikeid wont let me put iniesta on the back of a shirt? are these still somewhat available? nike airmax 270 volt $56 J3 black cements. good deal? saw these at the shop today. never seen them before. anyon know what theyr called? how long doe it usual take to get your money back when returning? look at thi rad shoe I made ben simmons\\' nike hyperdunk x PE got these for my bday. anyon know ehat colorway these are? can someon ID thi vintag nike hoodie? 123 af1 vs air max 1 vs aj1? full nike utilitarian set up what shoe do they have at the HQ store? better late then never..sup comfy!! how long doe it take for nike to exchang an order I ship them? Is thi color scheme avail in the men\\' free rn? af1 x off white Is nike consist with cloth sizes? what kind of nike print is this??? air jordan 1 help stephen RR won’t disappoint. the current lineup. all black everything! hurache, vapormax, drift, and 270volt! I do love a mini swoosh glad I pull the trigger on these. are the air max tn greedi rare? becaus nike ha no restor in the shop or drop nike after mayb 2 week new shoes? nike \"fear of god\" by jerri lorenzo where can I find a pair of these? where doe the text for nikeid appear on huaraches? 1 vintag nike air max plu tn greedi nice for you? hello everybodi nike lebron 16 are the best basketbal shoe of 2018 detail On whi nba star are No longer sign with nike and under armour what shoe are these? nike return with paypal nike day of nba star endors domin done whi is there an R symbol after the swoosh and a TM symbol on these nike air max 97 premium balck? where the big idea are creat - nike headquart (portland) can anybodi ID what kyri is wearing? look like a nike blazer low, but I can’t seem to find it. look swooshless too. can anyon help me identifi these? I couldn’t find the sourc what type of nike are these? nike headquart air jordan concord 11 review - are they worth it? what are your thought on the nike air more money brought a nike air max 270 :( concord unbox and review! mostli me just drool over them if i’m be honest. arch supports? just found out that the swoosh is hidden in the letter ‘e’ which shoe are these? thanks! anyon know what’ the model of thi sneaker???? what are your thought On the nike air fear Of god 1 beginn ask dear santa, need help find the name of thi jacket Is there a cheaper altern to the chicago 1s and 1.5s? doe anyon know how to fix this? what\\' the style code for thi product? ani new promo codes? test for how much arch support I need – neutral, overpronate, etc? for order shoe online. 40% of tue popul belong to each group. differ shoe suit to each name of thi hoodie? opinion on reflect air max 270? I like the color combo but is reflect too flashi for casual wear? buy as gift for boyfriend, he\\' into sneaker whi I love the air jordan concord 11 - pickup vlog when will nike uptempo black be avail ? store in germani [4k] air jordan 1 union LA \"black toe\" review still can\\'t find name of these someon help me identifi which air 97 thi is? basketbal shoe and factori store jordan 11 concord unbox cheapest air max 97 on stockx 95 x carhartt wip look absolut solid, hard winter shoe here notic some nice sunlight hit my sneakers, had to take a pictur air max 97 need help find thi tee tom sach x nike \"mar yard overshoe\" set to releas januari 31, 2019 ($550 retail) most expens sneaker ??? hey yo I wa tri to buy some shoe for a friend of mine and I think they realli like these but I just don’t know which model these are and where to get em. ani of you know these by ani chance? If you do would it be possibl to PM me with what these are and where to find em? thanks. jordan 3 retro \"mocha\" (releas date: 12/15/2018) question on where to buy ambush x nike where can I find thi hoodie? i’v look all over for it and can’t anyon know what these are? My dad\\' tri to sell these shoe and the number bring up nothing, can anyon identifi them? texa KD 11 PE donat by kevin durant what happen to the carhartt wip vandal releas in the u.s.? what air forc one is he wearing? walk shoes, non rigid and water proof nike PG 2.5 \"pendleton\" Is thi just concept art, or are these avail anywher for purchase? ani info appreci jordan legaci 312 black/gold with patent leather anybodi abl to tell me who is on thi tee? air jordan 1 \"homag TO home\" (quick look) nike domin in thi list of the 20 best sneaker releas of 2018 I am tri to sketch for the first time - age 15 did i miss the fall m2k tekno releas alreadi becaus i\\'m not seein it! unearth of the clot x jordan 13 low \"terracotta blush\" air jordan 1 mid (pine green/sail/black) kmno4 accident went on my fleec joggers. how do I remov it? anyon know where I can buy these air forc 1 high 07 lv8 red and white size 8 or 8.5 which one is your favorite? replac insol for free RN 2017 (men\\' 15) playstat x nike PG backpack PJ tucker in the solefli x air jordan 1 vomero 14 in canada? My elf show up look extra fresh thi morn 💧💧💧 one of my af1 have a sag in the sole of the front of the shoe. ani help on how to fix thi or what caus it nike men\\' air forc 270 what is thi model air jordan 1 retro high OG \"laney\" carhartt x nike air forc 1 util (releas date: 12/18/2018) nike air max 97 OG \"pure platinum/white/univers red\" review nike air jordan 1 retro high nouv nikee just do it they told spider-vers x air jordan 1 earli drop tomorrow at the LA premier lebron 16 \"oreo\" releas tomorrow (12/1) kim kardashian IN nike - is thi the end of kim &amp; kany ? tell me, what is thi model? swoosh dream 💤 will the air jordan 11 concord sit OR sell out? IS IT worth buying? special until saturday Dm IG madfashionzinc offwhit X blazer rainbow 🌈 avail now! ship internationally. PM for more info nike air vapormax 2019 featur a transluc upper and an intern cage trendi sneaker survey retro jordan 11 from 2000 “space jam” AJ XI secret drop yesterday. [help] where to find tech fleec jogger in white camo and carbon heather/cool grey colorways, size M men\\'s? all M carbon heather seem to be sold out and I can\\'t find white camo anywhere. what do you guy think of nike mash the 90 and 95 together? ani fix or recommend for this?? thi pair is onli 3 month old!! I use it for run on road but not flat roads, ususlli with slopes. nike air forc 1 util (avail tomorrow, 11/29) about the nike air jordan 32 brought nike air forc 1 lv8 util that are just about slightli too big.. what is the most comfort air forc one? can anyon ID these shoes? absolut steal nike 6.0 anyon know what shoe these are A big typo in a legit nike sweater designers/cr of the nike zoom fli nike kyri 5 \"multi-color\" drop 12/15 nike air more money remov patch air forc 1 foamposit \"red\" My best bud just hook me up big time with a pair of almost perfect lebron 11 \"what the lebron\" for onli $60. and no he didn\\'t steak it. he bought it new a coupl of year ago . long shot but worth a tri restock jimmi butler put up 34 pt and a game-win buzzer beater last night in the air jordan 28 \"bel-air\" SE what model of rosh is this? [kobe AD nxt] are they repairable? nike swingman nba jersey size what shoe is this? from friend s3 ep13 (1997) af1 with lunarlon sole? nike air max 90 ultra moir white- cant find them anywher hmmm custom \"cork &amp; gold\" jordan vintag nike authent book can someon ID me these shoe pls, I couldn\\'t find them... nike elit crew sock jamal adam of the new york jet with the \"tripl white\" air jordan 11 cleat jordan 1 OG \"celtics\" what shoe is this? Is black friday the best day to purchas nike stuff? can anyon identifi thi air max for me? I found it at a local thrift store and don’t know a ton about air max drake wear unreleas air jordan 11 \"snakeskins\" where to buy nike acronym that arent fake? air jordan 32 \"gatorade\" low jordan 7 retro panton can’t find these shoe anywhere! :( anyon know the type of shoe thi is? will a women’ jacket fit differ on a male person? airmax 270 doe nike put up ani good cyber monday deals? nike kyri 5s are offici out on the website! errolson hugh\\' final nike acg collect just drop happi thanksgiving! 🦃 air jordan xxxii for $120 nike iD question jordan retro 1 high OG (guava ice/sail) outfit for the day My littl sister first jordan jordan retro 1 high OG (cool blue/cool blue/lik mike) PG 2.5 \"playstation\" drop 12/1 can anyon tell me the name of thi nike coat? nike air human made bape forc one can anyon tell me where to buy these when they come out and roughli how much they will be? nike men\\' sportswear microbrand hoodie, orang I want to get a pair of nike air huarach ultra, however, I am flat footed. nike huarach are suppos to be a tight fit so they are offer in a size and half (8.5-9-9.5). My shoe size is a 9. I wa wonder if I should get 9.5 or a 10. ani help? [4k] air jordan 11 \"concord\" 2018 (quick look) air forc 1 mid \"thanksgiving\" (releas in 2006) kyri 5 UK launch custom kobe a.d’ nike outlet vlog! $70 air jordan 1s!! footlock in australia are run a custom tn comp - I think mine turn out pretti good A small streetwear store near me ha an incred rare, origin air jordan 1 PE don\\'t know which model thi is. help.. research on nike &amp; divers just got the acg angel rest. will absolut be hike in these boi russel westbrook\\' 0.3 is a \"lifestyle\" shoe (releas date 11/21/2018) nike sportswear windrunn tech fleec men\\' sherpa hoodi (light bone) (link in comments) which nike are these ? i’m look for a nike shoe that’ under $100 and is good for run and train anyon know the name of these? style code show noth what is thi nike cap called? saw it on fb, person bought it in germany. \\'ti the season ☃️🎄🎁 nike air max delux nike snowboard boot, the nike zoom forc one I bought thi bag and it had a nike label attached, but everyon I know is tell me it’ a knockoff. Is it..? I can’t find much about it online. nike commun what shoe is this? pleas help what type of shoe are these? air jordan 1 \"unc\" in patent leather drop all star weekend 2019 nike air forc 1 \"rose\" nike acg angel\\' rest what nike jacket is thi ? My son bday cake nike air max CB 94 \"cake\" nike sweater ive had or years, value? couldnt find it onlin when i search off-whit x nike hyperdunk 2017 not your dad\\' shoe. (vintage-styl ad by trevor milless) nike sportswear tech down-fil size hey doe anyon know the name of thi tee and where I can cop it. thank just some old nike airs. 306788. nike.com coupon code thank for 20% off select item I can’t find these anywhere? help identifi pleas vapormax size nike infant \"sneaker spree\" 3-piec set (grey) I know noth about nike: doe anyon know what these are? are they even legit? enlighten just heard thi guy on nike lebron soldier 9 what shoe and colourway? ani way to tell if these are fake? identify? help me Sb dunk low size nike just hike price up on clearanc items. some went up $30 🖤💜💙💚💛🧡❤ obj on instagram: “#justdoit” minnesota timberwolv nike nba hoodi (purpl dynasty) nike air foamposit pro \"metal gold\" get the warrior limit edit nike nba citi edit jersey now avail on nike.com (link in comments) joel embiid citi edit swingman (philadelphia 76ers)(link in comments) not my pictur but found one of these in the wardrob at home, just wonder if it’ worth anyth as I can find much about it ? look what I got nike moon racer woo hoo l\\' all week! yeezi boost zebra and jordan concord 11 nike snkr app need help ID a nike shoe (pic included) first pic of nike\\' final acg collect design by errolson thought on thi new kyri 5 colorway? nike infant coveral nike pay homag to dominican thi weekend with the nike air forc 1 \"de Lo mio\" drop saturday (11/17) 🇩🇴 can’t tell if real, pleas help?! which air max 1 is this? will smith receiv these incred rare golden air jordan 5s for hi 50th birthday creed x nike? earli black friday nike women\\' flex trainer 7 cross, white/metal silver-pur platinum, 5 b(m) US now 62% off which nike are these ? pic includ what wa your biggest bargain at the nike outlet so far? must be the shoe pt. 2: the best remain sneaker releas of 2k18 doe anyon know what shoe these are? help find 2000\\' basketbal shoe anyon know thi model? nike\\' new nyc flagship is the face of live retail cross train comparison (nike free x metcon X vs nike zoom train command vs nike free TR v8) can anyon tell me what these might be worth? As far as I know, these are the onli pair that exist. pair of earli 90 termin high sneakers. they’r legit, i’v check everything, and everyth is legit. nike error: \"sorry, we are unabl to process your order. [code: 9e10685b]\" hi! are those nike authentic? what kind of air model is it? wahlburg x air jordan 4 A tool to brows item and find deal on nike product anyon know what these are? $50 giftcard fear of god (light bone) air forc 1 \"beef &amp; broc\" can someon help me ID these sneakers? My friend who work at nike design them and I want to surpris them and get a pair without asking. air max 270 futura air jordan 1 mid \"pure white\" nike ship my order then refund due to overdrawn account, have I just gotten lucki and will still receiv my order? playstat x nike PG 2.5 help me identifi thi sneaker? can someon help me ID these sneakers? what is the name of these air jordans? last night taurean princ wore these nike zoom kobe 3 preludes. thoughts? the origin and menta off-whit air max ‘97 basketbal in the church? nike say yes! \"eybl\" nike KD 7 elit the comm de garçon x suprem x nike air forc 1 low dbfreestyl XV collect (link in comments) price check drippi @madfashionzinc student discount nike outlet shop vlog! found the new jordan 11 and mani jordan 1s black friday help identifi these shoe the wife want [link in comment for sourc image] 💚💛 id-check please! golf le fleur* x convers one star \"burlap\" 270 are so comfort can anyon help me identifi thi jacket? It seem to be reflective, and a similar cut to the sportswear tech hoodie. thank in advance. evolut of nike hyperdunk casual make a reddit account so i can get help on id\\' these shoe becaus nike drop them off the face of the app and the earth I guess 22% discount on nike.com use code s22ngle (must be log in) citi edit dri-fit doe anyon know what model thi is (sorri for bad quality) anoth jordan 4 colorway that is set to releas thi spring nike blazer and nike air forc 1 are basketbal shoe look or not? look for nike employe account with discount nike discuss the ispa (part of their special projects) hard time find a new pair of shoes... doe anyon know what kind of nike these are? I love these shoe for liftinf and would like tk get anoth pair. I do know that i bought them in septemb 2017 in an outlet store. passion about nike valor max fli kit 2.0 squeaking? Hi guys, i\\'m curiou to know if my nike vomero 12 (bought on zalando some time ago) are original. Is there a way to find out with absolut certainty? thank a lot are these shoe just for run or casual wear? they’r so comfortable. onli thing I don’t like is the orang stripe. where do I buy these nike gloves? what is the name of thi shoe? how could nike make that kind of mistake? On new air max plu OG \"hyper blue\" web page. I put normal one to compar them. \"gucci\" colorway will make it way to the air jordan 4 thi spring anyon familiar with these shoes? (nike free TR v8, nike legend react, nike free x metcon) not too special but I love them (af1 lv8 utility) air jordan 1 \"igloo\" (2017) airmax 270 habenaro red. dope or nope? thoughts? doe anyon no the name of these af1’ \"sugar skull\" custom air forc 1 by kickasso ID please? how to fix this? did anyon els get their nike SB \\'black bar\\' without the poker chip? hello, doe anyon know what time tomorrow will drop aj1 not for resell? can someon help me identifi thi jacket? how know where I can find thi ? recent bought it, are these original? qualiti is veri poor. differ between all nike air versatil shoes? can you use gift card on the swoosh website? nike air forc 1 07 mid lv8 whi nike chose to be on the right side of histori with colin kaepernick name of thi adida beckenbau inspir nike tracksuit? sundaz 🌧 (ig: @sbezzy22) ID on these shoes! I bought them at foot locker like two and a half year ago and I haven’t seen them since. nike zoom kobe 4 \"prelude\" anybodi know bout these hurach cuz it seem no-on on the internet talk about them atmo japan x nike air max2 light can nike pleas bring back the backboard ii??? \"just do it\" for tattoo - translat help?! sell shoe in bc, canada? nike air skylon II in white/black/volt/habanero red famili and friend discount \"do the right thing\" air jordan 28\\' (📸: dalezanine) student discount? the nike kyri 5 ha been offici unveiled. here is a look at the \"black magic\" colorway which releas nov. 22. can anyon ID these!! thank you vintag nike tag on the tongu too!! can anyon tell me specif what these are and/or how much they might be worth? what’ yall opinion on the af1 high i found in a ross (left) side by side white my af1 mid (right) what are the most casual look nike run shoes? doe ani one know what these are? nike friend and famili discount doe anyon happen to know where i could purchas an N7 jersey? tonight karl anthoni town is play in custom nike hyperdunk (custom by @kickstradomis) what happen to all the returns? nike look for nike/adida employe account with discount anyon know a workaround on how to buy someth from the nike china site and ship to us? can I be a shill now? can someon help me to get the new stefan janoski zoom x fly? final found a pair of 2002 atmo safari in my size, had to cop them! nike shox graviti lace jordan 4 \"tattoo\" look for nba warmup goal 🙏 (ig: @jnywkz) nike nike T shirt size air jordan retro 6 (black infrared) drop februari 16, 2019 legend react fit? nike air max 95 \"volt glow\" (releas date: novemb 11, 2018) nike\\' glow in the dark air forc 1s forearm sleev nike run ani sale on halloween? Do xbox nike exist? lebron x nike x kith \"long live the king\" are these spooky? I just saw em while scrape web pages. nike air forc 1 skelet forc Do these look legit? collect the rainbow (@davidlauwah) readi to take over the court here in taiwan anybodi know where I can get the nike rosh nm flyknit se (wolf gray and black color) (size 10 M us)? mood nike air jordan retro worth the price or ani other good recommend yes, screw nike! these purpl nike lebron 16\\' that lebron wore tonight 🔥 lakers\\' josh hart wore the \"mambacurial\" nike kobe 11 em\\' last night vs the sun ID request - doe anyon have ani inform on thi keychain? the psg white colorway that wa releas onli to \"famili and friends\" [lc] can anyon help me LC thi pair of air max 1 atmo safari (2002) ani idea what thi sweatshirt could be ? look to buy it onlin but I can\\'t rememb it name. crimson red vs univers red (nikeid) nike air jordan 20 \"midwest\" can anyon help me figur out the name of thi shoe? nike SB x black collab on these dunk high that are set to releas octob 27. vandal suprem \"metal vandal\" (black/white/gold) kyri 4 black/rag green avail now at nike.com! Do normal nike tee fit the same as nikelab tees? can anyon help me identifi these nike\\'s? the green and black one that eminem is wearing. can anyon ID these? got them off the snapchat stori for sneaker need help, find these shoe what citi wa the colin kaepernick commerci film in? need help on the ID of a shirt I bought need help find these shorts. found them on poshmark but the dude cancel the order. whi Is nike founder phil knight spend million on a gop governor candidate? question regard shoe sizes: nike metcon 3 (x-post r/crossfit) need help with the kyri 4 I have been re-buy the same shoe for 10 year becaus they are liter perfect for me. how do I find anoth pair like this? tri to find them on ebay? find it modern descendant? find a cobbler? jordan legaci 312 \"rooki of the year\" promo \"mcfly\" nike hyperdunk worn by PJ tucker of the houston rocket kuz wear the \"four rings\" nike zoom kobe 4, origin drop in 2009 to celebr kobe\\' fourth championship \"craig sager\" air jordan 1s, worn by russel westbrook whi doe nike remov avail of shoe for no reason? PJ tucker wear the \"beast\" nike zoom lebron 2\\' vs. the laker nike zoom kobe 6 \"draft day\" can anybodi ID thi ??? Do you know what is thi and the year it dropped? kevin love wear nike hyperdunk X PE derrick jone jr. wear the nike zoom kobe 5 prelud in tonight\\' game nike site - access deni ON thi server can someon pleas tell me what these are called? i\\'m return brand new shoe to nike.com past the 30 day return date. what reason do I put for my return on the provid return slip? Id on thi strap? got these at a thrift store and I can\\'t find ani other sf af1 with thi strap online. kyri broke out the wild player edit tonight at msg (nike kyri 4 pe) help find these shoes? \"spotlight\" nike kyri 4 player edit ani idea what nike shoe are those ? My friend send me thi pic and she would realli like to know. doe anyon know where you can find thi hoodie? saw kendrick match thi with hi latest cortez kenny’s. nike cat can anyon recommend me a good nike shoe for run in india anyon know where to find thi jordan JB shirt? My favorit run shoe of all time. nike vapormax. love the colorway so much. doe anyon know about what year thi jacket might be from and what it is? found it in the back of a closet that hasn\\'t been touch for at least 8 years. just curious. fresh Im search for the name. look like a am93 but it not... pl help what shoe are lebron wearing? nike + connect can anyon send me a link to buy thi jacket? In 2015 I had these jordans, and I realli like them. can someon identifi them? caus I can’t find them back on the internet... I wear a size 10-10.5 in shoe and I want to get pair of nike exp shoe and I want to know if they run small or not anyon know what shoe are these? cool nike clothes-- anyon know what they are called/wher to find? can anyon ID thi nike shirt? anyon with these nikelab trouser that know if there a way to prevent so much dust from stick on them? 61 % cotton / 39 % polyest I can\\'t find my sneakers.... lunar glide - all black everyday shoe anyon know what thi nike symbol is? On a pair of tearaway pant from the 80\\' or 90\\' Do you guy see resel potenti in the 33 futur flight? what do you call the (white) shoe lace string that hold the black shoe lace in place? and how do you fix a broken one? should I buy A true TO size nike free RN flyknit? anyon have these shoes? Do you like them for the gym? I know there consid lifestyl shoes? nike exp-x14 white air max 270 jordan 1’ retro bred toe doe anyon know where I can get a shirt exactli like this??? air max 1 squeak from the insid can someon link thi shirt in regular men size? saw someon wear it and want to cop. thanks! air forc 270 for raini days? thank you nike, you have help push me further than I could have imagined! need help in identifi the shoes. I made a custom pair of air forc 1 | should nike make thi an actual colourway? | feedback much appreci hey guys- found these at my thrift- I can’t find ani info on them!? doe anyon know what model they are? they look like old acg? whi nikeid ha remov all dunk from the market? air forc too. whi didn\\'t the kyri 4 halloween come out today? what shoe are these? where can I buy them? did they stop make tech fleec carbon heather? what is thi logo on a nike hat? 13 fall + earli winter sneaker We want could anybodi give me a ‘wide guide’ on footbal (soccer) boot brand please. I have moder wide feet. ani way to tell how long these will Be on sale? first detail look - nike x off-whit air max 97 black sneaker! pari saint-germain x air jordan 1 high retro OG need an ID on these women\\' nikes! can anyon help me identifi thi jacket? found these at the thrift, anyon know the model? found thi nike crewneck sweater in the thrift. anyon know what the graphic is or have ani inform on thi sweater?? I can\\'t find out anyth about thi on the internet. someon pleas help!! So mi aunt gave me thi windbreak and i love it but it is too \"wide\" and i wa wonfer if it is a way to make it a littl bit smaller on the side (excus my english im latino lol) can I get an ID on these?? nike coupon question nike first profession athlet with cerebr palsy. Is thi real and if so, where can I purchas it? doe anybodi know the name of these shoes? pleas and thank you! nike acronym presto all three colour way unboxing: off white X air jordan 1 unc review! lemm hold a pair kyri w/ unreleas acronyms? best nike dri fit full zip jacket for casual wear? what is the triangl look thing in the back of some of the athlet shirts? which shirt exactli is it on so I can look those up specifically? what are the sleeveless shirt that are worn dure the elite11 series? how to tell if an epic react shoe is from the batch that ha pop issues? where to find dunk ski Hi wedg sneakers? nike af1 82 authent ? https://www.buzzfeed.com/jvega22/nike-reminds-us-to-chase-our-dreams-3l7ew how to whiten FL rues? what the ID of thi shoe? what is the name of thi shoe?? first look: tom sach x nike mar yard overshoe! how to prevent the color on my nike air max 95 from bleeding? just bought a new pair of air forc 1 low black and i\\'m not sure if they are real I drew the some air jordan 1s hang from a powerlin react 87 can anyon ID thi jacket? can anyon ID these nike shoes? thought on these? (x-post r/sneakers) first detail look - nike air max 720 sneaker! (2019 sneaker release) when will appl watch seri 4 nike+ edit come to nike.com? So I bought thi jacket at a thrift shop and not sure if it’ real. what shoe are these? As a kid I wa realli proud of them. fire pair of air jordan 5 fresh princ grape, will smith everi nike air jordan sneaker releas In fall holiday 2018! (releas date + price) I color dy some white nike sock and they turn out better than expect nike ha been throw these at me hard and the more i see them the more I want them. wtf are they tho? first detail look - off-whit x convers chuck 70 sneaker! An amaz ad by the spectacular artist kerbi rosan My first singl pair of shoes! thank nike, been wait all my life for someon to sell miss match shoes. size 8 and 11 can anyon tell me more about this? product code come up with nothing. cant even find a name, where it wa sold originally, or when/whi it wa made? first detail look - nike air jordan “not for resale” 1 retro high OG sneaker! pegasu turbo problem air max 2017 ani vapormax fan in here? sorghetta tribut tracksuit fit what leg are these? nike flex trainer 7 women\\' gym/dance/aerob shoe - painful. In my opinion the best 97 out there, what\\' your favourit from the silhouette? shoe id?? r/nike, help me learn more about thi ozwald boateng x nike suit custom support issu 3M tech windrunn hoodi - doe anyon own one? the nigel sylvester’ nike air jordan 8 \"tinker\" air raid - everyth you need To know! can somebodi tell me how/wher to buy the nike x off-whit octib 3rd drop online? can I get an ID on these shoes? off-whit nike blazer “all hallow eve” - everyth you need To know! nike shoe for great price!!! doe anyon know those type of tn\\' pleas ? anybodi know what these are I saw georg foreman with them air jordan legaci 312 in ghost green doe anyon know which pair it is I would be so thankful thank nike air m2k tekno x off-whit DM me doe anyon know what the name of thi shoe? #nike #whitesho #zappo #color #shoe #instagram #athleticsho most comfort shoe sole? shop for nike presto acronym smb know the shini material/someth similar that is use for the swoosh and \"logo\"? unabl to identifi these. think they might be fake? anyon know about this? tri to buy, but cant find then doe anyon know anyth about thi shirt? found it at a flea market and have never seen a nike product like thi should I get gucci hyperdunk 2015 lows? comment bellow. nike air more uptempo OG size:36-45 nike therma fit..? air jordan 1 \"pine green\" ani possibl way for thi to be repair on a 270?? nike offwhit blazer | let’ kick it | need help! how To keep your sneaker smell fresh! MY top 5(6) favorit nike sneaker that I own! off-whit x nike collabor by virgil abloh help ID model of these air max lebron 15 or hyperdunk 2017 for volleyball? nike air max 270 flyknit – blue white red can someon tell me someth about thi hat? Or suggest a better place to ask? thank when nike su sega | game historian I made a poster for the mercuri superfli 2014s! what is thi airmax model? how differ is the react on the react element line vs the epic react flyknit? what the name of thi shoe? Do you guy know anyth about thi shirt/sweater/croptop? what the name of thi shoe!? can the white toggl be removed? nike is illuminati confirmed! r.i.p my nike flyknit freerun where can i get these nike air max 90 essential?! nike air forc is realli an basketbal shoe? I bought these nike air huarach run premium from the nike store but I am not sure if they are origin or fake. pic insid ani idea what thi women shoe is called?? acronym x presto size look to identifi these nike I thrift with no size tag / art number, anyon help? I love nike outlet store :) where can I follow what upcom nikeid will be releas soon? australia promot code what nike\\' are these? what nike are these? what part of we have gotten terrorist attack and have been live out lifetim less than noth in nike america in suffer and pain and your slogan is offens to our sensibl doe nike not understand? doe anyon know what type of nike these are? can anyon let me know which shoe is this? can you guy find out what thi shoe is? can someon let me know what shoe these are? tri to figur out when and where thi wa releas My gf put her trainer in the wash, one came out like this....?? 😂 keep acronym presto clean ha anyon purchas from these site before? reminder: nike slogan offens to the sentiment of terrorist attack victim nike presto size help I just order the acronym presto 🔥 sneaker addict - air max 97 OG silver - part 2 how much revenu doe nike gener from air jordan? improvise, adapt, overcom can anyon help me identifi these shoes? thank you!! nike’ advertis are on point the current run rotation: nike zoom fli flyknit and nike zoom pegasu turbo shoe are squeakin like a mf anybodi know which nike shoe these are? nike vapormax plu defective? nike shoutout thi design know hi sneaker drake fashion My favorit hoodi got stolen can anyon identifi thi pair? thx. need help identifi so\\' nike\\' kaepernick &amp; nike remind us of our seemingli lost human are the PG 2s worth it for indoor basketabll? help identifi so\\' nike 🔥 sneaker addict - nike vapormax flyknit 2.0 - part 1 - @melleacd prese... cheapest place to buy nike (shoes, clothes)? legit check nike tom sach 2.0 doe someon know the model of these nike shoes? whi is the new nike lunarep low flyknit 2 so different? what are the most comfort nike shoes? fake nike slides??? nike air huarach ultra SE dilemma the nike websit is run by monkey AM parra price predict nobodi believ in someth even if it meant sacrif everyth more than the shoe bomber, but when do WE get to live!? nike won nike sexual harass women abus worker use child slave just do it! nike m2k tekno pickup regard nike releas wa today’ snkr drop just the one colorway? help with what the pair is under the red ones? epic react belgium 1888 pair releas globally. EU releas onli can someon pleas help me identifi the model of thi tshirt. not necessarili the same color , but just the model. thank you veri much ! can someon help me find these air max plu pleas ? notic how hi should fade from green to white what\\' the nike equival to adida ultra boost? look for a comfi run shoe (have flat feet) can someon identifi what nike bag thi is? My attack believ in someth even if it meant sacrif everything, when do I get to live? jordan 5 unbox hilari review and critiqu yall know heaven gate? what nike are these!? nike zoom elit 10 forefoot look for water resist nike run shoe nike free 5.0 (2013) vs nike free flyknit 4.0 A messag to nike 10 interest fact about nike for those that keep burn or ban nike! I just got one thing to say to you... can anyon ID thi suite? nike employe discount anyon know what type these are and where I can find them ? nike air forc 1 07 sued trainer – khaki lannist love come watch tv. take me to your leader 👽 how that design halp for your suggest somebodi had to do do do do do do it... ID on thi hat? pleas wow doe anyon know the ID and/or a place to buy the jacket in the picture? I deserv a nike sponsorship now thi is dang ol art can anyon id these ? cheer may we never forget becaus spoil boy who play a game with littl brown ball are the real heroes, right? nike air max 90 ultra 2.0 se. need help! jim carrey opinion on nike new nike advertisement! believ in something, even if it mean make up lies. believ in something, even if it cost you 17k. nike\\' sale surg after controversi colin kaepernick \\'just Do it\\' campaign - stori did nike stop make these? - flyknit hyperfeel. help me identifi these 1980s-90 sergio tacchini X nike sneaker inspiration. huarach ultra with socks? contact left the gorgeou new hypervenom iii gold. nike consid shoe line no more? 110 parkside: troop love colin kaepernick and nike | rizki network how nike chose kaepernick i\\'v got thi acid, but I can\\'t do it. a** on fire meep michael scott - nike \\'that\\' what she said.\" shit qualiti U make out there woof woof shia\\' new nike advertis just slay It just do it can anyon help identifi these? found in an old abandon house. say nike air on the tongu tag but I can’t find ani info. drunk peopl on colin kaepernick | 4k did nike offer ‘peopl of color’ a 75 percent off coupon? user of the controversi onlin forum 4chan produc racially-charg and potenti danger fake coupons, in the aftermath of nike\\' endors deal with colin kaepernick. hot dogs! new nike coupon I found onlin veri nice how much? fhtagn ah\\'hri someth someon creat nike replac kit for folk burn their shoe can someon tell me what shoe these are? thanks. how is nike pronounc are these nike vandal low fake or real? forest gump\\' super motiv video for nike I can\\'t believ nike would hire a white supremacist to repres black people! thi is #notok! colin kappernick need to have hi contract revok immediately! encourag the abus of slave buy nike justh do it. 2010 tiger wood nike: burn it safely, we alreadi have your money what if donald trump star in the kapernick nike ad? how we should be respond to the nike boycott stand ground. just Do it. just got a pair of airmax 270’s, tongu fold and rub against top of my foot? whodunnit? take a knee wuss. leet can someon pleas explain to me what at thi fuss is about nike? believ In someth even If It cost you everyth kek^ \"just do it - nike\" by michael scott proof nike use slave to make shoes. what is thi all about, mr. kaepernick? To all the peopl who use slogan with evil subject My retake... nike ha contractor that use black child labor and black prison labor. colin kaepernick know this! just do it.... what did nike do wrong? nike child labor crimes. a compani that abus the poor and weak. nike stand for all that is evil. I need help, how can I make my shoe thighter? video of nike slave labor whi nike is full of shit. just do it nike, just do it Is the boycott go too far? I believe!!! who is realli divid the country... just dew It heaven gate love nike but I don’t thought nike wa go to close instantly? ID on these sneakers? freedom I wear nike what about me? I heard thi wa a thing now what we\\'r secretli hope for. i\\'m tire of see thi everywher asian guy wear nike listen To rap music with hi black friend I don’t feel so good mr.stark doe anybodi know if thi is a men’ or women’ jacket? zipper is on left like a women’ but fit like men’s. Is it a fashion sin to wear non nike sock with nike sneaker and vice versa? make your own nike meme nike footbal - the last game ft. ronaldo, neymar jr, rooney, zlatan, iniesta and more perfect My first post on reddit. I just made this.. is it worthy??? peopl are ridicul repost here. type the address into googl :) the end to the colin kaepernick controversy.. well If anyon want to boycott something, nestl actual kill a bunch of children. mayb protest that first. new nike ad drops: kaepernick nike poster in the nike work place 9-11 If you put $1,000 In nike 10 year ago here\\' what you\\'d have now but what we realli need is beto in TX where can I get a full size nike logo flag to hang off my truck nike campaign lmao burn those nikes! zip zop zoobiti bop it in the game thi is what \"sacrif everything\" look like nike dump! $10 start bid NO reserv rape nike and child labor pleas don’t burn 🔥 your nike nike unfollow just 1 instagram account today...but who! \"life\\' to short for meaningless food\" just ignor the problem. wcgw? can someon explain TO ME what happen kolin crapernick (cleveland radio) An interest meme new balanc about to take over show your support for colin kaepernick by ad him in your fantasi leagu #draftkaep just a remind that kaepernick girlfriend did this. michael rapaport address the hater over the colin kaepernick nike deal As a puprl heart veteran, thank you nike. nike releas the kaepernick ad so that peopl would not talk about it recent sexual harass controversi kaepernick 🆚 deceas nfl star and armi hero pat tillman believ in something. even if it mean sacrif everything. “believ in something. even if it mean sacrif everything.” colin kaepernick. wear your nike! A way to checkmat for the racists. If anyon is burn nikes... new neke slogan be broke ha it upsides! turn a neg into a posit - follow us and help afja spread our mission 🤔🤔🤔 tweeeeek man the new face of nike. #nike #boycottnik My thought on nike endors of c.k. i would like to hear everyon thoughts. outrag off white blazer releas kek anyon know what usa team thi is? team issued? christina appleg wa fine as shit back then, but in that slutti rocker-chick way, like the sort of girl who you could take out to arbi than split a six back of ham and have dirti anal sex IN the back OF MY mom windstar. nike and kaepernick show that your voic matters. for those whose argument against the ad is \"kaep is no longer an athlete\"... can I purchas a kaep shirt yet? id? found at a shop in mtl but they didn’t have my size. not familiar with nike model kaepernick, new face of nike, differ between racist\\' and peopl who have pride for military/peopl look for a new version of an old shoe (noth polit in here, promise). Is nike now pronounc Ne ke? presto util for winter? I love nike now yeah let DO it! for a less than quarter an hour colin kaepernick 12 fall sneaker that scream \"I love the 90s\" - nike domin with 7. just Do it. nike = commun what piss Me off about the colin kaepernick/nik controversi videos: all the best video of peopl \"destroying\" their nikes. upgrad my shoe can anybodi give me a link to these? pleas can anyon ID these? doe anyon know if they still sell these?? Or somewher I can still buy them?? A neutral thought about the whole nike and colin kaepernick situation. #justdoit #boycottnik where can I buy nike tech windrunn fleec and bottoms? are air forc 1 still not true to size? adida outlet shopping! found $40 boost shoes! doe the nike ceo lurk here? fresh new nike nike should backpack their catalog so that everyth is sold online, in store, and at sport events. decemb sale should be 25% off everyth everi year. introduc a shirt that is made of polyfiberopt cotton at 53%, grentwood cotton at 47%. remarket \"just Do it\" in 2021 with a tie in with gq. took a photo and thought it look cool jordan 1s and 3s at the nike outlet! thank to nike buy collin... can someon tell me the name of these please? nike shop vlog! 15% off whole store! what is the differ between BF and GX nike shorts? nike arrowz dri need help find my size. cannot find these anywhere. someon post them on offer up and they call them the nike presto but they aren\\'t. ID on these? I work at nike and none of us can identifi them shoe name? jump man look legit, bought it from nike store, but i’m a bit suspici anyon know the name of thi sneaker? nike vapormax on slipperi surfac (autumn/winter)? ID on these pant please! hey guys, i\\'v found these jordan 1\\' bred GS at 94$ but have a feel they might be fake bc they have a jumpman on the tongu but not on the heel of the shoe, and i\\'v never seen a model like that. I did some research abt the site and it\\' super safe and it ha amaz reviews... what do u think? help find thi hoodi IN stock (s or xs) doe ani one know where to get these air max plu ? it’ like lime green at the toe area and like white but I can’t find it pl help nike revolut 4 flyeas unbox can someon help me with dry-fit discrep help me find out the sneaker in \"neon demon\" can someon ID these for me? thanks.🙂 [help] can you guy help me ID these? when to wear nike air pippen? can anybodi help to ID these? pegasu turbo are definit a must for ani runner out there custom air forc 1 help me ID these nike\\' champ sport twitter link thi is the second time it happens, why? how do you find the \"name\" if you have the model number only? labor day sale... anyon have details? resili apparel #iamresili #resili heel tap rip off second time put them on need help with thi shirt! anyon have ani inform on what gpin is?? shoe name? ID on these women nike that were hand down to me? can anyon help me identifi thi jacket? lebron soldier 11 former employe file discrimin lawsuit against nike for those who have the pegasu 35 turbos... can someon ID the shirt obj is wearing? can’t seem to find it onlin can anyon i.d these 97s? anybodi got an idea what model / colorway airmax 90 these are? I check onlin and the silver mesh isn’t avail on custom so they must be a specif color way. ani help would be appreciated! nike pro warm vs nike pro hyperwarm what is the name of thi jacket? where can I find it? which flyknit shoe are these? what is the name of thi pair? anyon know anyth about these shoes, i’v been tri to find inform about them but can’t seem to find anyth doe thi model realli exist!? what\\' the name of those nike pls? thx enthusiast nike fan wanted! mcdonald never lie ID ON thi shoe? PC af1 \\'82 menswear survey how much are these shoe worth? smash the new season with 20% off – nike voucher code anyon know what shirt thi is? can someon identifi the nike short in the picture? My girlfriend like them and I can’t find them anywhere. can anyon ID thi for me? tri to find these shorts. can anyon ident them? can someon help me identifi these? thought on the black laces? where to get these nike air max 90 red that fit size 5.5 women\\'s? can anyon tell me if thi is real or fake? If real what model anyon have ani idea what color at these are? can’t seem to find them onlin anywhere. vapormax inform nike air max 90 – white, purple, wolf grey &amp; laser pink [fs] nike shatter backbaord size 9 what colour air max 90 are these? I want them! thi pic is from an in-stor poster at foot locker. Is it normal for nike run shoe to make feet sore when break them in? nike’ new cloud advertis campaign can ani one tell me if real leather is use on these shoes? nike life hack - how to get 25% off at nike.com what kind of nike air is? got thi weird ankl ribbing. anyon els get the server issu error? help me find these shoes... help needed! can someon tell me what\\' the releas date of thi shoe what\\' the model how much doe it cost and is it rare legit check what is the exact name of these shoes? whenev I googl nike airs, complet differ search result come up send cleat back can you tell if thi is fake or original? doe anyon know what is thi red hoodi thing? that’ my b-grade jordan 5’s.doe the tongu logo look mess up? we\\'r run a research studi - you can get paid to talk about your sneaker collection! thread by @melvinrichardme: \"here goe my second book thread about my learn of the wonder book \"shoe dog\" by phil knight, founder of @ht have not been possibl if it wasn\\'t for @naval &amp;amp; @douglas9162 1) \"life is short like a morn run\" 2) […]\" shoe id? identifi short neymar wa wear (jacket also if possible) ? what shoe is this? nike air max 93 size advic lebron 15 nike windbreaker, name and where to get it? ?? nike blazer leather Lo Am I sol as far get a 2018 BE true basebal cap? Do these exist? If so, when can I get my hand on them? thi is in my opinion the freshest jacket nike ha ever dropped. anyon know if there’ anyth els similar? tag is gone, anyon know the name of these? [wtb] nike air max 1 watermelon 10.5/10 UK prefer DS ani suggest on which nike shoe to get. I would prefer run shoe where can I find that sweatshirt? doe anyon know the name? anyon know what type of sock these are? they are super thin like a polyest feel and did a great job wick sweat away; they also kept their color over year of washing/drying. all I ever see nowaday are the cotton sock that fade after they’v been washed. can anyon help me ID these nikes? It wa the clearest pictur I could take hard to see caus it’ black and white but can I get ID on drake’ shoe in thi pic? lost a sentiment nike hoodi in belgium, would someon be abl to help me find a replacement? off-whit nike zoomfli SP 4％ from pkyeezy.ru can someon ID thi nike t-shirt ? I cant find it anywher ctc copppp Is thi a real shoe air max 97 or air forc 1? air jordan 1 royal 2017 shoelac loop on nike huarach ultra fell in slot. can anyon tell me how to get it out?? aj1 x offwhit unc in the factori new pick up! air max 97 / plu \"silver shark\" from champ A look at what’ insid nike brand and nikelab chicago! anyon know where I can find thi shirt? desmond harrington sneaker in \"neon demon\" ID on these shoe please? ID on these shoes? basketbal jersey with short sleev latest pickups!!! ye or No on the return of the huaraches?? I got “the nike air huarach \\'91 QS men\\'s” doe anyon know the name of thi model? ship intern help me ID these please. nike canada error can someon help me ID these shoes? nike claim can someon help me pleas I need to find the 8 nike sneaker in order to buy it question about af1 SF mid sued what are these shoe called? can someon ID thi for me? off-whit nike air max97 the ten ani idea what model these are? good nike’ walk most of the day? how much is air jordan legaci 312 resel price? have had these for quit a long time. what are they? My sneakr app goe blank after press log in or join on my galaxi s7. work on my s9 though. ani help? can anyon ID these shoes? can anyon ID thi shirt for me? can we not view our run onlin anymore? look for nike short with metal-cap drawstr Do these nike air max 270 “dusti cactus” sneaker look authent to you guys? Id shoes? ha anyon been to the nikelab store in chicago? could I get an ID on the white jacket the model is wear in this? experi with nike iD wide widths? question about the new pegasu 35 turbo can I get an ID on these pleas I don\\'t get whi would they come up with those aj1. literally, what were they thinking? what kind of nike are these? can i clean these the same as i could clean mesh shoe if not then how would i clean them? second hand from a chariti shop. not bad for £5 can anyon ID thi nike sub brand logo for me? it’ from a jacket I found at a thrift store. thanks! I don\\'t know if these are nike, but i need the name of them can anyon help me find this? nike air max UK onlin shop | nike air max shoe sale for women and men nike websit question how do i get nike shoe deliv to malta? delet nikeplu account nike from aliexpress ? final got some af1s! alreadi got forcefield but get minor creasing, ani way to prevent or fix? they were free, what do y’all think after I clean them up? can anyon ID the airmax hoodi nyjah is wear at 3-13 secs? can anyon help me identifi the year/nam of thi pair? mesh shoe air forc 1s or cortez (white with black swoosh) help me identifi which shoe thi is can anybodi i.d. the shirt denzel curri wa wear at woo hah 2018? he wa also rock match short . So I wa look for some cloth onlin and I came across these but they weren’t list becaus I wa look at the pant so doe anyon know what nike shoe these are?? pleas help thank just a friendli holiday remind about CS questions: adida brand survey 3D print yeezi awkward flex . I just had To pick these Up can someon ID these shoes? can anyon tell me what thi is? can someon tell me the name of these ? Or are they fake ? where can i buy these adida tights? My flip on an old lookbook onli 800 pair in the world! kith adida futurecraft aspen 4D (on feet) start them young, or in thi case, right out the womb saw in shanghai store. tri to find in uk. can anyon identifi thi piece? womens, originals, velveti material. adida neo cloudfoam, ultim or lite racer cln? ha anyon ever seen thi before? My wife pick up thi pullov for me and I didn’t realiz it had onli stripe on the right arm until I put it on. seem weird? just look for answers. need help find someth similar To thi jacket just without school logo are these legit? adida high top identif here is a tag of the adida that I am tri to identify! ani help is appreciated! adida overkil eqt sizing? long ship times? ani idea what style of adida these are? the code on the insid tongu bring up noth and I can’t get the QR code to scan. can someon pleas tell me what\\' the name of thi tee? Or at least on which site can I find it? miadida energi boost thrift store find- pick these babi up for $3.74. In great condition, just gotta clean them up a littl bit! decid To Go after A differ pullout box... sst track pant VS tiro 19 pant (which do you like better) i’m get these adida custom to get yellow dy sole like the classic forest hill colorway. should I get part of the front shell toe dy to match the line of the sole? Or the entir shell? adida realli out here send me broken adibreak pant My raffl ticket got denied! yeezi boost 350 V2 semi frozen yellow pick ... how to return stuff these oil-bas marker work well. poor man ultraboost: adida pureboost dpr. great for wide feet! doe anyon know if these look good in person? are these ultraboost fake? can someon find these in size 10-11? wore these in grade school. I think they are call top 2000 dark indigo. help identifi thi shoe? doe adida charg debit card twice? pick up these beauti today. best adida for male cheerlead will the yeezi 350 V2 semi frozen yellow sit OR sell out? are they worth... help?????do_you_know_if_there_is_any_way_how_to_still_get_these? 🙏 adida cell prophere? My favorit three of 2018 websit recommend for adida originals? are these consid to be a rare nmd R2 color? got these yesterday and can’t seem to find them anywher onlin besid ebay. what size should i get for pharrel x solar hu glide?(men) hi and hers. love the off-whit continent / rascal. adida windbreak that I cant find anywher anymor ultra boost 2019 load on adidas.com (dec. 15) thoughts? what are these? I need help In identifi these shoes! mark you calendars, ladi and gentlemen!!!! good luck 🍀 🐉 thoughts? alexand wang look for thi adida jacket adida shenron shoe final receiv my dragon ball shoes!🐉 onli need 4 more to finish the collection.... should I get the ultraboost or pureboost for standing/walk all day? ID on these pants? adida find new valu in major leagu soccer never buy anyth from adidas.com ID on these pants? tri to find these ash pearl ub in womens. crazi long-shot, not even sure it’ adidas, but I saw thi hoodi in a video and if it is, wa hope to get an ID on it. NO way! just reciev thi from a friend. ani thoughts? shoe size help can anyon tell me what type of adida these are, couldn\\'t find a name My majin buu kamanda came today...glad to see my collect box is in the worst possibl condit help with id? I don’t know shit about shoe final start collect thi year will these return? anyon know the name of thi tracksuit? My wife did someth incredible. look for a specif adida show (pic inside) got some shoe lace to glow up the kicks. 3 stripe life! look for good place to sell adida jacket insan steal with code adifam for 30% off! took em a week to deliver, but worth the wait. anyon know the exact shoe? look to purchas for a gift lost thi jacket, anyon know where I can find it or similar? bought it somewher between 2007/2009 pleas identify. I got it from footlock netherlands, but can\\'t find it anywher can anyon help me find a place to buy these at? Is there a releas date for the shenron shoes? ani place that still sell these is europe? what is this? for those who wear copa mundial while they play soccer I fuck love the 4.0 miami ub\\' that just dropped, I love the three stripe - however, not 3 day ago I purchas thi shoe at full price ($260), it then \\'sold out\\'. A day later they\\'r advertis on the websit at $220 and have full stock available?! whi did I pay 40 buck more than the sleepers? size for adida tiro 17 friendli remind that the colonel proudli rep the 3 stripe brand ship issues? adida sobakov dad life help whi did my shoe turn purple, onli wore them home after pick up from fedex for 15 min on the sidewalk, didn’t walk through anyth weird whyyyyh ID thi hoodi please! can anyon help me identifi these i’m back again with anoth adida concept art, request by anoth customer. let me know what you guy think of it anyon know if a larg in woman’ track pant fit the same as a medium in men’s? been want the sst track pant but with the cuff replac with zipper (sorri for bad pic) doe anyon know which shoe these are and what color way ? screenshot from video found thoos in a foot locker in athens. what\\' your opinion? cop OR drop? - upcom yeezi boost 700 V2 static &amp; yeezi boost 700 V2 salt the brand with the 3 stripe katakana wall decal! chalk pearl ultraboost shoes? anyon know the shoe? look for these for a xma gift.. E5 route, thi summer. adidas.com order on cyber monday. cybermonday anyon know anyth about these pod couldnt find anyth onlin about them. onli websit i can find em on is a german websit call overkil and at 120 euros. adida mess up for anyon else? unbox the nmd r1 pk I need an id on thi shirt what size should I get? ID on these please? found these at costco for $25. pretti good deal I guess. trifecta of black friday deal where can I find this? undef ultra boost 1.0 custom - uncag &amp; black boost! nmd R2 pk primeknit pod-s3.1 paint boost! what do you guy think? order bought these run trainer off ebay for £12 they were bought but didnt fit so never use and i thought they were a bargain and im onli go to run in them..it doesnt specifi what type of adida trainer they are &amp; the pic are pretti bad, can anyon tell me what type of adida trainer they are? majin buu kamanda came in! [question] what doe the letter say? bought thi sweater the other day and the more I wear it the more I wonder what the letter says. definit my favorit pair of shoe differ between adilett cloudfoam and adilett cloudfoam plus? (link included) premium boost box @ adida warehous sale in santa monica today. $80 each pro tip: make it a habit/hobbi to check in with your local ross or burlington stores. somehow thi end up here and I wa surpris to see the price slash in half. (140 retail, 50 ross price) be a 3 stripe fan i’d buy it but it wasn’t in black and for a size medium it wa kinda big. dope tho. anyon find the name to these? doe anyon know a place to purchas this? I cannot find it the new adida EA sport fourth kits. https://youtu.be/xryopbgb4uu doe anyon know what\\' the name of thi jacket? can someon pleas tell me what these are?!? dbz shenron love my new ultraboost ltds! breathabl soccer cleat i-5923 size question black friday pickup (sesame, etudes, kith, 4d) the 3M on the kith x nonn ultra boost is crazy! adida slide can you tell me if thi piec from earli 2000 is authentic? anyon know what thi bag is called? bought it onlin and want to buy a new one, and no, the tag doesn’t say what it is. how do I clean my shoe without spoil them? ant and mid sole EA sport x adida || juventu suggest on choos between adida perform questar ride and swift run? adida x dbz kamanda box is fire! I bought two ultraboost 4.0 at the same size, but one is much smaller than the other. i’v been make graphic design for adida teeshirt and I thought thi one look cool...want to know your guy opinion anyon tell me more about these at all? doe boost freez and it doesn’t come back to what it was? got thi jacket age ago and wa wonder what trainer should I get to go with it? (bi the way, it\\' not as bright as it look in the picture, it\\' more of a deeper red in person) phish scam use adidas.co.in site sneaker head survey question anyon have thi problem when check out in app? help me find someth for school dbz shoe gambino altern for the nmd boosts? cyber monday ship Is there ani talk about the falcon line for men? question for peopl that own the windsor track pant what’ thi sweatshirt? what shoe is this? will the yeezi 500 salt sell out? are they worth buying? just got nmd cs2 tripl black version. they\\'r a bit loose, wtd? just order these for $98.00. thoughts? they are way more purpl irl. what are these tri to buy. tip on clean (full recover) thi bad boys? can’t find gohan return shoe that I bought with a promo code - new code? can anyon help me figur out the name of thi colorway? ebay is sell 10,000 pair of the adida yeezi 350 boost V2 cream for under retail forgot I had these! are adida sold on amazon legit? [discussion] price check on tnt tape hoodi zne hoodi sizing? doe anyon else\\' shell toe randomli get glittery? where can I find thi shoe? yeezi 350 V2 sesam size question adida ultra boost 1.0 \"multi-color\" (navy) 2018 restock review &amp; On feet look for shoe (nmd)? all I bought wa sweatshirt and some pants, and thi wa at the bottom of the bag show of hands, who els wa abl to cop a buu and gohan!? dragon ball z trade! kamanda majin buu question anyon feel the alphaedg 4d? what’ the name/styl of the shoe tina fey is wearing? thrift these today. wonder what type of adida they are? real or fake? dbz drop delay again!? anybodi have ani recommend for re-soling? hey I saw these shoe at sax5 and wa in love sorri for the bad pic but doe anyon know what the are. It kind of look like a snow/wrestl boot and ha a line down the middl as well and look realli flat and comfortable. Do these look crazi big on me? got em as a gift but they\\'r half a size too big. what do you think?? wearable? will my refund go to paypal or straight through to my bank? 🎯 stormzi x adida collabor on the way. i’m addicted. If you need name just ask 👌 can anyon id these shorts? can ani help identifi these shoes? Do yeezi 350 V2 fit true to size? adida creator point i’v acquir a pair of green leather chile 62, insid the have print ‘sampl not for resale’, can anyon tell me if they’r rare or not becaus I can’t find anoth pair anywhere. I just got these for 60% off at my local outlet. thi wa the first time I have ever gotten boost foam. I wa previous a die hard nike fan but now I have realiz what I have been miss out on. the boost foam feel so amaz worth the wait uncag propher anyon know the model for these soles? how do i contact adida via a live chat? anyon have an ID or link to the jacket in thi pic? not even gonna lie, design these wa a challeng but extrem fun. adida ultra boost 1.0 \"cream\" 2018 restock review &amp; On feet adida CS 2 need help identifi an adida shoe model I had as a kid. I start collecting, today. adida app can anyon help ID these pants? look what came in the mail today 👀 sorri for bad qualiti but can anyon ID the jacket? need help decid shoe size for a friend (it\\' a gift) will the yeezi 350 V2 sesam sell out? are they worth buying? ID on these jogger with the triferg type logo &amp; cut off stripes? pharrel x adida solar Hu glide review &amp; On feet got a fresh pair of duramo 9’ I littl someth i did for school out with the old can someon ID thi hoodie? doe someon know the name of the hoodi ? pleas answer if u know 🙏🏻🙏🏻🙏🏻 can someon ID these and their colorway? can someon ID my t-shirt? got it from my dad A littl basic, but consid it took me a while (and languag difficulties) to get \\'em, i\\'m happi as hell. adida ultra boost mid prototyp review-i know it\\' late look for an adida product I saw on someon while shop ID on the shoes? just havent been released? #at19 how do you clean the boost materia, it got stain in the wash machine. how doe the adida site work for drops? current in the wait room, even though the shoe releas 5 minut ago. ID these adida slides? (they are not adilettes) got them at the adida store in vancouv about 6 year ago and can\\'t find them anywher new 1.0 sizing? wrong size delivering?: I order a size 9.5 but when I went to track my order it said “9-.” should I be worried? crazi explos adida is drop ultraboost heat! 2 of my favourit adida shoe in 2018 what are these? hour later I still don’t know My first 2 pair of ultra boost adida deerupt black/green/blu My first ever boost! couldn\\'t be ani happier. I wish I discov it sooner... tracksuit wednesday input address in websit but it claim it is an \"invalid value\" question on pharrel tenni Hu line new video pharrel william human race nmd inspir pack someon know what is the name of thi hoodie? where can I find these pants??? adida nemeziz messi 18.1 \"initi pack\" boot | new messi boot adida yeezi boost 350 zebra unboxing/on foot review Do you get an email onc adida canada receiv the return product. doe adidas.com accept visa gift cards? doe anyon know if samba millennium leather shoe will return? pharrel inspir pack question suspici practic onli thing hotter than my connect 4 skills!! new dragon ball Z updat for US don\\'t step to samba gang adida windbreak adida tnt tape hoodi anyon know what shoe these are? 🔥think about buy these🔥... got my mom i-5923\\' for her bday telstar $60 + second 75% off Is thi boost real? cheap and comfi flexxx lol human race adida employe pass fix for peel iniki stripes? My last hope is thi sub. I am desper to find thi hat again. adida minnesota wa l/xl. purchas off amazon but no longer available. ani help would be great need help find out what shoe thi is. where could I buy thi hoodi in germany? I made an unoffici advert for adidas, what do you guy think So I got a confirm email for my order, but it hasn\\'t shown up on my account and it\\' still stuck in payment processing, so did I even get the item? adida yung 1 core black/carbon help identifi these? fav bboy shoes! I don\\'t think these are the origin laces. what should i do lol conceal boost? adida i-5923 black/whit Id on these good way to get rid of these creases? Is it safe to iron thi plastic-i leather stuff? real or fake? reliabl websit I can buy these? where can I find the shirt link in thi article? I pick these up at a thrift store a coupl year ago and they were worn out even then, but I love them. could anyon help me identifi them? are there ani similar shoe I could buy now? alphabounc instinct or alphabounc beyond? now these are my jam. boost the vote! my adida philippin track top is made in china plan on buy thi pair via goat becaus it’ out of stock on the website. but is goat trustworthy? crush it at the adida outlet today these look so good should have bought these when I saw them. So nice. doe anyon know where I can get thi type of adida workout shirt? lpu - adida origin eqt sst bold track jacket from ross - $35 (origin price at $100) pleas help anyon undef ultra boost can\\'t decid which pair to keep chief ani idea what these are? I can’t find ani signific mark anywhere. must’v bought them age ago becaus i have no recollect of them whatsoever. cop yeezi fake or real? nmd hu 👌 dunno which one is the best size on the gazelles? aquallet vs cloudfoam plu sobakov adida dragon ball updat new snowboard lineup that featur prism color tri foil? update: complet botch dbz releas - still botched. what shoemodel are these? 🤔 he doesnt know these it chief? adida beavis&amp;butthead resal dragonbal Z adida ultraboost clima: super breathabl with a wider toe box. dbz son gohan delay until nov 24 adida deerupt core black are these leg real? nmd R1 grey white adida origin vs adida store just sharing... anyon know of a trust websit where these are still sold authent new? i\\'v check everywher and cant find them. If I do, they\\'r not my size! found a pair on ebay, but I slept on them and they sold. now i\\'m on a hunt for a pair size 10.5. someon help! tubular shadow core black/solar red/mysteri ink are these tiro 19 pant legit? can anyon ID thi or is it even authentic? custom ultraboost 4.0 mint chocol chip pureboost dpr men vs women will sold out shoe be restocked? anyon know the offici name of these? i found these shoe in my wardrobe, they’r pretti cool I just don’t know the name of them. tri a few googl search but nothing, wa hope someon here would know I need help. straight from adidas. where exactli is evn factori stored? ultraboost or alphabounc question anyon know the estim inventori for these mile silvas? cell propher are the alphabounc space dye good? ID on the sweatpants/joggers? Or know of ani that have a similar cutf at the bottom? soooo are the dbz shoe for octob confirm retail only? ultraboost make click sound when walk omg look theees ! 😦 predat 18+ fg crack up after first use? bought these dope 93/17 boost and put these sweet katakana lace on them. 😁 complet botch dbz release. dbz shoe adida busenitz pureboost alreadi tear after 2 weeks. so did the 2nd adida X dbz collect even drop at retail in the us? thi ha got to be one of the most confus releas dbz octob releases? No onlin releas for dbz shoe are the OG color for the nmd R1 seri come back? adida X dragon ball Z gohan and cell delay until tomorrow. confirm via live chat. what are you peopl doing? I order some stan smith shoe on the 23rd and they still haven\\'t pack it yet... how long should it take? can anyon help identifi what shoe model are theses? much appreciated! buy new dbz shoe a few month later. possible? made an adida ushanka, so cool (made with black ushanka and white faux fur) are these nmd legit becaus I notic the sole is misalign at the top and at the back of one of the shoe the boost is cover by the back of the prime knit upper. see pictur below cop these beauti for $28. look clean lost my love jacket, ani hope in find thi model again? what to match with these nmds? are there ani leather part on the crazi byw II ? dbz X adida sneaker can ani tag expert help me date thi tshirt? i\\'m guess 90\\' but can anyon narrow it down more? Is there a more beauti sneaker in the world? adida fashion sneaker design after indoor train shoes: outsol stiff and mid-/insol hard? still My favorit adida of the year found thi 1999 adida jfa track pants, how rare are they? anyon know when the nmd R1 logo is suppos to drop? name of the shoe on the picture? can’t find it anywhere:( custom adida ultraboost 4.0 drip doe ultra boost ever go on sale? veri impress with my new adidas! fresh as hell and super comfortable. thi cloud foam is the truth!!! duramo shoe underr sneaks- dig these first wear in 2 years... sole sep hahaha I bought these pharrel william onli a week ago and they\\'r alreadi do this, it piss me off. 1. Is there a way to fix thi befor it get worse? 2. Is there a way to prevent thi from happening? what is the name of the sweatpant that look like this? and how do you rate them put some katakana lace on my ultraboost uncag and eqt 93/17? dope or nope? 😁 how do I identifi the style (model) of adida shoe the by the number in the shoe tag? who fw these?? pleas help - tri to find these shoe hello. can anyon help me ID thi windbreaker? help ID vintag adida jacket? adida yeezi wave runner 700 solid grey b75571 yeezi boost 350 V2 vs nike size id? i’m assum those are the beckenbau (or whatev they are called) look for thi jacket, ani ideas? got these from sportchek last week online, they came in the mail and the upper fabric wa snagged. I return them but i\\'m afraid they might have some defect again. how do you avoid the snagging? anyon know anyth about these y-3 shoes? Do you know where to buy this? can someon give me an ID on thi hat? got it at a garag sale and can\\'t find it onlin anywhere, thank for ani help. straight from adidas. where exactli is evn factori stored? adida 40% off doe anyon know the name of these and whi they’r so rare? favourit adida hightops? ship through adidas.ca help need to find the name of these had to cop some y-3 can someon pleas identifi these? i’m look for these adida shoes! someon help me out anyon resel a boucher jersey? help! desper look for beckenbau short tactil yellow So much 🔥 look for a hoodi what is evn on yeezys? anybodi know the name of thi addida jacket and a possibl link to where I can buy it. tide pen actual work realli well on primeknit. wanted: 2006 adida superstar II adicolor Y6 yellow queen mcmullen Sz 9.5 DS legit check on adida origin california t\\' what shoe are these called? insid it say adidas. post question: ani way to replac one shoe? redditor find a lego x adida collabor at a thrift store Is the back heel on feet good? adida will soon releas these limit edit \\'game of thrones\\' kick urpris MY girlfriend with yeezys!!! 350 V2 (tripl white/cream) doe anyon have a clue what collection/year thi version of the logo might be from? found thi hoodi at a flea market in romania! glad I have A temper PK 1 year old crazi for ultraboost and nmd users, how do you clean your shoe to whiten it super well? 15% off code found a dope way to display my adidas: Id on these red beauties? ID on these pants? thanks! adida fall/ autumn lookbook Is thi tag legit? found some adida x undef cloth at the adida outlet. thi and some camo under armor there. thi wa 150 and the under armor wa 240 nmd cs2 size can I get an ID on thi sweatshirt/ hoodie? are the shadow ck a good \"everi day wear\" shoe? adida ultra boost parley in 100$?? Is thi normal for yeezys? (hole after clean them) when your salari written on a pair of shoe latest addit to my ultraboost collect - clima solar yellow (ye they glow in the dark) favourit adida book and resources? got some ultra boost for work. best decis i\\'v made ina long time wash tese about 6 time after mani hikes, hundr of gym visit and they still look new. I also have a few nike which i tri to avoid wearing. too narrow, too uncomfort to stand on. not an ad!! what do you think of thi shoe? anyon got a pic of themselv wear it? small 3 stripe wheel wrong address legit check thi boost? look for tnt tape track jacket/hoodie/sweatshirt (navy) Is thi a fake from adidas? I have the confirm mail! look what came in the mail today 🔥 tiro size question realli need help know what model these track pant are... i saw them on ig and ive been look for some new pants, but i couldn\\'t find ani pant similar to these one on the internet, thxx in advance. :)) possibl join the dark side new to adida releas (calabasa track pants) long shot but can anyon tell me which adida track suit is the warmest and most comfort (no hoodie)? disappoint in the new kick - cloudform summer shoe alreadi have hole where toe touch anyon hope to get these at the weekend, i\\'ll probabl take anoth L best adida combo with convers what are these called, and where can I buy similar one (similar style, not exact same shoe)? Is it possibl for anyon to get in the adida hq? I cant find ani origin tnt adida tape hoodie, wa thi like a super exclus edit or something? adida stan smiths? ultra boost clima need to know asap! which adida shoe make Me look the tallest? you guy know how to fix? like should I just superglu or what new cop, so happi ☺️☺️☺️☺️ anyon els het these? stan smith creas on foot I got these both for $60 each at my local adida outlet. great deal consid they’r $180 on the websit need expert help to identifi these kick anyon know what jacket thi is? can\\'t find pant that fit me well are these two the same shoes? differ between 2 shoe adida california windbreak blue, need help find one My girlfriend is tri to find thi shoe model. anyon know? which kind of adida shoe are these? pleas help me! the tripl grey ultraboost heel cup match the glacier season6 calabasa sock doe anyon know what is the model number of thi sweat shirts? stoke about my new pair of busenitz\\' join the dark side I had a friend tell me that these weren’t suppos to be out yet. Is that true? can anyon identifi jame harden\\' pant in thi photo anybodi know what type of adida shoe thi is? clean ultraboost and refresh hoodi help, what is thi collection? My extrem functional, sometim flashi collection. are the adida deerupt run shoes? what size yeezy’ should I buy??? carbon fiber adi pant are amaz can someon pleas help me identifi the jacket name? thank you! can you identifi these shoes? can someon pleas help me identifi the jacket and pant name? thank you! Is it safe to alter sst track pant with a tailor? solar boost question need some help with shitti qualiti control of adida skychas gtx I return some shoe but forgot to put the return form in the box. will there be a problem? can anyon help me identifi thi shoe? cop my 1st pair of ultra boost. i’m excit to tri them out 🤙🏽 differ between hoodies? adida women’ slush pant can anybodi help with thi anyon know the name of the shoes? it\\' start to tear apart and I want to buy a new one. can y\\'all login into adidas.com (u site) right now? what happen to adida live chat? what are these pants?? yeezi suppli sent Me the wrong size tripl white’ doe anybodi know how to use an employe discount on adidas.com? hello? can\\'t talk right now... adida is piss me off somethimes. until we meet again adida fall/ autumn lookbook ID these ultra boosts? My googl fu is fail me eqt basketbal adv 38$ 20 percent off coupon ID on these shoes? psa: If you bought the yeezi boost last week, you onli have 7 day to return. newest sponsor! adida climacool track pant - not tapered/skinni today\\' purchas i’ll probabl get flak for thi but I thought these look better. ani idea on how to get these? - \"adida origin spezial columbia spzl\" set a clock to get the new releas of a sneaker release, wait an hour but you told me sold out? Hi guys, can you pleas do a legit check on thi piece? I dont know where it wa bought but it pretti old. got kick out of my order? order say it’ process and ha expect deliveri time (three day ago) but wa deliv the 25th. what’ go on? more info in comment how am I suppos to clean these? pleas help, the model is call campu stitch and turn. thank can someon tell me what thi jacket is? (or tell me a subreddit i can ask on) sizing? anyon know the name of these shoe from run scare 1986? feel that adida is tri their best to prevent yeezi return adida yung 1 fit doe anybodi know what thi shirt is? I got from my sister and she gave it to me becaus it wa too small for her. I have no idea what it is, I research onlin and couldn’t find ani info. It ha a 72 on the back. ask me if you need more pictures. propher dbz x adida collab are those legit? pleas need help just a few month ago, i didn\\'t even own a pair of yeezys. can anyon ID thi print? miss my 3rd deliveri with ups. big problem with adida order &amp; custom servic can\\'t wait to get these on a trail! I can\\'t check out?? score these knit TP at burlington for $20. now I need to find the jacket. $84 ultraboost clima shoe that glow in the dark! question about ultraboost sale id? can’t find em on the page even tho thi wa just recent posted. doubl side trefoil tee can anyon ID the sweater he\\' wearing? returns? these bad boy final came! nice outfit iso !! look to buy a new pair for my boyfriend &amp; havent been abl to find them online, if anyon know what these are, it would be much appreci ! I need help find thi sweater what is the adida packag type? adida yeezi 350 V2 (tripl white/cream) - unboxing, review (mi first yeezy\\'s) cop these🔥 should i buy the BB or the sst trackpants? I call adida custom servic regard my “yeezi tripl white” suppos to be deliv today, but they’r not even left the warehous yet !!wait like over an hour. and ignor me while they’r talk to other employee,caus they don’t know I wa in line! Is thi happen to ani of you guys? ZX 500 RM size dragon ball z.. ultraboost heel slippag help! cop these two for $130 on the last sale where can i find these kicks?? i’m guess thi is to good to be true huh :|? doe anyon know? need help remov scuff marks. nail polish / aceton doesn\\'t seem to work. yeezi suppli ship inform what do you think of these Is tubular doom sock for women aslo compat for men? i’v been search for anoth pair of these for a while now with no luck. octob 2012 adida gazelle, black sued with red faux-leather/vinyl stripes. ani help? creator club point update, about my last post with ups. ha anyon got their 350 from the latest drop? are adida windbreak waterproof? can anyon tell me what adida shoe thi is? size on 3st 002? ani help is appreciated! I order a pair of 350 v2 and i an’t locat my order with ups! won’t be use this, so one of you can enjoy 15% off anyon know the language? i\\'m awar the hoodi is most like fake. new pick up! ani idea when the nmd_r1 d97215 will restock? how long after an order is process is it shipped? choos a new run shoe - adida boston or solar glide? hey guy i\\'m look for thi hoodie, i\\'v liter scour the internet and i can\\'t seem to find thi specif hoodi anywher can someon pleas help me out best track pant for casual use coupon codes? return worn shoe boost on eqt support mid adv? adida last sale (what did you cop?) just got these and i love them, is there anyway i can pull the heel morr snug? wow! yeezy\\' are still avail on adida onlin pre-sale. thank you kanye! veri cool! thank for the sale adidas! new bomber jacket Is there anoth way to return my shoe besid call and texting? 30% off coupon valid until end of day it seems. anyon els have issu on the website? adida custom support issues? ha earli access start for yeezi anyon know anoth shoe that look similar to this? custom servic issu samba super - green/yellow - ani idea where I can find these? i’m in be uk; JD sport seem to be the onli stockist and don’t have me size (11). cheers! ID for thi adida origin sweatershirt/pullov return shoe rfid? y’all readi for thi pre access sale for them yeezi tomorrow size on yeezys? anyon know where I can find thi shirt? adida boost on woot right now- deallllllls! t-mobil is offer 30% off adidas. what run shoe should I get? Is boost dead? My new nmd are the pharrel william tenni hu\\' unisex? anyth special about thi all black track jacket from ‘07? I can’t find it onlin anywhere. thank in advance! what is thi thing? doe anyon know the ID or where can I get the same tracksuit in white/green/red? ani adida pant made from the same material? and if so, id? are the adida harden b/e X worth it for basketball? can someon id? got them at a TJ maxx order some adida campu online. are they the same fit as rod lavers? hey I just got an email about earli access pre sale adida track top jamiroquai singer is wear in thi concert? navi and timber cf super daili doe anybodi know what is the name for thi particular model? one of the tile of the boost is miss from my pod s-3.1 can anyon give me ani info on thi chain from the superstar 35th anniversari back in 2005? adida forest grove i’m a littl late but I had to get em. authent pleas and thank you! tastyorigin ft. waffl (mi dog) help me ID a hat I absolut love and would like to reacquire. ani ID on these lo angel from TK maxx? are these fake? I dont think anyon will find it but seem I don\\'t seem to myself i\\'m tri everyth I can rainbow weav ZX flux can some1 help with thi sweatshirt’ id? trackpant id? these custom gazel took 3 week to come in, I can gladli say it wa worth the wait! can anyon ID thi jacket? help a shoe newb pick some shoe for everyday and work? what type of paint should one use to paint boost foam? look for a shirt that fit these shoe jacket ID pleas discount code today: septsal first pair of adida gotta support a new brand after nike downfal safe to put cloudfoam into wash machine? what\\' the best adida run shoe for someon with flat feet/low arch? dragonbal Z collect drop start septemb 29th bbc x n.e.r.d adida Hu nmd review can anyon identifi these? :( adida soccer pant can someon pleas help ID these shoe pleas umm.. yeah no thank adida adida japan outsid stadium exchang polici what is differ between adida origin trefoil p/o hoodi vs V adida origin trefoil hoodie? go to a drop My own dign comment for more and halp me what are these call plasti dip my ash pearl 4.0 i need help to find that shirt again! 15% off code for anyon interest where art thou tripl white ultraboost thought on adida kamanda white/brown? yo anyon know where I could find thi (japanes origin hoodie) tryin to cop one but all the site i’v been at look mad sketchy. 🤔 can anybodi ID thi jacket pleas 😭 I have an challeng for you guys, found thi backpack! unworn shoe can someon help me ID these shoes? just got thi nmd’ at a footlock 2 year after releas under retail price lol. been want to get them sinc forev latest ultra boost pick Up (new favorite) grey sweatpant similar to adida track pant? potenti new ad campaign. doe anyon know the name of thi adida jacket ? what size should i buy my sliders? ID on thi bag? thanks! can anyon help me find adida tiro 15 pants? how long doe nmd last? hi,can u guy help me to find where to buy these online? old jogger how earli doe adida put sneaker up for pre-order? how is thi exact same model called? newest pair of shoe hey, can anyon help me ? can anyon ID these pant for me? eqt boost support 93/17 pick up for $70! what a steal! trade a pass to the nike employe store for a pass to the adida employe store! can anybodi identifi these? dbz shoe size glad to be join the adida famili are regular stan smith pegasu or chevaux leather whi doe cloudfoam seem more comfort than boost? can someon ID thi jacket for me? can someon ID this? who els is excit for these to come out adida argentina shoe from 1954 ID this!!!! best boost shoe for under $200? size on 700 wave runners? releas tomorrow adida is life adida employe store doe anyon know thi shirt? I realli love the design but can’t find it anywhere. my custom on the nmd R1 reflect ◼️ ultraboost: outsol plastic hang off edg of heel? final manag to get some boot (in china) that I can wear coaching, without look ten year old. adida store beijing, you\\'v done me a massiv one. adida copa mundial what shoe are these? adida ultra boost 4.0 core black unbox and on-feet are nmd r1 for run doe anyon know of ani adida outlet in elmhurst, new york area? new resel prices? germany\\' away jersey for the world cup order dark red, so im not sure if i want to keep them... after decid I need a real pair of shoes, I spot these. I wa torn between them and a pair of convers that were $20 cheaper but i’m realli glad I went with my gut tiro17 size cat someon ID this? stripe over check join the adida family. My first pair! Im more of a classic guy x) adida origin leather mayb I exagger but that’ still a good chunk, same size on tag and on aso bag :/ ha anyon tri to return adida outlet item that were bought online? defect? ID thi what do you guy think of the nmd R1 sashiko? can anyon ID thi ? also if it’ avail can one get thi in germani ? newest sneaker I am in love! help! desper tri to find thi pair of nmd\\' onlin and cant find it for the life of me. new adida nmd PK energi ink cloud white colorway! doe anyon know the ID of the jacket he\\' wear while dancing? first pair of adidas. lol I had to discreetli take a pic of these terribl fake on a guy I saw what is thi ansolut fire shirt? can anyon help me identifi which samba variant these were? they’r from the late 90’ or earli 00’ adida origin on instagram: “with three of the most icon battl re-imagin in sneaker form, the collabor featur seven silhouett from the adida origin roster.... stay tune for the releas later thi month ” i\\'v been look for these pant but I couldn\\'t find them. can someon help me out? ultraboost score some R1 and xr1 last week for the wife and myself for about $160 total. anyon know where I can buy these? I wanna but some ubs. the color I like the best are the regular whites, parleys, or the new gold ones. where would be the best place to buy them for get a deal. also in size US 11 and all of those are out of stock on the adida site. best ultraboost parley 4.0 can anyon tell me whi my order is take so long? Me and my QT in eqt take these for a holiday trip. help me pl My ZX need help find these.. Id on this? are my shoe defect or is it my fault? what ball is this? Is thi adida genuine? you guy cop new nmds? how soft is the cushion on the duramo 9? adida altern for lebron soldiers? anyon els pick Up these Up last week? adida is still crush nike and under armour in america adida kanadia 8.1 Tr trail shoe replac - bb3501 need help identifi thi track top return question anyway to get these creas out? I got these like thi from finish line and didn’t realiz shirt id? tight across my foot... thi is my 6th pair of nmd r1’ and for some reason these shoe are realli tight across the top of my foot (the 2 area where i’m point on photo) I current have 2 cup to stretch them out. anyth els I can do? can’t return them. I toss the box. stupid me! old adida jacket I found, anyon know the name of it, ha fade write say “adida across all borders” cut and lost the wash label help! I need these shoe but don\\'t know the name. pleas help me! stan smith size question found a y-3 scarf by adidas...can someon pleas apprais this? ecu &amp; adida partner To creat brand pattern - east carolina univers have a pair of white pharrel Hu tenni shoes, how do I wash them? adida t-shirt pleas help! ID on these sweatpant and the jumper? thank you 2 fast 2 adida alphabounc shoe custom question what jacket is this? My tripl white nmd r1 are pretti beat, doe anybodi have ani tip or method on how to clean them? thank in advanc return ebay order to adida outlet just want to share my 4.0 core black ultra boost. look pretti dope to me ID please? thanks! can someon ID thi t-shirt? can someon help me ID these shoes? enthusiast adida fan wanted! new favorit ultra boost where to find 90\\' noise-mak adida wind pants? don\\'t get to use these nmd anymor (I prefer use my ultra boost more) but I did a lace swap on it. what do you think? adida acceler limit edit profit problem [id] mysteri adida sneaker I pick up at goodwil adida track jacket and pant don\\'t match? ID on thi hoodi pleas samba heel slip uncag propher (black/black/white) doe anybodi know the name of these pants? they have one button at the bottom of each leg and they\\'r pretti baggi doe adida UK ship to the u.s.? should I exchang my shoe in thi case? [wtb]need help to find stan smith vulc men\\' in size 8.5 uk. thank for ani help :) how expens are peopl expect adida origin x CP compani stuff to be? ID on thi also pleas anyon know whi all the new adida shoe have ugli jag stripe instead of the clean stripes? anywher I can buy stan smiths? comfort winter boots/sneak ID thi shirt pleas help me ID thi shirt been look around for the shirt ingrosso (on the left) is wearing. anyon know? ID on bag can u help me ID thi jacket? 3 stripe gang with my girl sneaker id? found on poshmark want em in my size [help] how do i clean the sole of my basketbal shoe becaus i\\'v been use them for 3 week now and it lost it traction veri badli i keep slip off a lot. first pair of nmd’ by far the best shoe i’v had ultraboost for wide feet order a pair of münchen and wa surpris they ship from london, were they releas in the US at all? off the pitch: whi adidas\\' signatur track pant are now a style stapl anyon know which model is this? it\\' from ralf from the collector project. can anyon help me find these adida samoa? doe anyon know how they fit? I wear adida in 11 and 11.5. thank look for thi hoodi it’ adida x nigo. ani help would be appreciated. adicolour nyc in need of a clean. can u Id thi pants? just releas - stan smith recon with premium construct and vintag look adida ha a clever plan for stay relevant: withhold it biggest hit adida ultraboost 1.0 OG colorway retro restock My whole adida collection. ama welcomed. just arrived. wish I had the whole collect adida confirm app offici merg with adida app - debut with afro pharrel nmd releas can anyon id thi jacket? how high is the sole of the harden vol. 2? supercloud plu slide [help] seen these at the live 19 trailer can anybodi tell me their name help me identifi thi vintag adida jacket My 5th grade daughter bring the 🔥 on her first day of school 1st iniki purchase, help with sizing! great style, kind of uncomfort fit for me. I wouldn’t recommend walk a lot in them. doe anyon have an id on thi jacket? I think it’ dope, it remind me of My hero academia need help with size adida nemiziz rip after onli one year’ use. for $300 cdn I wa expect more than a year out of them. what should I do? ultraboost 4.0 - half size up with third parti insole, will it fit? ZX flux xeno worn by my kid. the reaction when he saw the 3m effect wa priceless... shame the camera wa point at the sneaker littl flex ain\\'t hurt nobodi [question] thrift these pants. can anyon help ID them? thought on the adida continent 80 white? sale boost ball doe anyon know where i can buy this? women 8.5 in youth? after 1/2 year of walking. nice quality, adida thi kind of jersey but with the adida logo in the middl ? [question] can anybodi help identifi these shoe nmd boost with write adida telstar competit world cup defect. creas nmd - anyon know how to fix or prevent this? the ol’ oil base white sharpi work it magic again how would you clean these? there a slight dirti spot on the tip of the shoe but i\\'m guess it\\' a bit of dirt/mud dri up need to know more about thi jacket,pleas help me doe anyon know what these are called? My ha a pair and I can’t find it on the website. My first pair ID on adida jersey rotat 🔄 help identifi thi long sleev T shirt wore by joey diaz not sure what episod adida jersey pleas help me find the name! where can I buy thi hoodie?? $500 for this? Is thi for real or a mistak on their end? look for a pair of samba blue trainer that can ship to canada. anyon have ani link to legit store for this? will venmo work on the adida shop? new jacket got these alphabounc at champ for $50 #thanoschin help me find thi supernova gore-tex or terrex agrav gtx or ultraboost all terrain? final gave in and pick up the undef ultra boost ultraboost parley break in period just got these bad boy today👌🏻👌🏻🔥 adida x parley question one of the most comfort shoe I own. love the boost doe anyon know where I can get these exact sweat ? it’ been awhil sinc i’v taken these consortium rivalri lo’ for a spin. dumb question about size If anyon could ID thi for me i\\'d be so grateful. can\\'t check the label it not mine and I won\\'t see thi person again. It ha circl logo on the sleev if that helps! what\\' prettier? anyon use thi backpack? how spaciou is it? offici adida imag of the dragon ball Z x adida ZX 500 RM boost \"sun goku\" grey camo adida backpack, great for school would the parley\\' and the pant go together? drake might Be return to jordan brand after all noth like a new pair of shoe nmd’ nmd R2 chines new year edit adida gym-sport wear rep If you wear nmd\\' to the beach, they leav an icon footprint ID these shoe plz thought on pod-s3.1? My brand new propheres. caught me on sale for $74.99 adida athlet introduc new adida zne hoodi with fast releas zipper kany west \\'sketches\\' the yeezi sneaker lineup for 2019 ID on thi piece? what are these? what is the name of the adida that pretti much everi girl has? the simpl white one with three stripes? adilett slide doe anyon know where I can find the model of thi 90’ jacket? stan smiths? what is your favorit adida silhouett ever? can anyon id these kick for me? thank in advanc what adida model are these? adida origin debut the p.o.d. system documentari help - where can I find these yeezi adida calabasa sweatshirts/jumpers? other than shoee, what item in adida store are worth a look? what shoe are these? tiro 18? help me id. combin of yeezi powerphas and adida LA trainer OG grail aquir love the new duck camo r1 😍😍 just tri to find pictur of some old sunglass bonu point if they are for sale. can anyon id these it’ a primeknit kinda day speedfactori am4lnd anyon know how to clean these [question] ultra boost look shoe with red mark on the sole? 50 off the new i-5923 :( please, help me to find the name of the model of my favorit shoe of all time woke up at 2 AM to cop these. worth it? what is thi call ? adida thrasher hat question two of my favorit things! new shoe &amp; xochi which nmd colorway is this? sorri for bad quality. can anyon do a legit check on a pair of ultra boost for me? need an id. pleas help. My collect can someon pleas tell me what the shoe’ box in red are? adidas, white/cream colored, black stripes, grey heel brand to mix with adida just pick up these 🖤💙 help! could someon help ID these? found them at goodwill. anyon know how to fold thi specif windbreak into a pouch? these have been worn hard and in the washer twice still so white ID on these pants??!? what is the diffrent beetwen x_plr cq2405 and x_plr by8688? I need id on thi adida tee malic rugbi cleat studs? what shoe are these can anybodi help plz nmd r2 grey with orang base adida boost. messi\\' new nemeziz boot need a legit check on these. thank found thi shirt at plato’ closet but can’t seem to find it online. id, please? one of my most favourit so far! [question] would adida nmd_r1 be decent for go to the gym/running? bounc ID on thi women mesh? can anyon ID the whole setup for me? where can you get thi cycl cap anyon know where I might be abl to buy these? longshot... ha anyon seen video of take the eyelet out? clima365 t-shirt - real or fake? tiro 18? pureboost ba8899 vs cp9326, what´ the difference? Id on the shoes? adida nmd R2 $58 tax and ship lmao look for these pants! adida jacket, real or fake? also, from what season? model name? tiro17 sweatpant fake ass adida are there ani authent adida nmd_r1 x gucci out there, if so, could someon link me? thanks! look for these shoe for my girl can somebodi pleas hook me up with the name of the adida on the left? just cop the nmd r2 “futur harvest” got these nmd’ at the outlet for $79.00 tax includ help? could someon pleas tell me what the heck these are?? my friend bought them today and we have spent an hour search the internet for them. they have the legit adida logo (three lines) we think??? but it look kind of strange. neither of us have ever seen these befor so we\\'r stumped. beater Do you think thi uniqu tracksuit is worth the money? just pick these up anyon know the ID or where I can find these adida interview process adida competitor to nike free run 5.0 2014? /// adida x bape not realli a sneaker head but I do love comfort shoes. I need a tripl black and i’m good then mayb a color one cake day what\\' the name of these joggers? adida x undef ultraboost concept 🌀🌀🌀 adida dragon discontinued? could I appli metal silver paont to the ribcag of my ub? which soccer shoe should I get? $30 at a discount store. they didn\\'t have a box so idk if they\\'r fake. anyon know what they are? which ultraboost undftd collab look better? the white one or black? anyon know where I can find/know-about thi cap? anywher to find thi shirt in orange? anyon know what thi adida cap is called? anyon know where to find thi shirt? can anyon give me an ID on thi jacket? anyon know ani websit that sell bootleg tracksuits? small chocol stain on nmd stlt’s. will a stain remov &amp; laundri damag the shoe at all? My favorit arkyn shoes! the draw is inspir by Yu nagaba💜💜💜 youth snapback which should I get?¿?¿?¿? thought on this? will thi be hard to style? it adida x wing + horn nmd_c2 are these adidas? ani idea what they are? can anyon tell me where to buy these shoes? got thi shirt in chariti shop; anyon know if rare or who the althlet is? could onli find on some random russian and chines websites, and they didn\\'t help are there replac stripe or a fix to this? these are onli a week old! anyon abl to id these or know where someon would be abl to id them? found at a thrift store today and could not find ani other on the internet adida materials? i\\'v alway want a passion of parleys, grab these yesterday. latest pickup idk what colorway thi is'"
      ]
     },
     "execution_count": 65,
     "metadata": {},
     "output_type": "execute_result"
    }
   ],
   "source": [
    "X_train[1800]"
   ]
  },
  {
   "cell_type": "markdown",
   "metadata": {},
   "source": [
    "## CountVectorize our data"
   ]
  },
  {
   "cell_type": "code",
   "execution_count": 10,
   "metadata": {},
   "outputs": [],
   "source": [
    "cv = CountVectorizer(stop_words='english',      # Instantiate english stop words\n",
    "                    lowercase=True,             # All words to lowercase if not already\n",
    "                    min_df=5,                   # Ignore words that do not occur at least 5 times\n",
    "                    ngram_range=(1,4))          # Set ngram_range"
   ]
  },
  {
   "cell_type": "code",
   "execution_count": 19,
   "metadata": {},
   "outputs": [],
   "source": [
    "cv_train = cv.fit_transform(X_train)            # Fit the CountVectorizer to the training data\n",
    "cv_test = cv.transform(X_test)                  # Fit the CountVectorizer to the testing data"
   ]
  },
  {
   "cell_type": "code",
   "execution_count": 22,
   "metadata": {},
   "outputs": [
    {
     "data": {
      "text/html": [
       "<div>\n",
       "<style scoped>\n",
       "    .dataframe tbody tr th:only-of-type {\n",
       "        vertical-align: middle;\n",
       "    }\n",
       "\n",
       "    .dataframe tbody tr th {\n",
       "        vertical-align: top;\n",
       "    }\n",
       "\n",
       "    .dataframe thead th {\n",
       "        text-align: right;\n",
       "    }\n",
       "</style>\n",
       "<table border=\"1\" class=\"dataframe\">\n",
       "  <thead>\n",
       "    <tr style=\"text-align: right;\">\n",
       "      <th></th>\n",
       "      <th>00</th>\n",
       "      <th>00 adida</th>\n",
       "      <th>00 adida origin</th>\n",
       "      <th>00 adida origin instagram</th>\n",
       "      <th>00 tax</th>\n",
       "      <th>00 tax includ</th>\n",
       "      <th>00 tax includ help</th>\n",
       "      <th>00 thoughts</th>\n",
       "      <th>00 thoughts way</th>\n",
       "      <th>00 thoughts way purpl</th>\n",
       "      <th>...</th>\n",
       "      <th>zx 500 rm boost</th>\n",
       "      <th>zx 500 rm size</th>\n",
       "      <th>zx flux</th>\n",
       "      <th>zx flux some1</th>\n",
       "      <th>zx flux some1 help</th>\n",
       "      <th>zx flux xeno</th>\n",
       "      <th>zx flux xeno worn</th>\n",
       "      <th>zx need</th>\n",
       "      <th>zx need help</th>\n",
       "      <th>zx need help id</th>\n",
       "    </tr>\n",
       "  </thead>\n",
       "  <tbody>\n",
       "    <tr>\n",
       "      <th>0</th>\n",
       "      <td>3</td>\n",
       "      <td>1</td>\n",
       "      <td>1</td>\n",
       "      <td>1</td>\n",
       "      <td>1</td>\n",
       "      <td>1</td>\n",
       "      <td>1</td>\n",
       "      <td>1</td>\n",
       "      <td>1</td>\n",
       "      <td>1</td>\n",
       "      <td>...</td>\n",
       "      <td>1</td>\n",
       "      <td>1</td>\n",
       "      <td>2</td>\n",
       "      <td>1</td>\n",
       "      <td>1</td>\n",
       "      <td>1</td>\n",
       "      <td>1</td>\n",
       "      <td>1</td>\n",
       "      <td>1</td>\n",
       "      <td>1</td>\n",
       "    </tr>\n",
       "    <tr>\n",
       "      <th>1</th>\n",
       "      <td>3</td>\n",
       "      <td>1</td>\n",
       "      <td>1</td>\n",
       "      <td>1</td>\n",
       "      <td>1</td>\n",
       "      <td>1</td>\n",
       "      <td>1</td>\n",
       "      <td>1</td>\n",
       "      <td>1</td>\n",
       "      <td>1</td>\n",
       "      <td>...</td>\n",
       "      <td>1</td>\n",
       "      <td>1</td>\n",
       "      <td>2</td>\n",
       "      <td>1</td>\n",
       "      <td>1</td>\n",
       "      <td>1</td>\n",
       "      <td>1</td>\n",
       "      <td>1</td>\n",
       "      <td>1</td>\n",
       "      <td>1</td>\n",
       "    </tr>\n",
       "    <tr>\n",
       "      <th>2</th>\n",
       "      <td>3</td>\n",
       "      <td>1</td>\n",
       "      <td>1</td>\n",
       "      <td>1</td>\n",
       "      <td>1</td>\n",
       "      <td>1</td>\n",
       "      <td>1</td>\n",
       "      <td>1</td>\n",
       "      <td>1</td>\n",
       "      <td>1</td>\n",
       "      <td>...</td>\n",
       "      <td>1</td>\n",
       "      <td>1</td>\n",
       "      <td>2</td>\n",
       "      <td>1</td>\n",
       "      <td>1</td>\n",
       "      <td>1</td>\n",
       "      <td>1</td>\n",
       "      <td>1</td>\n",
       "      <td>1</td>\n",
       "      <td>1</td>\n",
       "    </tr>\n",
       "    <tr>\n",
       "      <th>3</th>\n",
       "      <td>3</td>\n",
       "      <td>1</td>\n",
       "      <td>1</td>\n",
       "      <td>1</td>\n",
       "      <td>1</td>\n",
       "      <td>1</td>\n",
       "      <td>1</td>\n",
       "      <td>1</td>\n",
       "      <td>1</td>\n",
       "      <td>1</td>\n",
       "      <td>...</td>\n",
       "      <td>1</td>\n",
       "      <td>1</td>\n",
       "      <td>2</td>\n",
       "      <td>1</td>\n",
       "      <td>1</td>\n",
       "      <td>1</td>\n",
       "      <td>1</td>\n",
       "      <td>1</td>\n",
       "      <td>1</td>\n",
       "      <td>1</td>\n",
       "    </tr>\n",
       "    <tr>\n",
       "      <th>4</th>\n",
       "      <td>3</td>\n",
       "      <td>1</td>\n",
       "      <td>1</td>\n",
       "      <td>1</td>\n",
       "      <td>1</td>\n",
       "      <td>1</td>\n",
       "      <td>1</td>\n",
       "      <td>1</td>\n",
       "      <td>1</td>\n",
       "      <td>1</td>\n",
       "      <td>...</td>\n",
       "      <td>1</td>\n",
       "      <td>1</td>\n",
       "      <td>2</td>\n",
       "      <td>1</td>\n",
       "      <td>1</td>\n",
       "      <td>1</td>\n",
       "      <td>1</td>\n",
       "      <td>1</td>\n",
       "      <td>1</td>\n",
       "      <td>1</td>\n",
       "    </tr>\n",
       "  </tbody>\n",
       "</table>\n",
       "<p>5 rows × 32542 columns</p>\n",
       "</div>"
      ],
      "text/plain": [
       "   00  00 adida  00 adida origin  00 adida origin instagram  00 tax  \\\n",
       "0   3         1                1                          1       1   \n",
       "1   3         1                1                          1       1   \n",
       "2   3         1                1                          1       1   \n",
       "3   3         1                1                          1       1   \n",
       "4   3         1                1                          1       1   \n",
       "\n",
       "   00 tax includ  00 tax includ help  00 thoughts  00 thoughts way  \\\n",
       "0              1                   1            1                1   \n",
       "1              1                   1            1                1   \n",
       "2              1                   1            1                1   \n",
       "3              1                   1            1                1   \n",
       "4              1                   1            1                1   \n",
       "\n",
       "   00 thoughts way purpl       ...         zx 500 rm boost  zx 500 rm size  \\\n",
       "0                      1       ...                       1               1   \n",
       "1                      1       ...                       1               1   \n",
       "2                      1       ...                       1               1   \n",
       "3                      1       ...                       1               1   \n",
       "4                      1       ...                       1               1   \n",
       "\n",
       "   zx flux  zx flux some1  zx flux some1 help  zx flux xeno  \\\n",
       "0        2              1                   1             1   \n",
       "1        2              1                   1             1   \n",
       "2        2              1                   1             1   \n",
       "3        2              1                   1             1   \n",
       "4        2              1                   1             1   \n",
       "\n",
       "   zx flux xeno worn  zx need  zx need help  zx need help id  \n",
       "0                  1        1             1                1  \n",
       "1                  1        1             1                1  \n",
       "2                  1        1             1                1  \n",
       "3                  1        1             1                1  \n",
       "4                  1        1             1                1  \n",
       "\n",
       "[5 rows x 32542 columns]"
      ]
     },
     "execution_count": 22,
     "metadata": {},
     "output_type": "execute_result"
    }
   ],
   "source": [
    "# Create cv_train dataframe\n",
    "cv_train_df = pd.DataFrame(cv_train.toarray(), columns = cv.get_feature_names())\n",
    "cv_train_df.head()"
   ]
  },
  {
   "cell_type": "code",
   "execution_count": 23,
   "metadata": {},
   "outputs": [
    {
     "data": {
      "text/html": [
       "<div>\n",
       "<style scoped>\n",
       "    .dataframe tbody tr th:only-of-type {\n",
       "        vertical-align: middle;\n",
       "    }\n",
       "\n",
       "    .dataframe tbody tr th {\n",
       "        vertical-align: top;\n",
       "    }\n",
       "\n",
       "    .dataframe thead th {\n",
       "        text-align: right;\n",
       "    }\n",
       "</style>\n",
       "<table border=\"1\" class=\"dataframe\">\n",
       "  <thead>\n",
       "    <tr style=\"text-align: right;\">\n",
       "      <th></th>\n",
       "      <th>00</th>\n",
       "      <th>00 adida</th>\n",
       "      <th>00 adida origin</th>\n",
       "      <th>00 adida origin instagram</th>\n",
       "      <th>00 tax</th>\n",
       "      <th>00 tax includ</th>\n",
       "      <th>00 tax includ help</th>\n",
       "      <th>00 thoughts</th>\n",
       "      <th>00 thoughts way</th>\n",
       "      <th>00 thoughts way purpl</th>\n",
       "      <th>...</th>\n",
       "      <th>zx 500 rm boost</th>\n",
       "      <th>zx 500 rm size</th>\n",
       "      <th>zx flux</th>\n",
       "      <th>zx flux some1</th>\n",
       "      <th>zx flux some1 help</th>\n",
       "      <th>zx flux xeno</th>\n",
       "      <th>zx flux xeno worn</th>\n",
       "      <th>zx need</th>\n",
       "      <th>zx need help</th>\n",
       "      <th>zx need help id</th>\n",
       "    </tr>\n",
       "  </thead>\n",
       "  <tbody>\n",
       "    <tr>\n",
       "      <th>0</th>\n",
       "      <td>3</td>\n",
       "      <td>1</td>\n",
       "      <td>1</td>\n",
       "      <td>1</td>\n",
       "      <td>1</td>\n",
       "      <td>1</td>\n",
       "      <td>1</td>\n",
       "      <td>1</td>\n",
       "      <td>1</td>\n",
       "      <td>1</td>\n",
       "      <td>...</td>\n",
       "      <td>1</td>\n",
       "      <td>1</td>\n",
       "      <td>2</td>\n",
       "      <td>1</td>\n",
       "      <td>1</td>\n",
       "      <td>1</td>\n",
       "      <td>1</td>\n",
       "      <td>1</td>\n",
       "      <td>1</td>\n",
       "      <td>1</td>\n",
       "    </tr>\n",
       "    <tr>\n",
       "      <th>1</th>\n",
       "      <td>3</td>\n",
       "      <td>1</td>\n",
       "      <td>1</td>\n",
       "      <td>1</td>\n",
       "      <td>1</td>\n",
       "      <td>1</td>\n",
       "      <td>1</td>\n",
       "      <td>1</td>\n",
       "      <td>1</td>\n",
       "      <td>1</td>\n",
       "      <td>...</td>\n",
       "      <td>1</td>\n",
       "      <td>1</td>\n",
       "      <td>2</td>\n",
       "      <td>1</td>\n",
       "      <td>1</td>\n",
       "      <td>1</td>\n",
       "      <td>1</td>\n",
       "      <td>1</td>\n",
       "      <td>1</td>\n",
       "      <td>1</td>\n",
       "    </tr>\n",
       "    <tr>\n",
       "      <th>2</th>\n",
       "      <td>3</td>\n",
       "      <td>1</td>\n",
       "      <td>1</td>\n",
       "      <td>1</td>\n",
       "      <td>1</td>\n",
       "      <td>1</td>\n",
       "      <td>1</td>\n",
       "      <td>1</td>\n",
       "      <td>1</td>\n",
       "      <td>1</td>\n",
       "      <td>...</td>\n",
       "      <td>1</td>\n",
       "      <td>1</td>\n",
       "      <td>2</td>\n",
       "      <td>1</td>\n",
       "      <td>1</td>\n",
       "      <td>1</td>\n",
       "      <td>1</td>\n",
       "      <td>1</td>\n",
       "      <td>1</td>\n",
       "      <td>1</td>\n",
       "    </tr>\n",
       "    <tr>\n",
       "      <th>3</th>\n",
       "      <td>3</td>\n",
       "      <td>1</td>\n",
       "      <td>1</td>\n",
       "      <td>1</td>\n",
       "      <td>1</td>\n",
       "      <td>1</td>\n",
       "      <td>1</td>\n",
       "      <td>1</td>\n",
       "      <td>1</td>\n",
       "      <td>1</td>\n",
       "      <td>...</td>\n",
       "      <td>1</td>\n",
       "      <td>1</td>\n",
       "      <td>2</td>\n",
       "      <td>1</td>\n",
       "      <td>1</td>\n",
       "      <td>1</td>\n",
       "      <td>1</td>\n",
       "      <td>1</td>\n",
       "      <td>1</td>\n",
       "      <td>1</td>\n",
       "    </tr>\n",
       "    <tr>\n",
       "      <th>4</th>\n",
       "      <td>3</td>\n",
       "      <td>1</td>\n",
       "      <td>1</td>\n",
       "      <td>1</td>\n",
       "      <td>1</td>\n",
       "      <td>1</td>\n",
       "      <td>1</td>\n",
       "      <td>1</td>\n",
       "      <td>1</td>\n",
       "      <td>1</td>\n",
       "      <td>...</td>\n",
       "      <td>1</td>\n",
       "      <td>1</td>\n",
       "      <td>2</td>\n",
       "      <td>1</td>\n",
       "      <td>1</td>\n",
       "      <td>1</td>\n",
       "      <td>1</td>\n",
       "      <td>1</td>\n",
       "      <td>1</td>\n",
       "      <td>1</td>\n",
       "    </tr>\n",
       "  </tbody>\n",
       "</table>\n",
       "<p>5 rows × 32542 columns</p>\n",
       "</div>"
      ],
      "text/plain": [
       "   00  00 adida  00 adida origin  00 adida origin instagram  00 tax  \\\n",
       "0   3         1                1                          1       1   \n",
       "1   3         1                1                          1       1   \n",
       "2   3         1                1                          1       1   \n",
       "3   3         1                1                          1       1   \n",
       "4   3         1                1                          1       1   \n",
       "\n",
       "   00 tax includ  00 tax includ help  00 thoughts  00 thoughts way  \\\n",
       "0              1                   1            1                1   \n",
       "1              1                   1            1                1   \n",
       "2              1                   1            1                1   \n",
       "3              1                   1            1                1   \n",
       "4              1                   1            1                1   \n",
       "\n",
       "   00 thoughts way purpl       ...         zx 500 rm boost  zx 500 rm size  \\\n",
       "0                      1       ...                       1               1   \n",
       "1                      1       ...                       1               1   \n",
       "2                      1       ...                       1               1   \n",
       "3                      1       ...                       1               1   \n",
       "4                      1       ...                       1               1   \n",
       "\n",
       "   zx flux  zx flux some1  zx flux some1 help  zx flux xeno  \\\n",
       "0        2              1                   1             1   \n",
       "1        2              1                   1             1   \n",
       "2        2              1                   1             1   \n",
       "3        2              1                   1             1   \n",
       "4        2              1                   1             1   \n",
       "\n",
       "   zx flux xeno worn  zx need  zx need help  zx need help id  \n",
       "0                  1        1             1                1  \n",
       "1                  1        1             1                1  \n",
       "2                  1        1             1                1  \n",
       "3                  1        1             1                1  \n",
       "4                  1        1             1                1  \n",
       "\n",
       "[5 rows x 32542 columns]"
      ]
     },
     "execution_count": 23,
     "metadata": {},
     "output_type": "execute_result"
    }
   ],
   "source": [
    "# Create cv_test dataframe\n",
    "cv_test_df = pd.DataFrame(cv_test.toarray(), columns = cv.get_feature_names())\n",
    "cv_test_df.head()"
   ]
  },
  {
   "cell_type": "code",
   "execution_count": 24,
   "metadata": {},
   "outputs": [
    {
     "name": "stdout",
     "output_type": "stream",
     "text": [
      "(1493, 32542)\n",
      "(498, 32542)\n"
     ]
    }
   ],
   "source": [
    "print(cv_train.shape)\n",
    "print(cv_test.shape)"
   ]
  },
  {
   "cell_type": "markdown",
   "metadata": {},
   "source": [
    "### Let's try different models and then optimize the one that works best"
   ]
  },
  {
   "cell_type": "markdown",
   "metadata": {},
   "source": [
    "### Logistic Regression Model"
   ]
  },
  {
   "cell_type": "code",
   "execution_count": 31,
   "metadata": {},
   "outputs": [
    {
     "name": "stdout",
     "output_type": "stream",
     "text": [
      "0.5016744809109176\n",
      "\n",
      "0.5020080321285141\n"
     ]
    }
   ],
   "source": [
    "lr = LogisticRegression(penalty='l1', tol=.0001, C=1, random_state=42)\n",
    "\n",
    "lr.fit(cv_train, y_train)\n",
    "\n",
    "print(lr.score(cv_train, y_train))\n",
    "print('')\n",
    "print(lr.score(cv_test, y_test))"
   ]
  },
  {
   "cell_type": "code",
   "execution_count": 61,
   "metadata": {},
   "outputs": [
    {
     "data": {
      "text/plain": [
       "0        0.000000e+00\n",
       "21701    0.000000e+00\n",
       "21700    0.000000e+00\n",
       "21699    0.000000e+00\n",
       "21698    0.000000e+00\n",
       "21697    0.000000e+00\n",
       "21696    0.000000e+00\n",
       "21695    0.000000e+00\n",
       "21694    0.000000e+00\n",
       "21693    0.000000e+00\n",
       "21692    0.000000e+00\n",
       "21691    0.000000e+00\n",
       "21690    0.000000e+00\n",
       "21689    0.000000e+00\n",
       "21688    0.000000e+00\n",
       "21687    0.000000e+00\n",
       "21686    0.000000e+00\n",
       "21685    0.000000e+00\n",
       "21684    0.000000e+00\n",
       "21683    0.000000e+00\n",
       "21682    0.000000e+00\n",
       "21681    0.000000e+00\n",
       "21680    0.000000e+00\n",
       "21679    0.000000e+00\n",
       "21678    0.000000e+00\n",
       "21677    0.000000e+00\n",
       "21676    0.000000e+00\n",
       "21675    0.000000e+00\n",
       "21702    0.000000e+00\n",
       "21703    0.000000e+00\n",
       "             ...     \n",
       "10854    0.000000e+00\n",
       "10853    0.000000e+00\n",
       "10852    0.000000e+00\n",
       "10851    0.000000e+00\n",
       "10837    0.000000e+00\n",
       "10850    0.000000e+00\n",
       "10860    0.000000e+00\n",
       "10848    0.000000e+00\n",
       "10849    0.000000e+00\n",
       "10847    0.000000e+00\n",
       "10838    0.000000e+00\n",
       "10839    0.000000e+00\n",
       "10840    0.000000e+00\n",
       "10842    0.000000e+00\n",
       "10843    0.000000e+00\n",
       "10841    0.000000e+00\n",
       "10845    0.000000e+00\n",
       "10846    0.000000e+00\n",
       "10844    0.000000e+00\n",
       "10861    0.000000e+00\n",
       "3283     1.055166e-07\n",
       "2324     2.573810e-07\n",
       "11838    3.664292e-07\n",
       "14840    2.703954e-06\n",
       "12789    2.962555e-06\n",
       "1447     3.224167e-06\n",
       "3126     3.701179e-06\n",
       "27973    3.881261e-06\n",
       "24392    4.166612e-06\n",
       "18207    4.928459e-06\n",
       "Length: 32542, dtype: float64"
      ]
     },
     "execution_count": 61,
     "metadata": {},
     "output_type": "execute_result"
    }
   ],
   "source": [
    "pd.Series(lr.coef_[0]).sort_values()"
   ]
  },
  {
   "cell_type": "markdown",
   "metadata": {},
   "source": [
    "### Multinomial Naive Bayes Model"
   ]
  },
  {
   "cell_type": "code",
   "execution_count": 32,
   "metadata": {},
   "outputs": [
    {
     "name": "stdout",
     "output_type": "stream",
     "text": [
      "0.5016744809109176\n",
      "\n",
      "0.5020080321285141\n"
     ]
    }
   ],
   "source": [
    "mnb = MultinomialNB()\n",
    "\n",
    "mnb.fit(cv_train, y_train)\n",
    "\n",
    "print(mnb.score(cv_train, y_train))\n",
    "print('')\n",
    "print(mnb.score(cv_test, y_test))"
   ]
  },
  {
   "cell_type": "code",
   "execution_count": null,
   "metadata": {},
   "outputs": [],
   "source": []
  },
  {
   "cell_type": "markdown",
   "metadata": {},
   "source": [
    "### Decision Tree Model"
   ]
  },
  {
   "cell_type": "code",
   "execution_count": 39,
   "metadata": {},
   "outputs": [
    {
     "name": "stdout",
     "output_type": "stream",
     "text": [
      "0.5016744809109176\n",
      "\n",
      "0.5020080321285141\n"
     ]
    }
   ],
   "source": [
    "dt = DecisionTreeClassifier(criterion='gini', random_state=42, min_impurity_decrease=2, max_depth=100)\n",
    "\n",
    "dt.fit(cv_train, y_train)\n",
    "\n",
    "print(dt.score(cv_train, y_train))\n",
    "print('')\n",
    "print(dt.score(cv_test, y_test))"
   ]
  },
  {
   "cell_type": "code",
   "execution_count": null,
   "metadata": {},
   "outputs": [],
   "source": []
  },
  {
   "cell_type": "markdown",
   "metadata": {},
   "source": [
    "### Bagged Tree Model"
   ]
  },
  {
   "cell_type": "code",
   "execution_count": 40,
   "metadata": {},
   "outputs": [
    {
     "name": "stdout",
     "output_type": "stream",
     "text": [
      "0.5016744809109176\n",
      "\n",
      "0.5020080321285141\n"
     ]
    }
   ],
   "source": [
    "bag = BaggingClassifier(base_estimator=DecisionTreeClassifier(), n_estimators=50)\n",
    "\n",
    "bag.fit(cv_train, y_train)\n",
    "\n",
    "print(bag.score(cv_train, y_train))\n",
    "print('')\n",
    "print(bag.score(cv_test, y_test))"
   ]
  },
  {
   "cell_type": "markdown",
   "metadata": {},
   "source": [
    "### Extra Trees Model"
   ]
  },
  {
   "cell_type": "code",
   "execution_count": 41,
   "metadata": {},
   "outputs": [
    {
     "name": "stdout",
     "output_type": "stream",
     "text": [
      "0.5016744809109176\n",
      "\n",
      "0.5020080321285141\n"
     ]
    }
   ],
   "source": [
    "et = ExtraTreesClassifier(max_depth=100, min_impurity_decrease=2, \n",
    "                          random_state=42, criterion='entropy', n_estimators=100)\n",
    "\n",
    "et.fit(cv_train, y_train)\n",
    "\n",
    "print(et.score(cv_train, y_train))\n",
    "print('')\n",
    "print(et.score(cv_test, y_test))"
   ]
  },
  {
   "cell_type": "markdown",
   "metadata": {},
   "source": [
    "### Let's see how these models compare to a Random Forest Model"
   ]
  },
  {
   "cell_type": "markdown",
   "metadata": {},
   "source": [
    "### Random Forest Model"
   ]
  },
  {
   "cell_type": "code",
   "execution_count": 42,
   "metadata": {},
   "outputs": [
    {
     "name": "stdout",
     "output_type": "stream",
     "text": [
      "0.5016744809109176\n",
      "\n",
      "0.5020080321285141\n"
     ]
    }
   ],
   "source": [
    "rf = RandomForestClassifier(n_estimators=100, criterion='gini', max_depth=75, min_impurity_decrease=1,\n",
    "                           random_state=42)\n",
    "rf.fit(cv_train, y_train)\n",
    "\n",
    "print(rf.score(cv_train, y_train))\n",
    "print('')\n",
    "print(rf.score(cv_test, y_test))"
   ]
  },
  {
   "cell_type": "markdown",
   "metadata": {},
   "source": [
    "### The best model is: ______\n",
    "### Let's optimize using GridSearch"
   ]
  },
  {
   "cell_type": "code",
   "execution_count": null,
   "metadata": {},
   "outputs": [],
   "source": [
    "params = {}\n",
    "\n",
    "gs = GridSearchCV( , param_grid=params, cv=5)\n",
    "\n",
    "gs.fit(cv_train, y_train)\n",
    "print(gs.best_score_)\n",
    "gs.best_params_\n",
    "\n",
    "print(gs.score(cv_train, y_train))\n",
    "print('')\n",
    "print(gs.score(cv_test, y_test))"
   ]
  },
  {
   "cell_type": "markdown",
   "metadata": {},
   "source": [
    "## TfidfVectorize our data"
   ]
  },
  {
   "cell_type": "code",
   "execution_count": 43,
   "metadata": {},
   "outputs": [],
   "source": [
    "tf = TfidfVectorizer(stop_words='english',      # Instantiate english stop words\n",
    "                    lowercase=True,             # All words to lowercase if not already\n",
    "                    min_df=10,                  # Ignore words that do not occur at least 5 times\n",
    "                    ngram_range=(1,5))          # Set ngram_range"
   ]
  },
  {
   "cell_type": "code",
   "execution_count": 44,
   "metadata": {},
   "outputs": [],
   "source": [
    "tf_train = tf.fit_transform(X_train)            # Fit the CountVectorizer to the training data\n",
    "tf_test = tf.transform(X_test)                  # Fit the CountVectorizer to the testing data"
   ]
  },
  {
   "cell_type": "code",
   "execution_count": 45,
   "metadata": {},
   "outputs": [
    {
     "data": {
      "text/html": [
       "<div>\n",
       "<style scoped>\n",
       "    .dataframe tbody tr th:only-of-type {\n",
       "        vertical-align: middle;\n",
       "    }\n",
       "\n",
       "    .dataframe tbody tr th {\n",
       "        vertical-align: top;\n",
       "    }\n",
       "\n",
       "    .dataframe thead th {\n",
       "        text-align: right;\n",
       "    }\n",
       "</style>\n",
       "<table border=\"1\" class=\"dataframe\">\n",
       "  <thead>\n",
       "    <tr style=\"text-align: right;\">\n",
       "      <th></th>\n",
       "      <th>00</th>\n",
       "      <th>00 adida</th>\n",
       "      <th>00 adida origin</th>\n",
       "      <th>00 adida origin instagram</th>\n",
       "      <th>00 adida origin instagram icon</th>\n",
       "      <th>00 tax</th>\n",
       "      <th>00 tax includ</th>\n",
       "      <th>00 tax includ help</th>\n",
       "      <th>00 tax includ help someon</th>\n",
       "      <th>00 thoughts</th>\n",
       "      <th>...</th>\n",
       "      <th>zx flux some1</th>\n",
       "      <th>zx flux some1 help</th>\n",
       "      <th>zx flux some1 help thi</th>\n",
       "      <th>zx flux xeno</th>\n",
       "      <th>zx flux xeno worn</th>\n",
       "      <th>zx flux xeno worn kid</th>\n",
       "      <th>zx need</th>\n",
       "      <th>zx need help</th>\n",
       "      <th>zx need help id</th>\n",
       "      <th>zx need help id shoe</th>\n",
       "    </tr>\n",
       "  </thead>\n",
       "  <tbody>\n",
       "    <tr>\n",
       "      <th>0</th>\n",
       "      <td>0.003459</td>\n",
       "      <td>0.001153</td>\n",
       "      <td>0.001153</td>\n",
       "      <td>0.001153</td>\n",
       "      <td>0.001153</td>\n",
       "      <td>0.001153</td>\n",
       "      <td>0.001153</td>\n",
       "      <td>0.001153</td>\n",
       "      <td>0.001153</td>\n",
       "      <td>0.001153</td>\n",
       "      <td>...</td>\n",
       "      <td>0.001153</td>\n",
       "      <td>0.001153</td>\n",
       "      <td>0.001153</td>\n",
       "      <td>0.001153</td>\n",
       "      <td>0.001153</td>\n",
       "      <td>0.001153</td>\n",
       "      <td>0.001153</td>\n",
       "      <td>0.001153</td>\n",
       "      <td>0.001153</td>\n",
       "      <td>0.001153</td>\n",
       "    </tr>\n",
       "    <tr>\n",
       "      <th>1</th>\n",
       "      <td>0.003459</td>\n",
       "      <td>0.001153</td>\n",
       "      <td>0.001153</td>\n",
       "      <td>0.001153</td>\n",
       "      <td>0.001153</td>\n",
       "      <td>0.001153</td>\n",
       "      <td>0.001153</td>\n",
       "      <td>0.001153</td>\n",
       "      <td>0.001153</td>\n",
       "      <td>0.001153</td>\n",
       "      <td>...</td>\n",
       "      <td>0.001153</td>\n",
       "      <td>0.001153</td>\n",
       "      <td>0.001153</td>\n",
       "      <td>0.001153</td>\n",
       "      <td>0.001153</td>\n",
       "      <td>0.001153</td>\n",
       "      <td>0.001153</td>\n",
       "      <td>0.001153</td>\n",
       "      <td>0.001153</td>\n",
       "      <td>0.001153</td>\n",
       "    </tr>\n",
       "    <tr>\n",
       "      <th>2</th>\n",
       "      <td>0.003459</td>\n",
       "      <td>0.001153</td>\n",
       "      <td>0.001153</td>\n",
       "      <td>0.001153</td>\n",
       "      <td>0.001153</td>\n",
       "      <td>0.001153</td>\n",
       "      <td>0.001153</td>\n",
       "      <td>0.001153</td>\n",
       "      <td>0.001153</td>\n",
       "      <td>0.001153</td>\n",
       "      <td>...</td>\n",
       "      <td>0.001153</td>\n",
       "      <td>0.001153</td>\n",
       "      <td>0.001153</td>\n",
       "      <td>0.001153</td>\n",
       "      <td>0.001153</td>\n",
       "      <td>0.001153</td>\n",
       "      <td>0.001153</td>\n",
       "      <td>0.001153</td>\n",
       "      <td>0.001153</td>\n",
       "      <td>0.001153</td>\n",
       "    </tr>\n",
       "    <tr>\n",
       "      <th>3</th>\n",
       "      <td>0.003459</td>\n",
       "      <td>0.001153</td>\n",
       "      <td>0.001153</td>\n",
       "      <td>0.001153</td>\n",
       "      <td>0.001153</td>\n",
       "      <td>0.001153</td>\n",
       "      <td>0.001153</td>\n",
       "      <td>0.001153</td>\n",
       "      <td>0.001153</td>\n",
       "      <td>0.001153</td>\n",
       "      <td>...</td>\n",
       "      <td>0.001153</td>\n",
       "      <td>0.001153</td>\n",
       "      <td>0.001153</td>\n",
       "      <td>0.001153</td>\n",
       "      <td>0.001153</td>\n",
       "      <td>0.001153</td>\n",
       "      <td>0.001153</td>\n",
       "      <td>0.001153</td>\n",
       "      <td>0.001153</td>\n",
       "      <td>0.001153</td>\n",
       "    </tr>\n",
       "    <tr>\n",
       "      <th>4</th>\n",
       "      <td>0.003459</td>\n",
       "      <td>0.001153</td>\n",
       "      <td>0.001153</td>\n",
       "      <td>0.001153</td>\n",
       "      <td>0.001153</td>\n",
       "      <td>0.001153</td>\n",
       "      <td>0.001153</td>\n",
       "      <td>0.001153</td>\n",
       "      <td>0.001153</td>\n",
       "      <td>0.001153</td>\n",
       "      <td>...</td>\n",
       "      <td>0.001153</td>\n",
       "      <td>0.001153</td>\n",
       "      <td>0.001153</td>\n",
       "      <td>0.001153</td>\n",
       "      <td>0.001153</td>\n",
       "      <td>0.001153</td>\n",
       "      <td>0.001153</td>\n",
       "      <td>0.001153</td>\n",
       "      <td>0.001153</td>\n",
       "      <td>0.001153</td>\n",
       "    </tr>\n",
       "  </tbody>\n",
       "</table>\n",
       "<p>5 rows × 43424 columns</p>\n",
       "</div>"
      ],
      "text/plain": [
       "         00  00 adida  00 adida origin  00 adida origin instagram  \\\n",
       "0  0.003459  0.001153         0.001153                   0.001153   \n",
       "1  0.003459  0.001153         0.001153                   0.001153   \n",
       "2  0.003459  0.001153         0.001153                   0.001153   \n",
       "3  0.003459  0.001153         0.001153                   0.001153   \n",
       "4  0.003459  0.001153         0.001153                   0.001153   \n",
       "\n",
       "   00 adida origin instagram icon    00 tax  00 tax includ  \\\n",
       "0                        0.001153  0.001153       0.001153   \n",
       "1                        0.001153  0.001153       0.001153   \n",
       "2                        0.001153  0.001153       0.001153   \n",
       "3                        0.001153  0.001153       0.001153   \n",
       "4                        0.001153  0.001153       0.001153   \n",
       "\n",
       "   00 tax includ help  00 tax includ help someon  00 thoughts  \\\n",
       "0            0.001153                   0.001153     0.001153   \n",
       "1            0.001153                   0.001153     0.001153   \n",
       "2            0.001153                   0.001153     0.001153   \n",
       "3            0.001153                   0.001153     0.001153   \n",
       "4            0.001153                   0.001153     0.001153   \n",
       "\n",
       "           ...           zx flux some1  zx flux some1 help  \\\n",
       "0          ...                0.001153            0.001153   \n",
       "1          ...                0.001153            0.001153   \n",
       "2          ...                0.001153            0.001153   \n",
       "3          ...                0.001153            0.001153   \n",
       "4          ...                0.001153            0.001153   \n",
       "\n",
       "   zx flux some1 help thi  zx flux xeno  zx flux xeno worn  \\\n",
       "0                0.001153      0.001153           0.001153   \n",
       "1                0.001153      0.001153           0.001153   \n",
       "2                0.001153      0.001153           0.001153   \n",
       "3                0.001153      0.001153           0.001153   \n",
       "4                0.001153      0.001153           0.001153   \n",
       "\n",
       "   zx flux xeno worn kid   zx need  zx need help  zx need help id  \\\n",
       "0               0.001153  0.001153      0.001153         0.001153   \n",
       "1               0.001153  0.001153      0.001153         0.001153   \n",
       "2               0.001153  0.001153      0.001153         0.001153   \n",
       "3               0.001153  0.001153      0.001153         0.001153   \n",
       "4               0.001153  0.001153      0.001153         0.001153   \n",
       "\n",
       "   zx need help id shoe  \n",
       "0              0.001153  \n",
       "1              0.001153  \n",
       "2              0.001153  \n",
       "3              0.001153  \n",
       "4              0.001153  \n",
       "\n",
       "[5 rows x 43424 columns]"
      ]
     },
     "execution_count": 45,
     "metadata": {},
     "output_type": "execute_result"
    }
   ],
   "source": [
    "# Create tf_train dataframe\n",
    "tf_train_df = pd.DataFrame(tf_train.toarray(), columns = tf.get_feature_names())\n",
    "tf_train_df.head()"
   ]
  },
  {
   "cell_type": "code",
   "execution_count": 46,
   "metadata": {},
   "outputs": [
    {
     "data": {
      "text/html": [
       "<div>\n",
       "<style scoped>\n",
       "    .dataframe tbody tr th:only-of-type {\n",
       "        vertical-align: middle;\n",
       "    }\n",
       "\n",
       "    .dataframe tbody tr th {\n",
       "        vertical-align: top;\n",
       "    }\n",
       "\n",
       "    .dataframe thead th {\n",
       "        text-align: right;\n",
       "    }\n",
       "</style>\n",
       "<table border=\"1\" class=\"dataframe\">\n",
       "  <thead>\n",
       "    <tr style=\"text-align: right;\">\n",
       "      <th></th>\n",
       "      <th>00</th>\n",
       "      <th>00 adida</th>\n",
       "      <th>00 adida origin</th>\n",
       "      <th>00 adida origin instagram</th>\n",
       "      <th>00 adida origin instagram icon</th>\n",
       "      <th>00 tax</th>\n",
       "      <th>00 tax includ</th>\n",
       "      <th>00 tax includ help</th>\n",
       "      <th>00 tax includ help someon</th>\n",
       "      <th>00 thoughts</th>\n",
       "      <th>...</th>\n",
       "      <th>zx flux some1</th>\n",
       "      <th>zx flux some1 help</th>\n",
       "      <th>zx flux some1 help thi</th>\n",
       "      <th>zx flux xeno</th>\n",
       "      <th>zx flux xeno worn</th>\n",
       "      <th>zx flux xeno worn kid</th>\n",
       "      <th>zx need</th>\n",
       "      <th>zx need help</th>\n",
       "      <th>zx need help id</th>\n",
       "      <th>zx need help id shoe</th>\n",
       "    </tr>\n",
       "  </thead>\n",
       "  <tbody>\n",
       "    <tr>\n",
       "      <th>0</th>\n",
       "      <td>0.003459</td>\n",
       "      <td>0.001153</td>\n",
       "      <td>0.001153</td>\n",
       "      <td>0.001153</td>\n",
       "      <td>0.001153</td>\n",
       "      <td>0.001153</td>\n",
       "      <td>0.001153</td>\n",
       "      <td>0.001153</td>\n",
       "      <td>0.001153</td>\n",
       "      <td>0.001153</td>\n",
       "      <td>...</td>\n",
       "      <td>0.001153</td>\n",
       "      <td>0.001153</td>\n",
       "      <td>0.001153</td>\n",
       "      <td>0.001153</td>\n",
       "      <td>0.001153</td>\n",
       "      <td>0.001153</td>\n",
       "      <td>0.001153</td>\n",
       "      <td>0.001153</td>\n",
       "      <td>0.001153</td>\n",
       "      <td>0.001153</td>\n",
       "    </tr>\n",
       "    <tr>\n",
       "      <th>1</th>\n",
       "      <td>0.003459</td>\n",
       "      <td>0.001153</td>\n",
       "      <td>0.001153</td>\n",
       "      <td>0.001153</td>\n",
       "      <td>0.001153</td>\n",
       "      <td>0.001153</td>\n",
       "      <td>0.001153</td>\n",
       "      <td>0.001153</td>\n",
       "      <td>0.001153</td>\n",
       "      <td>0.001153</td>\n",
       "      <td>...</td>\n",
       "      <td>0.001153</td>\n",
       "      <td>0.001153</td>\n",
       "      <td>0.001153</td>\n",
       "      <td>0.001153</td>\n",
       "      <td>0.001153</td>\n",
       "      <td>0.001153</td>\n",
       "      <td>0.001153</td>\n",
       "      <td>0.001153</td>\n",
       "      <td>0.001153</td>\n",
       "      <td>0.001153</td>\n",
       "    </tr>\n",
       "    <tr>\n",
       "      <th>2</th>\n",
       "      <td>0.003459</td>\n",
       "      <td>0.001153</td>\n",
       "      <td>0.001153</td>\n",
       "      <td>0.001153</td>\n",
       "      <td>0.001153</td>\n",
       "      <td>0.001153</td>\n",
       "      <td>0.001153</td>\n",
       "      <td>0.001153</td>\n",
       "      <td>0.001153</td>\n",
       "      <td>0.001153</td>\n",
       "      <td>...</td>\n",
       "      <td>0.001153</td>\n",
       "      <td>0.001153</td>\n",
       "      <td>0.001153</td>\n",
       "      <td>0.001153</td>\n",
       "      <td>0.001153</td>\n",
       "      <td>0.001153</td>\n",
       "      <td>0.001153</td>\n",
       "      <td>0.001153</td>\n",
       "      <td>0.001153</td>\n",
       "      <td>0.001153</td>\n",
       "    </tr>\n",
       "    <tr>\n",
       "      <th>3</th>\n",
       "      <td>0.003459</td>\n",
       "      <td>0.001153</td>\n",
       "      <td>0.001153</td>\n",
       "      <td>0.001153</td>\n",
       "      <td>0.001153</td>\n",
       "      <td>0.001153</td>\n",
       "      <td>0.001153</td>\n",
       "      <td>0.001153</td>\n",
       "      <td>0.001153</td>\n",
       "      <td>0.001153</td>\n",
       "      <td>...</td>\n",
       "      <td>0.001153</td>\n",
       "      <td>0.001153</td>\n",
       "      <td>0.001153</td>\n",
       "      <td>0.001153</td>\n",
       "      <td>0.001153</td>\n",
       "      <td>0.001153</td>\n",
       "      <td>0.001153</td>\n",
       "      <td>0.001153</td>\n",
       "      <td>0.001153</td>\n",
       "      <td>0.001153</td>\n",
       "    </tr>\n",
       "    <tr>\n",
       "      <th>4</th>\n",
       "      <td>0.003459</td>\n",
       "      <td>0.001153</td>\n",
       "      <td>0.001153</td>\n",
       "      <td>0.001153</td>\n",
       "      <td>0.001153</td>\n",
       "      <td>0.001153</td>\n",
       "      <td>0.001153</td>\n",
       "      <td>0.001153</td>\n",
       "      <td>0.001153</td>\n",
       "      <td>0.001153</td>\n",
       "      <td>...</td>\n",
       "      <td>0.001153</td>\n",
       "      <td>0.001153</td>\n",
       "      <td>0.001153</td>\n",
       "      <td>0.001153</td>\n",
       "      <td>0.001153</td>\n",
       "      <td>0.001153</td>\n",
       "      <td>0.001153</td>\n",
       "      <td>0.001153</td>\n",
       "      <td>0.001153</td>\n",
       "      <td>0.001153</td>\n",
       "    </tr>\n",
       "  </tbody>\n",
       "</table>\n",
       "<p>5 rows × 43424 columns</p>\n",
       "</div>"
      ],
      "text/plain": [
       "         00  00 adida  00 adida origin  00 adida origin instagram  \\\n",
       "0  0.003459  0.001153         0.001153                   0.001153   \n",
       "1  0.003459  0.001153         0.001153                   0.001153   \n",
       "2  0.003459  0.001153         0.001153                   0.001153   \n",
       "3  0.003459  0.001153         0.001153                   0.001153   \n",
       "4  0.003459  0.001153         0.001153                   0.001153   \n",
       "\n",
       "   00 adida origin instagram icon    00 tax  00 tax includ  \\\n",
       "0                        0.001153  0.001153       0.001153   \n",
       "1                        0.001153  0.001153       0.001153   \n",
       "2                        0.001153  0.001153       0.001153   \n",
       "3                        0.001153  0.001153       0.001153   \n",
       "4                        0.001153  0.001153       0.001153   \n",
       "\n",
       "   00 tax includ help  00 tax includ help someon  00 thoughts  \\\n",
       "0            0.001153                   0.001153     0.001153   \n",
       "1            0.001153                   0.001153     0.001153   \n",
       "2            0.001153                   0.001153     0.001153   \n",
       "3            0.001153                   0.001153     0.001153   \n",
       "4            0.001153                   0.001153     0.001153   \n",
       "\n",
       "           ...           zx flux some1  zx flux some1 help  \\\n",
       "0          ...                0.001153            0.001153   \n",
       "1          ...                0.001153            0.001153   \n",
       "2          ...                0.001153            0.001153   \n",
       "3          ...                0.001153            0.001153   \n",
       "4          ...                0.001153            0.001153   \n",
       "\n",
       "   zx flux some1 help thi  zx flux xeno  zx flux xeno worn  \\\n",
       "0                0.001153      0.001153           0.001153   \n",
       "1                0.001153      0.001153           0.001153   \n",
       "2                0.001153      0.001153           0.001153   \n",
       "3                0.001153      0.001153           0.001153   \n",
       "4                0.001153      0.001153           0.001153   \n",
       "\n",
       "   zx flux xeno worn kid   zx need  zx need help  zx need help id  \\\n",
       "0               0.001153  0.001153      0.001153         0.001153   \n",
       "1               0.001153  0.001153      0.001153         0.001153   \n",
       "2               0.001153  0.001153      0.001153         0.001153   \n",
       "3               0.001153  0.001153      0.001153         0.001153   \n",
       "4               0.001153  0.001153      0.001153         0.001153   \n",
       "\n",
       "   zx need help id shoe  \n",
       "0              0.001153  \n",
       "1              0.001153  \n",
       "2              0.001153  \n",
       "3              0.001153  \n",
       "4              0.001153  \n",
       "\n",
       "[5 rows x 43424 columns]"
      ]
     },
     "execution_count": 46,
     "metadata": {},
     "output_type": "execute_result"
    }
   ],
   "source": [
    "# Create tf_test dataframe\n",
    "tf_test_df = pd.DataFrame(tf_test.toarray(), columns = tf.get_feature_names())\n",
    "tf_test_df.head()"
   ]
  },
  {
   "cell_type": "code",
   "execution_count": 47,
   "metadata": {},
   "outputs": [
    {
     "name": "stdout",
     "output_type": "stream",
     "text": [
      "(1493, 43424)\n",
      "(498, 43424)\n"
     ]
    }
   ],
   "source": [
    "print(tf_train.shape)\n",
    "print(tf_test.shape)"
   ]
  },
  {
   "cell_type": "markdown",
   "metadata": {},
   "source": [
    "### Let's try different models and then optimize the one that works best"
   ]
  },
  {
   "cell_type": "markdown",
   "metadata": {},
   "source": [
    "### Logistic Regression Model"
   ]
  },
  {
   "cell_type": "code",
   "execution_count": 48,
   "metadata": {},
   "outputs": [
    {
     "name": "stdout",
     "output_type": "stream",
     "text": [
      "0.5016744809109176\n",
      "\n",
      "0.5020080321285141\n"
     ]
    }
   ],
   "source": [
    "log = LogisticRegression(penalty='l2', tol=.0001, C=5, random_state=42)\n",
    "\n",
    "log.fit(tf_train, y_train)\n",
    "\n",
    "print(log.score(tf_train, y_train))\n",
    "print('')\n",
    "print(log.score(tf_test, y_test))"
   ]
  },
  {
   "cell_type": "markdown",
   "metadata": {},
   "source": [
    "### Multinomial Naive Bayes Model"
   ]
  },
  {
   "cell_type": "code",
   "execution_count": 49,
   "metadata": {},
   "outputs": [
    {
     "name": "stdout",
     "output_type": "stream",
     "text": [
      "0.5016744809109176\n",
      "\n",
      "0.5020080321285141\n"
     ]
    }
   ],
   "source": [
    "mn = MultinomialNB()\n",
    "\n",
    "mn.fit(tf_train, y_train)\n",
    "\n",
    "print(mn.score(tf_train, y_train))\n",
    "print('')\n",
    "print(mn.score(tf_test, y_test))"
   ]
  },
  {
   "cell_type": "markdown",
   "metadata": {},
   "source": [
    "### Decision Tree Model"
   ]
  },
  {
   "cell_type": "code",
   "execution_count": 50,
   "metadata": {},
   "outputs": [
    {
     "name": "stdout",
     "output_type": "stream",
     "text": [
      "0.5016744809109176\n",
      "\n",
      "0.5020080321285141\n"
     ]
    }
   ],
   "source": [
    "dT = DecisionTreeClassifier(criterion='gini', random_state=42, min_impurity_decrease=2, max_depth=100)\n",
    "\n",
    "dT.fit(tf_train, y_train)\n",
    "\n",
    "print(dT.score(tf_train, y_train))\n",
    "print('')\n",
    "print(dT.score(tf_test, y_test))"
   ]
  },
  {
   "cell_type": "markdown",
   "metadata": {},
   "source": [
    "### Bagged Tree Model"
   ]
  },
  {
   "cell_type": "code",
   "execution_count": 51,
   "metadata": {},
   "outputs": [
    {
     "name": "stdout",
     "output_type": "stream",
     "text": [
      "0.5016744809109176\n",
      "\n",
      "0.5020080321285141\n"
     ]
    }
   ],
   "source": [
    "bagged = BaggingClassifier(base_estimator=DecisionTreeClassifier(random_state=42), n_estimators=100)\n",
    "\n",
    "bagged.fit(tf_train, y_train)\n",
    "\n",
    "print(bagged.score(tf_train, y_train))\n",
    "print('')\n",
    "print(bagged.score(tf_test, y_test))"
   ]
  },
  {
   "cell_type": "markdown",
   "metadata": {},
   "source": [
    "### Extra Trees Model"
   ]
  },
  {
   "cell_type": "code",
   "execution_count": null,
   "metadata": {},
   "outputs": [],
   "source": [
    "eT = ExtraTreesClassifier(max_depth=100, min_impurity_decrease=2, \n",
    "                          random_state=42, criterion='entropy', n_estimators=100)\n",
    "\n",
    "eT.fit(tf_train, y_train)\n",
    "\n",
    "print(eT.score(tf_train, y_train))\n",
    "print('')\n",
    "print(eT.score(tf_test, y_test))"
   ]
  },
  {
   "cell_type": "markdown",
   "metadata": {},
   "source": [
    "### Let's see how these models compare to a Random Forest Model"
   ]
  },
  {
   "cell_type": "markdown",
   "metadata": {},
   "source": [
    "### Random Forest Model"
   ]
  },
  {
   "cell_type": "code",
   "execution_count": null,
   "metadata": {},
   "outputs": [],
   "source": [
    "rF = RandomForestClassifier(n_estimators=100, criterion='gini', max_depth=75, min_impurity_decrease=1,\n",
    "                           random_state=42)\n",
    "rF.fit(tf_train, y_train)\n",
    "\n",
    "print(rF.score(tf_train, y_train))\n",
    "print('')\n",
    "print(rF.score(tf_test, y_test))"
   ]
  },
  {
   "cell_type": "markdown",
   "metadata": {},
   "source": [
    "### The best model is: ______\n",
    "### Let's optimize using GridSearch"
   ]
  },
  {
   "cell_type": "code",
   "execution_count": null,
   "metadata": {},
   "outputs": [],
   "source": [
    "params = {}\n",
    "\n",
    "gS = GridSearchCV( , param_grid=params, cv=5)\n",
    "\n",
    "gS.fit(tf_train, y_train)\n",
    "print(gs.best_score_)\n",
    "gS.best_params_\n",
    "\n",
    "print(gS.score(tf_train, y_train))\n",
    "print('')\n",
    "print(gS.score(tf_test, y_test))"
   ]
  },
  {
   "cell_type": "code",
   "execution_count": null,
   "metadata": {},
   "outputs": [],
   "source": []
  },
  {
   "cell_type": "code",
   "execution_count": null,
   "metadata": {},
   "outputs": [],
   "source": []
  },
  {
   "cell_type": "code",
   "execution_count": null,
   "metadata": {},
   "outputs": [],
   "source": []
  }
 ],
 "metadata": {
  "kernelspec": {
   "display_name": "Python 3",
   "language": "python",
   "name": "python3"
  },
  "language_info": {
   "codemirror_mode": {
    "name": "ipython",
    "version": 3
   },
   "file_extension": ".py",
   "mimetype": "text/x-python",
   "name": "python",
   "nbconvert_exporter": "python",
   "pygments_lexer": "ipython3",
   "version": "3.7.0"
  }
 },
 "nbformat": 4,
 "nbformat_minor": 2
}
