{
 "cells": [
  {
   "cell_type": "markdown",
   "metadata": {},
   "source": [
    "# Problem Statement\n",
    "\n",
    "#### Oh no! Reddit is in shambles. Reddit's data science team needs assistance accurately classifying all posts to the specific subreddit that they came from. To prove that we can be of assistance, we will decrease the scale of the project and focus on just the Nike and Adidas subreddits and build a model to determine whether a given post is a Nike related post. \n",
    "\n",
    "#### We will build different types of classification models: a Logistic Regression model, a Multinomial Naive Bayes Model, a Decision Tree Model, a Bagged Trees Model, an Extra Trees Model,  and a Random Forest model. We will optimize our model so our `score` is as close to `1` as possible. With an accurate model, Reddit should be able to apply this model to sort out the rest of their posts that are currently in limbo. "
   ]
  },
  {
   "cell_type": "markdown",
   "metadata": {},
   "source": [
    "# Data Collection"
   ]
  },
  {
   "cell_type": "markdown",
   "metadata": {},
   "source": [
    "#### We will be hitting Reddit's API for samples of Nike and Adidas related posts. Steps for the data collection process will be the same for both companies. "
   ]
  },
  {
   "cell_type": "code",
   "execution_count": 1,
   "metadata": {},
   "outputs": [],
   "source": [
    "import requests\n",
    "import time \n",
    "import pandas as pd"
   ]
  },
  {
   "cell_type": "code",
   "execution_count": 2,
   "metadata": {},
   "outputs": [],
   "source": [
    "nike_url = 'https://www.reddit.com/r/Nike/hot/.json'             # Set Nike url\n",
    "\n",
    "adidas_url = 'https://www.reddit.com/r/adidas/hot/.json'         # Set Adidas url"
   ]
  },
  {
   "cell_type": "code",
   "execution_count": 3,
   "metadata": {},
   "outputs": [],
   "source": [
    "headers = {'User-agent': 'danhyunkim'}                           # Set user agent to prevent status code issue"
   ]
  },
  {
   "cell_type": "code",
   "execution_count": 4,
   "metadata": {},
   "outputs": [],
   "source": [
    "nike_res = requests.get(nike_url, headers=headers)               # Set Nike get request\n",
    "\n",
    "adidas_res = requests.get(adidas_url, headers=headers)           # Set Adidas get request"
   ]
  },
  {
   "cell_type": "code",
   "execution_count": 5,
   "metadata": {},
   "outputs": [
    {
     "name": "stdout",
     "output_type": "stream",
     "text": [
      "200\n",
      "200\n"
     ]
    }
   ],
   "source": [
    "# Check status code for both requests to ensure we are not getting a 400 or 500 code\n",
    "print(nike_res.status_code)\n",
    "\n",
    "print(adidas_res.status_code)"
   ]
  },
  {
   "cell_type": "markdown",
   "metadata": {},
   "source": [
    "### Nike data collection"
   ]
  },
  {
   "cell_type": "code",
   "execution_count": 6,
   "metadata": {},
   "outputs": [],
   "source": [
    "nike_json = nike_res.json()"
   ]
  },
  {
   "cell_type": "code",
   "execution_count": 7,
   "metadata": {},
   "outputs": [
    {
     "name": "stdout",
     "output_type": "stream",
     "text": [
      "0\n",
      "1\n",
      "2\n",
      "3\n",
      "4\n",
      "5\n",
      "6\n",
      "7\n",
      "8\n",
      "9\n",
      "10\n",
      "11\n",
      "12\n",
      "13\n",
      "14\n",
      "15\n",
      "16\n",
      "17\n",
      "18\n",
      "19\n",
      "20\n",
      "21\n",
      "22\n",
      "23\n",
      "24\n",
      "25\n",
      "26\n",
      "27\n",
      "28\n",
      "29\n",
      "30\n",
      "31\n",
      "32\n",
      "33\n",
      "34\n",
      "35\n",
      "36\n",
      "37\n",
      "38\n",
      "39\n"
     ]
    }
   ],
   "source": [
    "nike_posts = []\n",
    "after = None\n",
    "for i in range(40):\n",
    "    print(i)\n",
    "    if after == None:\n",
    "        params = {}\n",
    "    else: \n",
    "        params = {'after': after}\n",
    "    NIKE_url = 'https://www.reddit.com/r/Nike/hot/.json'\n",
    "    res = requests.get(NIKE_url, params=params, headers=headers)\n",
    "    if res.status_code == 200:\n",
    "        the_json = res.json()\n",
    "        nike_posts.extend(the_json['data']['children'])\n",
    "        after = the_json['data']['after']\n",
    "    else:\n",
    "        print(res.status_code)\n",
    "        break\n",
    "    time.sleep(2)"
   ]
  },
  {
   "cell_type": "code",
   "execution_count": 8,
   "metadata": {},
   "outputs": [
    {
     "data": {
      "text/plain": [
       "(999, 2)"
      ]
     },
     "execution_count": 8,
     "metadata": {},
     "output_type": "execute_result"
    }
   ],
   "source": [
    "nike_df = pd.DataFrame(nike_posts)\n",
    "nike_df.shape"
   ]
  },
  {
   "cell_type": "code",
   "execution_count": 9,
   "metadata": {},
   "outputs": [],
   "source": [
    "nike_cells = []\n",
    "for i in range(len(nike_posts)):\n",
    "    nike_cells.append({'title': nike_posts[i]['data']['title'], \n",
    "                       'subreddit': nike_posts[i]['data']['subreddit'], \n",
    "                      'comments': nike_posts[i]['data']['num_comments'], \n",
    "                       'text': nike_posts[i]['data']['selftext'], \n",
    "                      'subscribers': nike_posts[i]['data']['subreddit_subscribers'], \n",
    "                       'url': nike_posts[i]['data']['url'],\n",
    "                      'created': nike_posts[i]['data']['created_utc'],\n",
    "                      'author': nike_posts[i]['data']['author'],\n",
    "                      'score': nike_posts[i]['data']['score']})\n",
    "    \n",
    "nike_df = pd.DataFrame(nike_cells)"
   ]
  },
  {
   "cell_type": "code",
   "execution_count": 10,
   "metadata": {},
   "outputs": [
    {
     "data": {
      "text/html": [
       "<div>\n",
       "<style scoped>\n",
       "    .dataframe tbody tr th:only-of-type {\n",
       "        vertical-align: middle;\n",
       "    }\n",
       "\n",
       "    .dataframe tbody tr th {\n",
       "        vertical-align: top;\n",
       "    }\n",
       "\n",
       "    .dataframe thead th {\n",
       "        text-align: right;\n",
       "    }\n",
       "</style>\n",
       "<table border=\"1\" class=\"dataframe\">\n",
       "  <thead>\n",
       "    <tr style=\"text-align: right;\">\n",
       "      <th></th>\n",
       "      <th>author</th>\n",
       "      <th>comments</th>\n",
       "      <th>created</th>\n",
       "      <th>score</th>\n",
       "      <th>subreddit</th>\n",
       "      <th>subscribers</th>\n",
       "      <th>text</th>\n",
       "      <th>title</th>\n",
       "      <th>url</th>\n",
       "    </tr>\n",
       "  </thead>\n",
       "  <tbody>\n",
       "    <tr>\n",
       "      <th>0</th>\n",
       "      <td>jeremec</td>\n",
       "      <td>1</td>\n",
       "      <td>1.456352e+09</td>\n",
       "      <td>18</td>\n",
       "      <td>Nike</td>\n",
       "      <td>11043</td>\n",
       "      <td>Please note that any product from a previous s...</td>\n",
       "      <td>Tips for identifying Nike Product</td>\n",
       "      <td>https://www.reddit.com/r/Nike/comments/47fex4/...</td>\n",
       "    </tr>\n",
       "    <tr>\n",
       "      <th>1</th>\n",
       "      <td>lavienstyle</td>\n",
       "      <td>2</td>\n",
       "      <td>1.545215e+09</td>\n",
       "      <td>8</td>\n",
       "      <td>Nike</td>\n",
       "      <td>11043</td>\n",
       "      <td></td>\n",
       "      <td>What’s this called?</td>\n",
       "      <td>https://i.redd.it/hjnoz5gqo7521.jpg</td>\n",
       "    </tr>\n",
       "    <tr>\n",
       "      <th>2</th>\n",
       "      <td>azndkflush</td>\n",
       "      <td>0</td>\n",
       "      <td>1.545232e+09</td>\n",
       "      <td>1</td>\n",
       "      <td>Nike</td>\n",
       "      <td>11043</td>\n",
       "      <td></td>\n",
       "      <td>[LC] OW NIKE PRESTO :D!</td>\n",
       "      <td>https://imgur.com/gallery/Aykz7YX</td>\n",
       "    </tr>\n",
       "    <tr>\n",
       "      <th>3</th>\n",
       "      <td>hiding_in_NJ</td>\n",
       "      <td>2</td>\n",
       "      <td>1.545150e+09</td>\n",
       "      <td>49</td>\n",
       "      <td>Nike</td>\n",
       "      <td>11043</td>\n",
       "      <td></td>\n",
       "      <td>3D printed Jordan 1s by me</td>\n",
       "      <td>https://i.redd.it/j4oaab0za2521.jpg</td>\n",
       "    </tr>\n",
       "    <tr>\n",
       "      <th>4</th>\n",
       "      <td>nitr0h</td>\n",
       "      <td>0</td>\n",
       "      <td>1.545203e+09</td>\n",
       "      <td>2</td>\n",
       "      <td>Nike</td>\n",
       "      <td>11043</td>\n",
       "      <td>http://www.jimmyjazz.com/boys/clothing/nike-bl...</td>\n",
       "      <td>need help finding this tracksuit in mens</td>\n",
       "      <td>https://www.reddit.com/r/Nike/comments/a7k2nd/...</td>\n",
       "    </tr>\n",
       "  </tbody>\n",
       "</table>\n",
       "</div>"
      ],
      "text/plain": [
       "         author  comments       created  score subreddit  subscribers  \\\n",
       "0       jeremec         1  1.456352e+09     18      Nike        11043   \n",
       "1   lavienstyle         2  1.545215e+09      8      Nike        11043   \n",
       "2    azndkflush         0  1.545232e+09      1      Nike        11043   \n",
       "3  hiding_in_NJ         2  1.545150e+09     49      Nike        11043   \n",
       "4        nitr0h         0  1.545203e+09      2      Nike        11043   \n",
       "\n",
       "                                                text  \\\n",
       "0  Please note that any product from a previous s...   \n",
       "1                                                      \n",
       "2                                                      \n",
       "3                                                      \n",
       "4  http://www.jimmyjazz.com/boys/clothing/nike-bl...   \n",
       "\n",
       "                                      title  \\\n",
       "0         Tips for identifying Nike Product   \n",
       "1                       What’s this called?   \n",
       "2                   [LC] OW NIKE PRESTO :D!   \n",
       "3                3D printed Jordan 1s by me   \n",
       "4  need help finding this tracksuit in mens   \n",
       "\n",
       "                                                 url  \n",
       "0  https://www.reddit.com/r/Nike/comments/47fex4/...  \n",
       "1                https://i.redd.it/hjnoz5gqo7521.jpg  \n",
       "2                  https://imgur.com/gallery/Aykz7YX  \n",
       "3                https://i.redd.it/j4oaab0za2521.jpg  \n",
       "4  https://www.reddit.com/r/Nike/comments/a7k2nd/...  "
      ]
     },
     "execution_count": 10,
     "metadata": {},
     "output_type": "execute_result"
    }
   ],
   "source": [
    "nike_df.head()"
   ]
  },
  {
   "cell_type": "code",
   "execution_count": 11,
   "metadata": {},
   "outputs": [
    {
     "data": {
      "text/plain": [
       "(999, 9)"
      ]
     },
     "execution_count": 11,
     "metadata": {},
     "output_type": "execute_result"
    }
   ],
   "source": [
    "nike_df.shape"
   ]
  },
  {
   "cell_type": "code",
   "execution_count": 12,
   "metadata": {},
   "outputs": [],
   "source": [
    "nike_df.to_csv('../data/Nike.csv')"
   ]
  },
  {
   "cell_type": "markdown",
   "metadata": {},
   "source": [
    "### Adidas data collection"
   ]
  },
  {
   "cell_type": "code",
   "execution_count": 13,
   "metadata": {},
   "outputs": [],
   "source": [
    "adidas_json = adidas_res.json()"
   ]
  },
  {
   "cell_type": "code",
   "execution_count": 14,
   "metadata": {},
   "outputs": [
    {
     "name": "stdout",
     "output_type": "stream",
     "text": [
      "0\n",
      "1\n",
      "2\n",
      "3\n",
      "4\n",
      "5\n",
      "6\n",
      "7\n",
      "8\n",
      "9\n",
      "10\n",
      "11\n",
      "12\n",
      "13\n",
      "14\n",
      "15\n",
      "16\n",
      "17\n",
      "18\n",
      "19\n",
      "20\n",
      "21\n",
      "22\n",
      "23\n",
      "24\n",
      "25\n",
      "26\n",
      "27\n",
      "28\n",
      "29\n",
      "30\n",
      "31\n",
      "32\n",
      "33\n",
      "34\n",
      "35\n",
      "36\n",
      "37\n",
      "38\n",
      "39\n"
     ]
    }
   ],
   "source": [
    "adidas_posts = []\n",
    "after = None\n",
    "for i in range(40):\n",
    "    print(i)\n",
    "    if after == None:\n",
    "        params = {}\n",
    "    else: \n",
    "        params = {'after': after}\n",
    "    ADIDAS_url = 'https://www.reddit.com/r/adidas/hot/.json'\n",
    "    res = requests.get(ADIDAS_url, params=params, headers=headers)\n",
    "    if res.status_code == 200:\n",
    "        the_json = res.json()\n",
    "        adidas_posts.extend(the_json['data']['children'])\n",
    "        after = the_json['data']['after']\n",
    "    else:\n",
    "        print(res.status_code)\n",
    "        break\n",
    "    time.sleep(2)"
   ]
  },
  {
   "cell_type": "code",
   "execution_count": 15,
   "metadata": {},
   "outputs": [
    {
     "data": {
      "text/plain": [
       "(992, 2)"
      ]
     },
     "execution_count": 15,
     "metadata": {},
     "output_type": "execute_result"
    }
   ],
   "source": [
    "adidas_df = pd.DataFrame(adidas_posts)\n",
    "adidas_df.shape"
   ]
  },
  {
   "cell_type": "code",
   "execution_count": 16,
   "metadata": {},
   "outputs": [],
   "source": [
    "adidas_cells = []\n",
    "for i in range(len(adidas_posts)):\n",
    "    adidas_cells.append({'title': adidas_posts[i]['data']['title'], \n",
    "                       'subreddit': adidas_posts[i]['data']['subreddit'], \n",
    "                      'comments': adidas_posts[i]['data']['num_comments'], \n",
    "                       'text': adidas_posts[i]['data']['selftext'], \n",
    "                      'subscribers': adidas_posts[i]['data']['subreddit_subscribers'], \n",
    "                       'url': adidas_posts[i]['data']['url'],\n",
    "                      'created': adidas_posts[i]['data']['created_utc'],\n",
    "                        'author': nike_posts[i]['data']['author'],\n",
    "                        'score': nike_posts[i]['data']['score']})\n",
    "    \n",
    "adidas_df = pd.DataFrame(adidas_cells)"
   ]
  },
  {
   "cell_type": "code",
   "execution_count": 17,
   "metadata": {},
   "outputs": [
    {
     "data": {
      "text/html": [
       "<div>\n",
       "<style scoped>\n",
       "    .dataframe tbody tr th:only-of-type {\n",
       "        vertical-align: middle;\n",
       "    }\n",
       "\n",
       "    .dataframe tbody tr th {\n",
       "        vertical-align: top;\n",
       "    }\n",
       "\n",
       "    .dataframe thead th {\n",
       "        text-align: right;\n",
       "    }\n",
       "</style>\n",
       "<table border=\"1\" class=\"dataframe\">\n",
       "  <thead>\n",
       "    <tr style=\"text-align: right;\">\n",
       "      <th></th>\n",
       "      <th>author</th>\n",
       "      <th>comments</th>\n",
       "      <th>created</th>\n",
       "      <th>score</th>\n",
       "      <th>subreddit</th>\n",
       "      <th>subscribers</th>\n",
       "      <th>text</th>\n",
       "      <th>title</th>\n",
       "      <th>url</th>\n",
       "    </tr>\n",
       "  </thead>\n",
       "  <tbody>\n",
       "    <tr>\n",
       "      <th>0</th>\n",
       "      <td>jeremec</td>\n",
       "      <td>0</td>\n",
       "      <td>1.513752e+09</td>\n",
       "      <td>18</td>\n",
       "      <td>adidas</td>\n",
       "      <td>9666</td>\n",
       "      <td>With holidays coming around, and a lot of big ...</td>\n",
       "      <td>Just a friendly holiday reminder about CS ques...</td>\n",
       "      <td>https://www.reddit.com/r/adidas/comments/7kzpb...</td>\n",
       "    </tr>\n",
       "    <tr>\n",
       "      <th>1</th>\n",
       "      <td>lavienstyle</td>\n",
       "      <td>5</td>\n",
       "      <td>1.545224e+09</td>\n",
       "      <td>8</td>\n",
       "      <td>adidas</td>\n",
       "      <td>9666</td>\n",
       "      <td>I have pair of Alphabounces that I think are j...</td>\n",
       "      <td>How warm are the Ultra Boosts?</td>\n",
       "      <td>https://www.reddit.com/r/adidas/comments/a7m6t...</td>\n",
       "    </tr>\n",
       "    <tr>\n",
       "      <th>2</th>\n",
       "      <td>azndkflush</td>\n",
       "      <td>0</td>\n",
       "      <td>1.545176e+09</td>\n",
       "      <td>1</td>\n",
       "      <td>adidas</td>\n",
       "      <td>9666</td>\n",
       "      <td></td>\n",
       "      <td>Here's my (Small) collection!</td>\n",
       "      <td>https://imgur.com/a/3uEHrDf</td>\n",
       "    </tr>\n",
       "    <tr>\n",
       "      <th>3</th>\n",
       "      <td>hiding_in_NJ</td>\n",
       "      <td>1</td>\n",
       "      <td>1.545158e+09</td>\n",
       "      <td>49</td>\n",
       "      <td>adidas</td>\n",
       "      <td>9666</td>\n",
       "      <td></td>\n",
       "      <td>ID on these. Says they're 08/03.</td>\n",
       "      <td>https://imgur.com/Oi5Dz5G</td>\n",
       "    </tr>\n",
       "    <tr>\n",
       "      <th>4</th>\n",
       "      <td>nitr0h</td>\n",
       "      <td>9</td>\n",
       "      <td>1.545120e+09</td>\n",
       "      <td>2</td>\n",
       "      <td>adidas</td>\n",
       "      <td>9666</td>\n",
       "      <td></td>\n",
       "      <td>Awkward flex .</td>\n",
       "      <td>https://i.redd.it/wln7dfhruz421.jpg</td>\n",
       "    </tr>\n",
       "  </tbody>\n",
       "</table>\n",
       "</div>"
      ],
      "text/plain": [
       "         author  comments       created  score subreddit  subscribers  \\\n",
       "0       jeremec         0  1.513752e+09     18    adidas         9666   \n",
       "1   lavienstyle         5  1.545224e+09      8    adidas         9666   \n",
       "2    azndkflush         0  1.545176e+09      1    adidas         9666   \n",
       "3  hiding_in_NJ         1  1.545158e+09     49    adidas         9666   \n",
       "4        nitr0h         9  1.545120e+09      2    adidas         9666   \n",
       "\n",
       "                                                text  \\\n",
       "0  With holidays coming around, and a lot of big ...   \n",
       "1  I have pair of Alphabounces that I think are j...   \n",
       "2                                                      \n",
       "3                                                      \n",
       "4                                                      \n",
       "\n",
       "                                               title  \\\n",
       "0  Just a friendly holiday reminder about CS ques...   \n",
       "1                     How warm are the Ultra Boosts?   \n",
       "2                      Here's my (Small) collection!   \n",
       "3                   ID on these. Says they're 08/03.   \n",
       "4                                     Awkward flex .   \n",
       "\n",
       "                                                 url  \n",
       "0  https://www.reddit.com/r/adidas/comments/7kzpb...  \n",
       "1  https://www.reddit.com/r/adidas/comments/a7m6t...  \n",
       "2                        https://imgur.com/a/3uEHrDf  \n",
       "3                          https://imgur.com/Oi5Dz5G  \n",
       "4                https://i.redd.it/wln7dfhruz421.jpg  "
      ]
     },
     "execution_count": 17,
     "metadata": {},
     "output_type": "execute_result"
    }
   ],
   "source": [
    "adidas_df.head()"
   ]
  },
  {
   "cell_type": "code",
   "execution_count": 18,
   "metadata": {},
   "outputs": [
    {
     "data": {
      "text/plain": [
       "(992, 9)"
      ]
     },
     "execution_count": 18,
     "metadata": {},
     "output_type": "execute_result"
    }
   ],
   "source": [
    "adidas_df.shape"
   ]
  },
  {
   "cell_type": "code",
   "execution_count": 19,
   "metadata": {},
   "outputs": [],
   "source": [
    "adidas_df.to_csv('../data/Adidas.csv')"
   ]
  },
  {
   "cell_type": "code",
   "execution_count": null,
   "metadata": {},
   "outputs": [],
   "source": []
  }
 ],
 "metadata": {
  "kernelspec": {
   "display_name": "Python 3",
   "language": "python",
   "name": "python3"
  },
  "language_info": {
   "codemirror_mode": {
    "name": "ipython",
    "version": 3
   },
   "file_extension": ".py",
   "mimetype": "text/x-python",
   "name": "python",
   "nbconvert_exporter": "python",
   "pygments_lexer": "ipython3",
   "version": "3.7.0"
  }
 },
 "nbformat": 4,
 "nbformat_minor": 2
}
