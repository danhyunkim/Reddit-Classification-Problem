{
 "cells": [
  {
   "cell_type": "markdown",
   "metadata": {},
   "source": [
    "# Conclusion & Recommendation"
   ]
  },
  {
   "cell_type": "markdown",
   "metadata": {},
   "source": [
    "### After building Logistic Regression, Multinomial Naive Bayes, Decision Tree, Bagged Trees, Random Forest and Extra Trees models under both CountVectorizer and TfidfVectorizer transformers, we've come to the conclusion that the most accurate model is the Logistic Regression model under the CountVectorizer transformer."
   ]
  },
  {
   "cell_type": "markdown",
   "metadata": {},
   "source": [
    "### Although this model was generated to distinguish whether a post belongs to the Nike subreddit, we recommend Reddit apply this methodology and model to begin categorizing all of its posts into their designated subreddits. "
   ]
  },
  {
   "cell_type": "markdown",
   "metadata": {},
   "source": [
    "# Evaluation"
   ]
  },
  {
   "cell_type": "markdown",
   "metadata": {},
   "source": [
    "### Our model only worked with one vectorized feature, the title column, to predict whether a given post belonged to the Nike subreddit. To fine tune our model we can:\n",
    "\n",
    "**1. Add more features:**\n",
    "\n",
    "* The lemmatized and vectorized words in the text column\n",
    "* Dummy variables of the author column\n",
    "* Weeks since creation\n",
    "* Post Score\n",
    "\n",
    "**2. Play with our hyperparameters of the vectorizers:**\n",
    "\n",
    "* Increase the ngram_range\n",
    "* Increase the min_df count\n",
    "\n",
    "**3. Remove vectorized words that are in the title of the Subreddit (i.e. ‘Nike’, ‘Adidas’) and remove post agnostic words**"
   ]
  },
  {
   "cell_type": "code",
   "execution_count": null,
   "metadata": {},
   "outputs": [],
   "source": []
  }
 ],
 "metadata": {
  "kernelspec": {
   "display_name": "Python 3",
   "language": "python",
   "name": "python3"
  },
  "language_info": {
   "codemirror_mode": {
    "name": "ipython",
    "version": 3
   },
   "file_extension": ".py",
   "mimetype": "text/x-python",
   "name": "python",
   "nbconvert_exporter": "python",
   "pygments_lexer": "ipython3",
   "version": "3.7.0"
  }
 },
 "nbformat": 4,
 "nbformat_minor": 2
}
