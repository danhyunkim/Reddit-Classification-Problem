{
 "cells": [
  {
   "cell_type": "markdown",
   "metadata": {},
   "source": [
    "# Time to model!"
   ]
  },
  {
   "cell_type": "code",
   "execution_count": 1,
   "metadata": {},
   "outputs": [],
   "source": [
    "import pandas as pd, numpy as np\n",
    "from sklearn.model_selection import train_test_split, cross_val_score, GridSearchCV\n",
    "from sklearn.linear_model import LogisticRegression\n",
    "from sklearn.naive_bayes import MultinomialNB, BernoulliNB\n",
    "from sklearn.feature_extraction.text import CountVectorizer, TfidfVectorizer\n",
    "from sklearn.tree import DecisionTreeClassifier\n",
    "from sklearn.ensemble import RandomForestClassifier, ExtraTreesClassifier, BaggingClassifier"
   ]
  },
  {
   "cell_type": "code",
   "execution_count": 2,
   "metadata": {},
   "outputs": [],
   "source": [
    "import warnings\n",
    "warnings.simplefilter(action='ignore', category=FutureWarning)"
   ]
  },
  {
   "cell_type": "markdown",
   "metadata": {},
   "source": [
    "**Read in the combined Nike and Adidas csv to begin modeling**"
   ]
  },
  {
   "cell_type": "code",
   "execution_count": 3,
   "metadata": {},
   "outputs": [],
   "source": [
    "df = pd.read_csv('../data/Nike_Adidas_combined.csv')"
   ]
  },
  {
   "cell_type": "code",
   "execution_count": 4,
   "metadata": {},
   "outputs": [
    {
     "data": {
      "text/html": [
       "<div>\n",
       "<style scoped>\n",
       "    .dataframe tbody tr th:only-of-type {\n",
       "        vertical-align: middle;\n",
       "    }\n",
       "\n",
       "    .dataframe tbody tr th {\n",
       "        vertical-align: top;\n",
       "    }\n",
       "\n",
       "    .dataframe thead th {\n",
       "        text-align: right;\n",
       "    }\n",
       "</style>\n",
       "<table border=\"1\" class=\"dataframe\">\n",
       "  <thead>\n",
       "    <tr style=\"text-align: right;\">\n",
       "      <th></th>\n",
       "      <th>Unnamed: 0</th>\n",
       "      <th>author</th>\n",
       "      <th>comments</th>\n",
       "      <th>created</th>\n",
       "      <th>score</th>\n",
       "      <th>subscribers</th>\n",
       "      <th>text</th>\n",
       "      <th>title</th>\n",
       "      <th>url</th>\n",
       "      <th>subreddit</th>\n",
       "    </tr>\n",
       "  </thead>\n",
       "  <tbody>\n",
       "    <tr>\n",
       "      <th>0</th>\n",
       "      <td>0</td>\n",
       "      <td>jeremec</td>\n",
       "      <td>1</td>\n",
       "      <td>2407</td>\n",
       "      <td>18</td>\n",
       "      <td>11043</td>\n",
       "      <td>Please note that any product from a previous s...</td>\n",
       "      <td>tip for identifi nike product</td>\n",
       "      <td>https://www.reddit.com/r/Nike/comments/47fex4/...</td>\n",
       "      <td>1</td>\n",
       "    </tr>\n",
       "    <tr>\n",
       "      <th>1</th>\n",
       "      <td>1</td>\n",
       "      <td>lavienstyle</td>\n",
       "      <td>2</td>\n",
       "      <td>2554</td>\n",
       "      <td>8</td>\n",
       "      <td>11043</td>\n",
       "      <td>0</td>\n",
       "      <td>what thi called</td>\n",
       "      <td>https://i.redd.it/hjnoz5gqo7521.jpg</td>\n",
       "      <td>1</td>\n",
       "    </tr>\n",
       "    <tr>\n",
       "      <th>2</th>\n",
       "      <td>2</td>\n",
       "      <td>azndkflush</td>\n",
       "      <td>0</td>\n",
       "      <td>2554</td>\n",
       "      <td>1</td>\n",
       "      <td>11043</td>\n",
       "      <td>0</td>\n",
       "      <td>lc OW nike presto d</td>\n",
       "      <td>https://imgur.com/gallery/Aykz7YX</td>\n",
       "      <td>1</td>\n",
       "    </tr>\n",
       "    <tr>\n",
       "      <th>3</th>\n",
       "      <td>3</td>\n",
       "      <td>hiding_in_NJ</td>\n",
       "      <td>2</td>\n",
       "      <td>2554</td>\n",
       "      <td>49</td>\n",
       "      <td>11043</td>\n",
       "      <td>0</td>\n",
       "      <td>3D print jordan 1s by me</td>\n",
       "      <td>https://i.redd.it/j4oaab0za2521.jpg</td>\n",
       "      <td>1</td>\n",
       "    </tr>\n",
       "    <tr>\n",
       "      <th>4</th>\n",
       "      <td>4</td>\n",
       "      <td>nitr0h</td>\n",
       "      <td>0</td>\n",
       "      <td>2554</td>\n",
       "      <td>2</td>\n",
       "      <td>11043</td>\n",
       "      <td>http://www.jimmyjazz.com/boys/clothing/nike-bl...</td>\n",
       "      <td>need help find thi tracksuit in men</td>\n",
       "      <td>https://www.reddit.com/r/Nike/comments/a7k2nd/...</td>\n",
       "      <td>1</td>\n",
       "    </tr>\n",
       "  </tbody>\n",
       "</table>\n",
       "</div>"
      ],
      "text/plain": [
       "   Unnamed: 0        author  comments  created  score  subscribers  \\\n",
       "0           0       jeremec         1     2407     18        11043   \n",
       "1           1   lavienstyle         2     2554      8        11043   \n",
       "2           2    azndkflush         0     2554      1        11043   \n",
       "3           3  hiding_in_NJ         2     2554     49        11043   \n",
       "4           4        nitr0h         0     2554      2        11043   \n",
       "\n",
       "                                                text  \\\n",
       "0  Please note that any product from a previous s...   \n",
       "1                                                  0   \n",
       "2                                                  0   \n",
       "3                                                  0   \n",
       "4  http://www.jimmyjazz.com/boys/clothing/nike-bl...   \n",
       "\n",
       "                                 title  \\\n",
       "0        tip for identifi nike product   \n",
       "1                      what thi called   \n",
       "2                  lc OW nike presto d   \n",
       "3             3D print jordan 1s by me   \n",
       "4  need help find thi tracksuit in men   \n",
       "\n",
       "                                                 url  subreddit  \n",
       "0  https://www.reddit.com/r/Nike/comments/47fex4/...          1  \n",
       "1                https://i.redd.it/hjnoz5gqo7521.jpg          1  \n",
       "2                  https://imgur.com/gallery/Aykz7YX          1  \n",
       "3                https://i.redd.it/j4oaab0za2521.jpg          1  \n",
       "4  https://www.reddit.com/r/Nike/comments/a7k2nd/...          1  "
      ]
     },
     "execution_count": 4,
     "metadata": {},
     "output_type": "execute_result"
    }
   ],
   "source": [
    "# Check dataframe\n",
    "df.head()"
   ]
  },
  {
   "cell_type": "code",
   "execution_count": 5,
   "metadata": {},
   "outputs": [],
   "source": [
    "# Drop Unnamed: 0 column\n",
    "df.drop('Unnamed: 0', axis=1, inplace=True)"
   ]
  },
  {
   "cell_type": "markdown",
   "metadata": {},
   "source": [
    "**Check to summary statistics to see if df is 100% ready to model**"
   ]
  },
  {
   "cell_type": "code",
   "execution_count": 6,
   "metadata": {},
   "outputs": [
    {
     "name": "stdout",
     "output_type": "stream",
     "text": [
      "<class 'pandas.core.frame.DataFrame'>\n",
      "RangeIndex: 1991 entries, 0 to 1990\n",
      "Data columns (total 9 columns):\n",
      "author         1991 non-null object\n",
      "comments       1991 non-null int64\n",
      "created        1991 non-null int64\n",
      "score          1991 non-null int64\n",
      "subscribers    1991 non-null int64\n",
      "text           1991 non-null object\n",
      "title          1984 non-null object\n",
      "url            1991 non-null object\n",
      "subreddit      1991 non-null int64\n",
      "dtypes: int64(5), object(4)\n",
      "memory usage: 140.1+ KB\n"
     ]
    }
   ],
   "source": [
    "# There are 7 null values in the 'title' column\n",
    "df.info()"
   ]
  },
  {
   "cell_type": "code",
   "execution_count": 7,
   "metadata": {},
   "outputs": [
    {
     "data": {
      "text/html": [
       "<div>\n",
       "<style scoped>\n",
       "    .dataframe tbody tr th:only-of-type {\n",
       "        vertical-align: middle;\n",
       "    }\n",
       "\n",
       "    .dataframe tbody tr th {\n",
       "        vertical-align: top;\n",
       "    }\n",
       "\n",
       "    .dataframe thead th {\n",
       "        text-align: right;\n",
       "    }\n",
       "</style>\n",
       "<table border=\"1\" class=\"dataframe\">\n",
       "  <thead>\n",
       "    <tr style=\"text-align: right;\">\n",
       "      <th></th>\n",
       "      <th>author</th>\n",
       "      <th>comments</th>\n",
       "      <th>created</th>\n",
       "      <th>score</th>\n",
       "      <th>subscribers</th>\n",
       "      <th>text</th>\n",
       "      <th>title</th>\n",
       "      <th>url</th>\n",
       "      <th>subreddit</th>\n",
       "    </tr>\n",
       "  </thead>\n",
       "  <tbody>\n",
       "    <tr>\n",
       "      <th>252</th>\n",
       "      <td>Tooup</td>\n",
       "      <td>3</td>\n",
       "      <td>2550</td>\n",
       "      <td>96</td>\n",
       "      <td>11043</td>\n",
       "      <td>0</td>\n",
       "      <td>NaN</td>\n",
       "      <td>https://imgur.com/Qs7QvGK</td>\n",
       "      <td>1</td>\n",
       "    </tr>\n",
       "    <tr>\n",
       "      <th>308</th>\n",
       "      <td>Tooup</td>\n",
       "      <td>1</td>\n",
       "      <td>2549</td>\n",
       "      <td>2</td>\n",
       "      <td>11043</td>\n",
       "      <td>0</td>\n",
       "      <td>NaN</td>\n",
       "      <td>https://imgur.com/yI1zLAv</td>\n",
       "      <td>1</td>\n",
       "    </tr>\n",
       "    <tr>\n",
       "      <th>802</th>\n",
       "      <td>heartlessCigarrette</td>\n",
       "      <td>6</td>\n",
       "      <td>2539</td>\n",
       "      <td>6</td>\n",
       "      <td>11043</td>\n",
       "      <td>0</td>\n",
       "      <td>NaN</td>\n",
       "      <td>https://i.redd.it/9m8i4am4rbk11.jpg</td>\n",
       "      <td>1</td>\n",
       "    </tr>\n",
       "    <tr>\n",
       "      <th>1198</th>\n",
       "      <td>Tooup</td>\n",
       "      <td>5</td>\n",
       "      <td>2551</td>\n",
       "      <td>5</td>\n",
       "      <td>9666</td>\n",
       "      <td>0</td>\n",
       "      <td>NaN</td>\n",
       "      <td>https://i.redd.it/rc7enslytyz11.jpg</td>\n",
       "      <td>0</td>\n",
       "    </tr>\n",
       "    <tr>\n",
       "      <th>1306</th>\n",
       "      <td>bredk87</td>\n",
       "      <td>8</td>\n",
       "      <td>2548</td>\n",
       "      <td>6</td>\n",
       "      <td>9666</td>\n",
       "      <td>0</td>\n",
       "      <td>NaN</td>\n",
       "      <td>https://i.redd.it/wfhtheuud7w11.jpg</td>\n",
       "      <td>0</td>\n",
       "    </tr>\n",
       "    <tr>\n",
       "      <th>1963</th>\n",
       "      <td>Jdmo99</td>\n",
       "      <td>2</td>\n",
       "      <td>2532</td>\n",
       "      <td>2</td>\n",
       "      <td>9666</td>\n",
       "      <td>0</td>\n",
       "      <td>NaN</td>\n",
       "      <td>https://i.redd.it/mbyygmph4sa11.jpg</td>\n",
       "      <td>0</td>\n",
       "    </tr>\n",
       "    <tr>\n",
       "      <th>1969</th>\n",
       "      <td>ghostbuster55</td>\n",
       "      <td>0</td>\n",
       "      <td>2532</td>\n",
       "      <td>1</td>\n",
       "      <td>9666</td>\n",
       "      <td>0</td>\n",
       "      <td>NaN</td>\n",
       "      <td>https://i.redd.it/w7mldlr15sa11.jpg</td>\n",
       "      <td>0</td>\n",
       "    </tr>\n",
       "  </tbody>\n",
       "</table>\n",
       "</div>"
      ],
      "text/plain": [
       "                   author  comments  created  score  subscribers text title  \\\n",
       "252                 Tooup         3     2550     96        11043    0   NaN   \n",
       "308                 Tooup         1     2549      2        11043    0   NaN   \n",
       "802   heartlessCigarrette         6     2539      6        11043    0   NaN   \n",
       "1198                Tooup         5     2551      5         9666    0   NaN   \n",
       "1306              bredk87         8     2548      6         9666    0   NaN   \n",
       "1963               Jdmo99         2     2532      2         9666    0   NaN   \n",
       "1969        ghostbuster55         0     2532      1         9666    0   NaN   \n",
       "\n",
       "                                      url  subreddit  \n",
       "252             https://imgur.com/Qs7QvGK          1  \n",
       "308             https://imgur.com/yI1zLAv          1  \n",
       "802   https://i.redd.it/9m8i4am4rbk11.jpg          1  \n",
       "1198  https://i.redd.it/rc7enslytyz11.jpg          0  \n",
       "1306  https://i.redd.it/wfhtheuud7w11.jpg          0  \n",
       "1963  https://i.redd.it/mbyygmph4sa11.jpg          0  \n",
       "1969  https://i.redd.it/w7mldlr15sa11.jpg          0  "
      ]
     },
     "execution_count": 7,
     "metadata": {},
     "output_type": "execute_result"
    }
   ],
   "source": [
    "# Pull out rows in the dataframe with null values \n",
    "# Since there are no titles or post text for these rows, we will drop them\n",
    "df[df['title'].isna()]"
   ]
  },
  {
   "cell_type": "code",
   "execution_count": 8,
   "metadata": {},
   "outputs": [],
   "source": [
    "# Drop all rows with null values\n",
    "df.dropna(inplace=True)"
   ]
  },
  {
   "cell_type": "code",
   "execution_count": 9,
   "metadata": {},
   "outputs": [
    {
     "data": {
      "text/plain": [
       "author         0\n",
       "comments       0\n",
       "created        0\n",
       "score          0\n",
       "subscribers    0\n",
       "text           0\n",
       "title          0\n",
       "url            0\n",
       "subreddit      0\n",
       "dtype: int64"
      ]
     },
     "execution_count": 9,
     "metadata": {},
     "output_type": "execute_result"
    }
   ],
   "source": [
    "# Clean dataframe, let's model\n",
    "df.isnull().sum()"
   ]
  },
  {
   "cell_type": "markdown",
   "metadata": {},
   "source": [
    "## Set X and y"
   ]
  },
  {
   "cell_type": "code",
   "execution_count": 10,
   "metadata": {},
   "outputs": [],
   "source": [
    "X = df['title']\n",
    "y = df['subreddit']"
   ]
  },
  {
   "cell_type": "markdown",
   "metadata": {},
   "source": [
    "## Baseline Score\n",
    "\n",
    "**The baseline score is the score of the majority class. Since the majority class is Nike, the baseline score is about `.502`**"
   ]
  },
  {
   "cell_type": "code",
   "execution_count": 11,
   "metadata": {},
   "outputs": [
    {
     "data": {
      "text/plain": [
       "1    0.502016\n",
       "0    0.497984\n",
       "Name: subreddit, dtype: float64"
      ]
     },
     "execution_count": 11,
     "metadata": {},
     "output_type": "execute_result"
    }
   ],
   "source": [
    "y.value_counts(normalize=True)"
   ]
  },
  {
   "cell_type": "markdown",
   "metadata": {},
   "source": [
    "## Train Test Split"
   ]
  },
  {
   "cell_type": "code",
   "execution_count": 12,
   "metadata": {},
   "outputs": [],
   "source": [
    "X_train, X_test, y_train, y_test = train_test_split(X, y, random_state=42, stratify=y)"
   ]
  },
  {
   "cell_type": "markdown",
   "metadata": {},
   "source": [
    "## CountVectorize our data"
   ]
  },
  {
   "cell_type": "code",
   "execution_count": 13,
   "metadata": {},
   "outputs": [],
   "source": [
    "cv = CountVectorizer(stop_words='english',      # Instantiate english stop words\n",
    "                    lowercase=True,             # All words to lowercase if not already\n",
    "                    min_df=2,                   # Ignore words that do not occur at least 2 times\n",
    "                    ngram_range=(1,5))          # Set ngram_range"
   ]
  },
  {
   "cell_type": "code",
   "execution_count": 14,
   "metadata": {},
   "outputs": [],
   "source": [
    "cv_train = cv.fit_transform(X_train)            # Fit the CountVectorizer to the training data\n",
    "cv_test = cv.transform(X_test)                  # Fit the CountVectorizer to the testing data"
   ]
  },
  {
   "cell_type": "code",
   "execution_count": 15,
   "metadata": {},
   "outputs": [
    {
     "data": {
      "text/html": [
       "<div>\n",
       "<style scoped>\n",
       "    .dataframe tbody tr th:only-of-type {\n",
       "        vertical-align: middle;\n",
       "    }\n",
       "\n",
       "    .dataframe tbody tr th {\n",
       "        vertical-align: top;\n",
       "    }\n",
       "\n",
       "    .dataframe thead th {\n",
       "        text-align: right;\n",
       "    }\n",
       "</style>\n",
       "<table border=\"1\" class=\"dataframe\">\n",
       "  <thead>\n",
       "    <tr style=\"text-align: right;\">\n",
       "      <th></th>\n",
       "      <th>10</th>\n",
       "      <th>10 year</th>\n",
       "      <th>100</th>\n",
       "      <th>11</th>\n",
       "      <th>11 concord</th>\n",
       "      <th>12</th>\n",
       "      <th>12 bought</th>\n",
       "      <th>120</th>\n",
       "      <th>13</th>\n",
       "      <th>15</th>\n",
       "      <th>...</th>\n",
       "      <th>zebra</th>\n",
       "      <th>zipper</th>\n",
       "      <th>zne</th>\n",
       "      <th>zne hoodi</th>\n",
       "      <th>zoom</th>\n",
       "      <th>zoom kobe</th>\n",
       "      <th>zx</th>\n",
       "      <th>zx 500</th>\n",
       "      <th>zx 500 rm</th>\n",
       "      <th>zx flux</th>\n",
       "    </tr>\n",
       "  </thead>\n",
       "  <tbody>\n",
       "    <tr>\n",
       "      <th>0</th>\n",
       "      <td>0</td>\n",
       "      <td>0</td>\n",
       "      <td>0</td>\n",
       "      <td>0</td>\n",
       "      <td>0</td>\n",
       "      <td>0</td>\n",
       "      <td>0</td>\n",
       "      <td>0</td>\n",
       "      <td>0</td>\n",
       "      <td>0</td>\n",
       "      <td>...</td>\n",
       "      <td>0</td>\n",
       "      <td>0</td>\n",
       "      <td>0</td>\n",
       "      <td>0</td>\n",
       "      <td>0</td>\n",
       "      <td>0</td>\n",
       "      <td>0</td>\n",
       "      <td>0</td>\n",
       "      <td>0</td>\n",
       "      <td>0</td>\n",
       "    </tr>\n",
       "    <tr>\n",
       "      <th>1</th>\n",
       "      <td>0</td>\n",
       "      <td>0</td>\n",
       "      <td>0</td>\n",
       "      <td>0</td>\n",
       "      <td>0</td>\n",
       "      <td>0</td>\n",
       "      <td>0</td>\n",
       "      <td>0</td>\n",
       "      <td>0</td>\n",
       "      <td>0</td>\n",
       "      <td>...</td>\n",
       "      <td>0</td>\n",
       "      <td>0</td>\n",
       "      <td>0</td>\n",
       "      <td>0</td>\n",
       "      <td>0</td>\n",
       "      <td>0</td>\n",
       "      <td>0</td>\n",
       "      <td>0</td>\n",
       "      <td>0</td>\n",
       "      <td>0</td>\n",
       "    </tr>\n",
       "    <tr>\n",
       "      <th>2</th>\n",
       "      <td>0</td>\n",
       "      <td>0</td>\n",
       "      <td>0</td>\n",
       "      <td>0</td>\n",
       "      <td>0</td>\n",
       "      <td>0</td>\n",
       "      <td>0</td>\n",
       "      <td>0</td>\n",
       "      <td>0</td>\n",
       "      <td>0</td>\n",
       "      <td>...</td>\n",
       "      <td>0</td>\n",
       "      <td>0</td>\n",
       "      <td>0</td>\n",
       "      <td>0</td>\n",
       "      <td>0</td>\n",
       "      <td>0</td>\n",
       "      <td>0</td>\n",
       "      <td>0</td>\n",
       "      <td>0</td>\n",
       "      <td>0</td>\n",
       "    </tr>\n",
       "    <tr>\n",
       "      <th>3</th>\n",
       "      <td>0</td>\n",
       "      <td>0</td>\n",
       "      <td>0</td>\n",
       "      <td>0</td>\n",
       "      <td>0</td>\n",
       "      <td>0</td>\n",
       "      <td>0</td>\n",
       "      <td>0</td>\n",
       "      <td>0</td>\n",
       "      <td>0</td>\n",
       "      <td>...</td>\n",
       "      <td>0</td>\n",
       "      <td>0</td>\n",
       "      <td>0</td>\n",
       "      <td>0</td>\n",
       "      <td>0</td>\n",
       "      <td>0</td>\n",
       "      <td>0</td>\n",
       "      <td>0</td>\n",
       "      <td>0</td>\n",
       "      <td>0</td>\n",
       "    </tr>\n",
       "    <tr>\n",
       "      <th>4</th>\n",
       "      <td>0</td>\n",
       "      <td>0</td>\n",
       "      <td>0</td>\n",
       "      <td>0</td>\n",
       "      <td>0</td>\n",
       "      <td>0</td>\n",
       "      <td>0</td>\n",
       "      <td>0</td>\n",
       "      <td>0</td>\n",
       "      <td>0</td>\n",
       "      <td>...</td>\n",
       "      <td>0</td>\n",
       "      <td>0</td>\n",
       "      <td>0</td>\n",
       "      <td>0</td>\n",
       "      <td>0</td>\n",
       "      <td>0</td>\n",
       "      <td>0</td>\n",
       "      <td>0</td>\n",
       "      <td>0</td>\n",
       "      <td>0</td>\n",
       "    </tr>\n",
       "  </tbody>\n",
       "</table>\n",
       "<p>5 rows × 1602 columns</p>\n",
       "</div>"
      ],
      "text/plain": [
       "   10  10 year  100  11  11 concord  12  12 bought  120  13  15   ...     \\\n",
       "0   0        0    0   0           0   0          0    0   0   0   ...      \n",
       "1   0        0    0   0           0   0          0    0   0   0   ...      \n",
       "2   0        0    0   0           0   0          0    0   0   0   ...      \n",
       "3   0        0    0   0           0   0          0    0   0   0   ...      \n",
       "4   0        0    0   0           0   0          0    0   0   0   ...      \n",
       "\n",
       "   zebra  zipper  zne  zne hoodi  zoom  zoom kobe  zx  zx 500  zx 500 rm  \\\n",
       "0      0       0    0          0     0          0   0       0          0   \n",
       "1      0       0    0          0     0          0   0       0          0   \n",
       "2      0       0    0          0     0          0   0       0          0   \n",
       "3      0       0    0          0     0          0   0       0          0   \n",
       "4      0       0    0          0     0          0   0       0          0   \n",
       "\n",
       "   zx flux  \n",
       "0        0  \n",
       "1        0  \n",
       "2        0  \n",
       "3        0  \n",
       "4        0  \n",
       "\n",
       "[5 rows x 1602 columns]"
      ]
     },
     "execution_count": 15,
     "metadata": {},
     "output_type": "execute_result"
    }
   ],
   "source": [
    "# Create cv_train dataframe\n",
    "cv_train_df = pd.DataFrame(cv_train.toarray(), columns = cv.get_feature_names())\n",
    "cv_train_df.head()"
   ]
  },
  {
   "cell_type": "code",
   "execution_count": 16,
   "metadata": {},
   "outputs": [
    {
     "data": {
      "text/html": [
       "<div>\n",
       "<style scoped>\n",
       "    .dataframe tbody tr th:only-of-type {\n",
       "        vertical-align: middle;\n",
       "    }\n",
       "\n",
       "    .dataframe tbody tr th {\n",
       "        vertical-align: top;\n",
       "    }\n",
       "\n",
       "    .dataframe thead th {\n",
       "        text-align: right;\n",
       "    }\n",
       "</style>\n",
       "<table border=\"1\" class=\"dataframe\">\n",
       "  <thead>\n",
       "    <tr style=\"text-align: right;\">\n",
       "      <th></th>\n",
       "      <th>10</th>\n",
       "      <th>10 year</th>\n",
       "      <th>100</th>\n",
       "      <th>11</th>\n",
       "      <th>11 concord</th>\n",
       "      <th>12</th>\n",
       "      <th>12 bought</th>\n",
       "      <th>120</th>\n",
       "      <th>13</th>\n",
       "      <th>15</th>\n",
       "      <th>...</th>\n",
       "      <th>zebra</th>\n",
       "      <th>zipper</th>\n",
       "      <th>zne</th>\n",
       "      <th>zne hoodi</th>\n",
       "      <th>zoom</th>\n",
       "      <th>zoom kobe</th>\n",
       "      <th>zx</th>\n",
       "      <th>zx 500</th>\n",
       "      <th>zx 500 rm</th>\n",
       "      <th>zx flux</th>\n",
       "    </tr>\n",
       "  </thead>\n",
       "  <tbody>\n",
       "    <tr>\n",
       "      <th>0</th>\n",
       "      <td>0</td>\n",
       "      <td>0</td>\n",
       "      <td>0</td>\n",
       "      <td>0</td>\n",
       "      <td>0</td>\n",
       "      <td>0</td>\n",
       "      <td>0</td>\n",
       "      <td>0</td>\n",
       "      <td>0</td>\n",
       "      <td>0</td>\n",
       "      <td>...</td>\n",
       "      <td>0</td>\n",
       "      <td>0</td>\n",
       "      <td>0</td>\n",
       "      <td>0</td>\n",
       "      <td>0</td>\n",
       "      <td>0</td>\n",
       "      <td>0</td>\n",
       "      <td>0</td>\n",
       "      <td>0</td>\n",
       "      <td>0</td>\n",
       "    </tr>\n",
       "    <tr>\n",
       "      <th>1</th>\n",
       "      <td>0</td>\n",
       "      <td>0</td>\n",
       "      <td>0</td>\n",
       "      <td>0</td>\n",
       "      <td>0</td>\n",
       "      <td>0</td>\n",
       "      <td>0</td>\n",
       "      <td>0</td>\n",
       "      <td>0</td>\n",
       "      <td>0</td>\n",
       "      <td>...</td>\n",
       "      <td>0</td>\n",
       "      <td>0</td>\n",
       "      <td>0</td>\n",
       "      <td>0</td>\n",
       "      <td>0</td>\n",
       "      <td>0</td>\n",
       "      <td>0</td>\n",
       "      <td>0</td>\n",
       "      <td>0</td>\n",
       "      <td>0</td>\n",
       "    </tr>\n",
       "    <tr>\n",
       "      <th>2</th>\n",
       "      <td>0</td>\n",
       "      <td>0</td>\n",
       "      <td>0</td>\n",
       "      <td>0</td>\n",
       "      <td>0</td>\n",
       "      <td>0</td>\n",
       "      <td>0</td>\n",
       "      <td>0</td>\n",
       "      <td>0</td>\n",
       "      <td>0</td>\n",
       "      <td>...</td>\n",
       "      <td>0</td>\n",
       "      <td>0</td>\n",
       "      <td>0</td>\n",
       "      <td>0</td>\n",
       "      <td>0</td>\n",
       "      <td>0</td>\n",
       "      <td>0</td>\n",
       "      <td>0</td>\n",
       "      <td>0</td>\n",
       "      <td>0</td>\n",
       "    </tr>\n",
       "    <tr>\n",
       "      <th>3</th>\n",
       "      <td>0</td>\n",
       "      <td>0</td>\n",
       "      <td>0</td>\n",
       "      <td>0</td>\n",
       "      <td>0</td>\n",
       "      <td>0</td>\n",
       "      <td>0</td>\n",
       "      <td>0</td>\n",
       "      <td>0</td>\n",
       "      <td>0</td>\n",
       "      <td>...</td>\n",
       "      <td>0</td>\n",
       "      <td>0</td>\n",
       "      <td>0</td>\n",
       "      <td>0</td>\n",
       "      <td>0</td>\n",
       "      <td>0</td>\n",
       "      <td>0</td>\n",
       "      <td>0</td>\n",
       "      <td>0</td>\n",
       "      <td>0</td>\n",
       "    </tr>\n",
       "    <tr>\n",
       "      <th>4</th>\n",
       "      <td>0</td>\n",
       "      <td>0</td>\n",
       "      <td>0</td>\n",
       "      <td>0</td>\n",
       "      <td>0</td>\n",
       "      <td>0</td>\n",
       "      <td>0</td>\n",
       "      <td>0</td>\n",
       "      <td>0</td>\n",
       "      <td>0</td>\n",
       "      <td>...</td>\n",
       "      <td>0</td>\n",
       "      <td>0</td>\n",
       "      <td>0</td>\n",
       "      <td>0</td>\n",
       "      <td>0</td>\n",
       "      <td>0</td>\n",
       "      <td>0</td>\n",
       "      <td>0</td>\n",
       "      <td>0</td>\n",
       "      <td>0</td>\n",
       "    </tr>\n",
       "  </tbody>\n",
       "</table>\n",
       "<p>5 rows × 1602 columns</p>\n",
       "</div>"
      ],
      "text/plain": [
       "   10  10 year  100  11  11 concord  12  12 bought  120  13  15   ...     \\\n",
       "0   0        0    0   0           0   0          0    0   0   0   ...      \n",
       "1   0        0    0   0           0   0          0    0   0   0   ...      \n",
       "2   0        0    0   0           0   0          0    0   0   0   ...      \n",
       "3   0        0    0   0           0   0          0    0   0   0   ...      \n",
       "4   0        0    0   0           0   0          0    0   0   0   ...      \n",
       "\n",
       "   zebra  zipper  zne  zne hoodi  zoom  zoom kobe  zx  zx 500  zx 500 rm  \\\n",
       "0      0       0    0          0     0          0   0       0          0   \n",
       "1      0       0    0          0     0          0   0       0          0   \n",
       "2      0       0    0          0     0          0   0       0          0   \n",
       "3      0       0    0          0     0          0   0       0          0   \n",
       "4      0       0    0          0     0          0   0       0          0   \n",
       "\n",
       "   zx flux  \n",
       "0        0  \n",
       "1        0  \n",
       "2        0  \n",
       "3        0  \n",
       "4        0  \n",
       "\n",
       "[5 rows x 1602 columns]"
      ]
     },
     "execution_count": 16,
     "metadata": {},
     "output_type": "execute_result"
    }
   ],
   "source": [
    "# Create cv_test dataframe\n",
    "cv_test_df = pd.DataFrame(cv_test.toarray(), columns = cv.get_feature_names())\n",
    "cv_test_df.head()"
   ]
  },
  {
   "cell_type": "code",
   "execution_count": 17,
   "metadata": {},
   "outputs": [
    {
     "name": "stdout",
     "output_type": "stream",
     "text": [
      "(1488, 1602)\n",
      "(496, 1602)\n"
     ]
    }
   ],
   "source": [
    "print(cv_train.shape)\n",
    "print(cv_test.shape)"
   ]
  },
  {
   "cell_type": "markdown",
   "metadata": {},
   "source": [
    "### Let's try different models and then optimize the one that works best"
   ]
  },
  {
   "cell_type": "markdown",
   "metadata": {},
   "source": [
    "### Logistic Regression Model"
   ]
  },
  {
   "cell_type": "code",
   "execution_count": 18,
   "metadata": {},
   "outputs": [
    {
     "name": "stdout",
     "output_type": "stream",
     "text": [
      "0.9704301075268817\n",
      "\n",
      "0.7681451612903226\n"
     ]
    }
   ],
   "source": [
    "lr = LogisticRegression(penalty='l1', tol=.0001, C=50, random_state=42)\n",
    "\n",
    "lr.fit(cv_train, y_train)\n",
    "\n",
    "print(lr.score(cv_train, y_train))\n",
    "print('')\n",
    "print(lr.score(cv_test, y_test))"
   ]
  },
  {
   "cell_type": "code",
   "execution_count": 19,
   "metadata": {},
   "outputs": [
    {
     "name": "stdout",
     "output_type": "stream",
     "text": [
      "0.9717741935483871\n",
      "\n",
      "0.7620967741935484\n"
     ]
    }
   ],
   "source": [
    "lr = LogisticRegression(penalty='l2', tol=.0001, C=50, random_state=42)\n",
    "\n",
    "lr.fit(cv_train, y_train)\n",
    "\n",
    "print(lr.score(cv_train, y_train))\n",
    "print('')\n",
    "print(lr.score(cv_test, y_test))"
   ]
  },
  {
   "cell_type": "markdown",
   "metadata": {},
   "source": [
    "|Logistic Regression Model|Performance (Lasso)|\n",
    "|---|---|\n",
    "|Training score|0.97|\n",
    "|Testing score|0.768|"
   ]
  },
  {
   "cell_type": "markdown",
   "metadata": {},
   "source": [
    "|Logistic Regression Model|Performance (Ridge)|\n",
    "|---|---|\n",
    "|Training score|0.972|\n",
    "|Testing score|0.762|"
   ]
  },
  {
   "cell_type": "markdown",
   "metadata": {},
   "source": [
    "The Logistic Regression model has a higher training score than the testing score under both Lasso and Ridge penalties meaning that the model is very overfit. In both cases, the model performs well on the training data, but there is a significan dropoff in performance in the testing data."
   ]
  },
  {
   "cell_type": "code",
   "execution_count": 20,
   "metadata": {},
   "outputs": [],
   "source": [
    "# Created a dataframe of all coefficients and sorted by descending values\n",
    "# The top features and coefficients that will determine whether a post is a nike post\n",
    "coef_df = pd.DataFrame(lr.coef_, columns=cv_train_df.columns).T.sort_values(by=0, ascending=False)"
   ]
  },
  {
   "cell_type": "code",
   "execution_count": 21,
   "metadata": {},
   "outputs": [
    {
     "data": {
      "text/html": [
       "<div>\n",
       "<style scoped>\n",
       "    .dataframe tbody tr th:only-of-type {\n",
       "        vertical-align: middle;\n",
       "    }\n",
       "\n",
       "    .dataframe tbody tr th {\n",
       "        vertical-align: top;\n",
       "    }\n",
       "\n",
       "    .dataframe thead th {\n",
       "        text-align: right;\n",
       "    }\n",
       "</style>\n",
       "<table border=\"1\" class=\"dataframe\">\n",
       "  <thead>\n",
       "    <tr style=\"text-align: right;\">\n",
       "      <th></th>\n",
       "      <th>0</th>\n",
       "    </tr>\n",
       "  </thead>\n",
       "  <tbody>\n",
       "    <tr>\n",
       "      <th>nike</th>\n",
       "      <td>9.632286</td>\n",
       "    </tr>\n",
       "    <tr>\n",
       "      <th>thi tee</th>\n",
       "      <td>7.947265</td>\n",
       "    </tr>\n",
       "    <tr>\n",
       "      <th>swoosh</th>\n",
       "      <td>6.320781</td>\n",
       "    </tr>\n",
       "    <tr>\n",
       "      <th>shorts</th>\n",
       "      <td>5.749983</td>\n",
       "    </tr>\n",
       "    <tr>\n",
       "      <th>nikes</th>\n",
       "      <td>5.190590</td>\n",
       "    </tr>\n",
       "    <tr>\n",
       "      <th>vapormax</th>\n",
       "      <td>4.996777</td>\n",
       "    </tr>\n",
       "    <tr>\n",
       "      <th>need help thi</th>\n",
       "      <td>4.868915</td>\n",
       "    </tr>\n",
       "    <tr>\n",
       "      <th>jordan</th>\n",
       "      <td>4.850543</td>\n",
       "    </tr>\n",
       "    <tr>\n",
       "      <th>af1</th>\n",
       "      <td>4.805395</td>\n",
       "    </tr>\n",
       "    <tr>\n",
       "      <th>lebron</th>\n",
       "      <td>4.671448</td>\n",
       "    </tr>\n",
       "    <tr>\n",
       "      <th>happen</th>\n",
       "      <td>4.592223</td>\n",
       "    </tr>\n",
       "    <tr>\n",
       "      <th>thi adida</th>\n",
       "      <td>4.573557</td>\n",
       "    </tr>\n",
       "    <tr>\n",
       "      <th>help shoes</th>\n",
       "      <td>4.494744</td>\n",
       "    </tr>\n",
       "    <tr>\n",
       "      <th>thi jacket</th>\n",
       "      <td>4.351283</td>\n",
       "    </tr>\n",
       "    <tr>\n",
       "      <th>rainbow</th>\n",
       "      <td>4.323827</td>\n",
       "    </tr>\n",
       "  </tbody>\n",
       "</table>\n",
       "</div>"
      ],
      "text/plain": [
       "                      0\n",
       "nike           9.632286\n",
       "thi tee        7.947265\n",
       "swoosh         6.320781\n",
       "shorts         5.749983\n",
       "nikes          5.190590\n",
       "vapormax       4.996777\n",
       "need help thi  4.868915\n",
       "jordan         4.850543\n",
       "af1            4.805395\n",
       "lebron         4.671448\n",
       "happen         4.592223\n",
       "thi adida      4.573557\n",
       "help shoes     4.494744\n",
       "thi jacket     4.351283\n",
       "rainbow        4.323827"
      ]
     },
     "execution_count": 21,
     "metadata": {},
     "output_type": "execute_result"
    }
   ],
   "source": [
    "# Top 10 features that determine a Nike post\n",
    "coef_df.head(15)"
   ]
  },
  {
   "cell_type": "code",
   "execution_count": 22,
   "metadata": {},
   "outputs": [
    {
     "data": {
      "text/html": [
       "<div>\n",
       "<style scoped>\n",
       "    .dataframe tbody tr th:only-of-type {\n",
       "        vertical-align: middle;\n",
       "    }\n",
       "\n",
       "    .dataframe tbody tr th {\n",
       "        vertical-align: top;\n",
       "    }\n",
       "\n",
       "    .dataframe thead th {\n",
       "        text-align: right;\n",
       "    }\n",
       "</style>\n",
       "<table border=\"1\" class=\"dataframe\">\n",
       "  <thead>\n",
       "    <tr style=\"text-align: right;\">\n",
       "      <th></th>\n",
       "      <th>0</th>\n",
       "    </tr>\n",
       "  </thead>\n",
       "  <tbody>\n",
       "    <tr>\n",
       "      <th>love</th>\n",
       "      <td>-4.292383</td>\n",
       "    </tr>\n",
       "    <tr>\n",
       "      <th>pants</th>\n",
       "      <td>-4.336523</td>\n",
       "    </tr>\n",
       "    <tr>\n",
       "      <th>id thi jacket</th>\n",
       "      <td>-4.348685</td>\n",
       "    </tr>\n",
       "    <tr>\n",
       "      <th>twice</th>\n",
       "      <td>-4.351185</td>\n",
       "    </tr>\n",
       "    <tr>\n",
       "      <th>authentic</th>\n",
       "      <td>-4.394604</td>\n",
       "    </tr>\n",
       "    <tr>\n",
       "      <th>adidas</th>\n",
       "      <td>-4.654403</td>\n",
       "    </tr>\n",
       "    <tr>\n",
       "      <th>return</th>\n",
       "      <td>-4.902218</td>\n",
       "    </tr>\n",
       "    <tr>\n",
       "      <th>boost</th>\n",
       "      <td>-4.969790</td>\n",
       "    </tr>\n",
       "    <tr>\n",
       "      <th>primeknit</th>\n",
       "      <td>-5.074217</td>\n",
       "    </tr>\n",
       "    <tr>\n",
       "      <th>nmd</th>\n",
       "      <td>-5.320318</td>\n",
       "    </tr>\n",
       "    <tr>\n",
       "      <th>plz</th>\n",
       "      <td>-5.430622</td>\n",
       "    </tr>\n",
       "    <tr>\n",
       "      <th>tell thi</th>\n",
       "      <td>-5.574280</td>\n",
       "    </tr>\n",
       "    <tr>\n",
       "      <th>ultraboost</th>\n",
       "      <td>-6.219321</td>\n",
       "    </tr>\n",
       "    <tr>\n",
       "      <th>exact</th>\n",
       "      <td>-6.357328</td>\n",
       "    </tr>\n",
       "    <tr>\n",
       "      <th>adida</th>\n",
       "      <td>-8.896092</td>\n",
       "    </tr>\n",
       "  </tbody>\n",
       "</table>\n",
       "</div>"
      ],
      "text/plain": [
       "                      0\n",
       "love          -4.292383\n",
       "pants         -4.336523\n",
       "id thi jacket -4.348685\n",
       "twice         -4.351185\n",
       "authentic     -4.394604\n",
       "adidas        -4.654403\n",
       "return        -4.902218\n",
       "boost         -4.969790\n",
       "primeknit     -5.074217\n",
       "nmd           -5.320318\n",
       "plz           -5.430622\n",
       "tell thi      -5.574280\n",
       "ultraboost    -6.219321\n",
       "exact         -6.357328\n",
       "adida         -8.896092"
      ]
     },
     "execution_count": 22,
     "metadata": {},
     "output_type": "execute_result"
    }
   ],
   "source": [
    "# Top 20 features that determine an Adidas post\n",
    "coef_df.tail(15)"
   ]
  },
  {
   "cell_type": "markdown",
   "metadata": {},
   "source": [
    "### Multinomial Naive Bayes Model"
   ]
  },
  {
   "cell_type": "code",
   "execution_count": 23,
   "metadata": {},
   "outputs": [
    {
     "name": "stdout",
     "output_type": "stream",
     "text": [
      "0.8958333333333334\n",
      "\n",
      "0.7661290322580645\n"
     ]
    }
   ],
   "source": [
    "mnb = MultinomialNB()\n",
    "\n",
    "mnb.fit(cv_train, y_train)\n",
    "\n",
    "print(mnb.score(cv_train, y_train))\n",
    "print('')\n",
    "print(mnb.score(cv_test, y_test))"
   ]
  },
  {
   "cell_type": "markdown",
   "metadata": {},
   "source": [
    "|Multinomial Naive Bayes Model|Performance|\n",
    "|---|---|\n",
    "|Training score|0.896|\n",
    "|Testing score|0.766|"
   ]
  },
  {
   "cell_type": "markdown",
   "metadata": {},
   "source": [
    "Similar to the Logistic Regression models, the Multinomial Naive Bayes Models are also overfit. Also, this model performs worse on the training data than the Logistic Regression models and similarly on the testing data. "
   ]
  },
  {
   "cell_type": "markdown",
   "metadata": {},
   "source": [
    "### Decision Tree Model"
   ]
  },
  {
   "cell_type": "code",
   "execution_count": 24,
   "metadata": {},
   "outputs": [
    {
     "name": "stdout",
     "output_type": "stream",
     "text": [
      "0.9744623655913979\n",
      "\n",
      "0.6915322580645161\n"
     ]
    }
   ],
   "source": [
    "dt = DecisionTreeClassifier(criterion='gini', random_state=42, max_depth=1000)\n",
    "\n",
    "dt.fit(cv_train, y_train)\n",
    "\n",
    "print(dt.score(cv_train, y_train))\n",
    "print('')\n",
    "print(dt.score(cv_test, y_test))"
   ]
  },
  {
   "cell_type": "markdown",
   "metadata": {},
   "source": [
    "|Decision Tree Model|Performance|\n",
    "|---|---|\n",
    "|Training score|0.974|\n",
    "|Testing score|0.692|"
   ]
  },
  {
   "cell_type": "markdown",
   "metadata": {},
   "source": [
    "The Decision Tree Model performs better than the Multinomial Naive Bayes model on the training set. The testing score however, is lower than the previous models and also suffers from overfitting."
   ]
  },
  {
   "cell_type": "markdown",
   "metadata": {},
   "source": [
    "### Bagged Tree Model"
   ]
  },
  {
   "cell_type": "code",
   "execution_count": 25,
   "metadata": {},
   "outputs": [
    {
     "name": "stdout",
     "output_type": "stream",
     "text": [
      "0.9744623655913979\n",
      "\n",
      "0.7399193548387096\n"
     ]
    }
   ],
   "source": [
    "bag = BaggingClassifier(base_estimator=DecisionTreeClassifier(criterion='gini', random_state=42, max_depth=1000), \n",
    "                        n_estimators=100)\n",
    "\n",
    "bag.fit(cv_train, y_train)\n",
    "\n",
    "print(bag.score(cv_train, y_train))\n",
    "print('')\n",
    "print(bag.score(cv_test, y_test))"
   ]
  },
  {
   "cell_type": "markdown",
   "metadata": {},
   "source": [
    "|Bagged Tree Model|Performance|\n",
    "|---|---|\n",
    "|Training score|0.974|\n",
    "|Testing score|0.744|"
   ]
  },
  {
   "cell_type": "markdown",
   "metadata": {},
   "source": [
    "The Bagged Tree Model is also overfit. "
   ]
  },
  {
   "cell_type": "markdown",
   "metadata": {},
   "source": [
    "### Extra Trees Model"
   ]
  },
  {
   "cell_type": "code",
   "execution_count": 26,
   "metadata": {},
   "outputs": [
    {
     "name": "stdout",
     "output_type": "stream",
     "text": [
      "0.9744623655913979\n",
      "\n",
      "0.7600806451612904\n"
     ]
    }
   ],
   "source": [
    "et = ExtraTreesClassifier(max_depth=1000,\n",
    "                          random_state=42, criterion='gini', n_estimators=200)\n",
    "\n",
    "et.fit(cv_train, y_train)\n",
    "\n",
    "print(et.score(cv_train, y_train))\n",
    "print('')\n",
    "print(et.score(cv_test, y_test))"
   ]
  },
  {
   "cell_type": "markdown",
   "metadata": {},
   "source": [
    "|Extra Tree Model|Performance|\n",
    "|---|---|\n",
    "|Training score|0.974|\n",
    "|Testing score|0.76|"
   ]
  },
  {
   "cell_type": "markdown",
   "metadata": {},
   "source": [
    "The Extra Trees Model is also overfit."
   ]
  },
  {
   "cell_type": "markdown",
   "metadata": {},
   "source": [
    "### Let's see how these models compare to a Random Forest Model"
   ]
  },
  {
   "cell_type": "markdown",
   "metadata": {},
   "source": [
    "### Random Forest Model"
   ]
  },
  {
   "cell_type": "code",
   "execution_count": 27,
   "metadata": {},
   "outputs": [
    {
     "name": "stdout",
     "output_type": "stream",
     "text": [
      "0.9744623655913979\n",
      "\n",
      "0.7540322580645161\n"
     ]
    }
   ],
   "source": [
    "rf = RandomForestClassifier(n_estimators=200, criterion='gini', max_depth=1000, random_state=42)\n",
    "\n",
    "rf.fit(cv_train, y_train)\n",
    "\n",
    "print(rf.score(cv_train, y_train))\n",
    "print('')\n",
    "print(rf.score(cv_test, y_test))"
   ]
  },
  {
   "cell_type": "markdown",
   "metadata": {},
   "source": [
    "|Random Forest Model|Performance|\n",
    "|---|---|\n",
    "|Training score|0.974|\n",
    "|Testing score|0.754|"
   ]
  },
  {
   "cell_type": "markdown",
   "metadata": {},
   "source": [
    "The Random Forest Model is also overfit and performs very similarly to the Extra Trees Model on both training and testing sets."
   ]
  },
  {
   "cell_type": "markdown",
   "metadata": {},
   "source": [
    "### The best model under CountVectorizer is: Logistic Regression Model (Lasso)\n",
    "**(Based on test scores)**\n",
    "### Let's optimize using GridSearch"
   ]
  },
  {
   "cell_type": "code",
   "execution_count": 28,
   "metadata": {},
   "outputs": [
    {
     "name": "stdout",
     "output_type": "stream",
     "text": [
      "0.7869623655913979\n",
      "{'C': 1.0, 'penalty': 'l2', 'tol': 0.0001}\n",
      "\n",
      "0.9348118279569892\n",
      "\n",
      "0.7439516129032258\n"
     ]
    }
   ],
   "source": [
    "lr = LogisticRegression(random_state=42)\n",
    "lr_params = {'penalty': ['l1', 'l2'],\n",
    "         'tol': [.0001, .001, .00001],\n",
    "         'C': [1.0, 10.0, 50.0]}\n",
    "\n",
    "gs = GridSearchCV(lr, param_grid=lr_params, cv=5)\n",
    "\n",
    "gs.fit(cv_train, y_train)\n",
    "print(gs.best_score_)\n",
    "print(gs.best_params_)\n",
    "print('')\n",
    "\n",
    "print(gs.score(cv_train, y_train))\n",
    "print('')\n",
    "print(gs.score(cv_test, y_test))"
   ]
  },
  {
   "cell_type": "markdown",
   "metadata": {},
   "source": [
    "After running our GridSearch model we see that our best score is a cross validation score of about .79. However, when we score our Gridsearch model to the training and testing sets, the model doesn't perform better compared to the original model that we ran. We expect the Gridsearch model to optimize the model based on the parameters we feed into it, but in this case, our model did not generate a better score.\n",
    "\n",
    "We know that the data we gathered is not a representation of the entire subreddit of posts so we can say that the cross validated score is a good generalizer on data that it has not seen. When running a cross validation score, our training set is being split into another training set and a smaller testing set on which our model will score its performance on. "
   ]
  },
  {
   "cell_type": "markdown",
   "metadata": {},
   "source": [
    "## TfidfVectorize our data"
   ]
  },
  {
   "cell_type": "code",
   "execution_count": 29,
   "metadata": {},
   "outputs": [],
   "source": [
    "tf = TfidfVectorizer(stop_words='english',      # Instantiate english stop words\n",
    "                    lowercase=True,             # All words to lowercase if not already\n",
    "                    min_df=2,                   # Ignore words that do not occur at least 5 times\n",
    "                    ngram_range=(1,5))          # Set ngram_range"
   ]
  },
  {
   "cell_type": "code",
   "execution_count": 30,
   "metadata": {},
   "outputs": [],
   "source": [
    "tf_train = tf.fit_transform(X_train)            # Fit the TfidfVectorizer to the training data\n",
    "tf_test = tf.transform(X_test)                  # Fit the TfidfVectorizer to the testing data"
   ]
  },
  {
   "cell_type": "code",
   "execution_count": 31,
   "metadata": {},
   "outputs": [
    {
     "data": {
      "text/html": [
       "<div>\n",
       "<style scoped>\n",
       "    .dataframe tbody tr th:only-of-type {\n",
       "        vertical-align: middle;\n",
       "    }\n",
       "\n",
       "    .dataframe tbody tr th {\n",
       "        vertical-align: top;\n",
       "    }\n",
       "\n",
       "    .dataframe thead th {\n",
       "        text-align: right;\n",
       "    }\n",
       "</style>\n",
       "<table border=\"1\" class=\"dataframe\">\n",
       "  <thead>\n",
       "    <tr style=\"text-align: right;\">\n",
       "      <th></th>\n",
       "      <th>10</th>\n",
       "      <th>10 year</th>\n",
       "      <th>100</th>\n",
       "      <th>11</th>\n",
       "      <th>11 concord</th>\n",
       "      <th>12</th>\n",
       "      <th>12 bought</th>\n",
       "      <th>120</th>\n",
       "      <th>13</th>\n",
       "      <th>15</th>\n",
       "      <th>...</th>\n",
       "      <th>zebra</th>\n",
       "      <th>zipper</th>\n",
       "      <th>zne</th>\n",
       "      <th>zne hoodi</th>\n",
       "      <th>zoom</th>\n",
       "      <th>zoom kobe</th>\n",
       "      <th>zx</th>\n",
       "      <th>zx 500</th>\n",
       "      <th>zx 500 rm</th>\n",
       "      <th>zx flux</th>\n",
       "    </tr>\n",
       "  </thead>\n",
       "  <tbody>\n",
       "    <tr>\n",
       "      <th>0</th>\n",
       "      <td>0.0</td>\n",
       "      <td>0.0</td>\n",
       "      <td>0.0</td>\n",
       "      <td>0.0</td>\n",
       "      <td>0.0</td>\n",
       "      <td>0.0</td>\n",
       "      <td>0.0</td>\n",
       "      <td>0.0</td>\n",
       "      <td>0.0</td>\n",
       "      <td>0.0</td>\n",
       "      <td>...</td>\n",
       "      <td>0.0</td>\n",
       "      <td>0.0</td>\n",
       "      <td>0.0</td>\n",
       "      <td>0.0</td>\n",
       "      <td>0.0</td>\n",
       "      <td>0.0</td>\n",
       "      <td>0.0</td>\n",
       "      <td>0.0</td>\n",
       "      <td>0.0</td>\n",
       "      <td>0.0</td>\n",
       "    </tr>\n",
       "    <tr>\n",
       "      <th>1</th>\n",
       "      <td>0.0</td>\n",
       "      <td>0.0</td>\n",
       "      <td>0.0</td>\n",
       "      <td>0.0</td>\n",
       "      <td>0.0</td>\n",
       "      <td>0.0</td>\n",
       "      <td>0.0</td>\n",
       "      <td>0.0</td>\n",
       "      <td>0.0</td>\n",
       "      <td>0.0</td>\n",
       "      <td>...</td>\n",
       "      <td>0.0</td>\n",
       "      <td>0.0</td>\n",
       "      <td>0.0</td>\n",
       "      <td>0.0</td>\n",
       "      <td>0.0</td>\n",
       "      <td>0.0</td>\n",
       "      <td>0.0</td>\n",
       "      <td>0.0</td>\n",
       "      <td>0.0</td>\n",
       "      <td>0.0</td>\n",
       "    </tr>\n",
       "    <tr>\n",
       "      <th>2</th>\n",
       "      <td>0.0</td>\n",
       "      <td>0.0</td>\n",
       "      <td>0.0</td>\n",
       "      <td>0.0</td>\n",
       "      <td>0.0</td>\n",
       "      <td>0.0</td>\n",
       "      <td>0.0</td>\n",
       "      <td>0.0</td>\n",
       "      <td>0.0</td>\n",
       "      <td>0.0</td>\n",
       "      <td>...</td>\n",
       "      <td>0.0</td>\n",
       "      <td>0.0</td>\n",
       "      <td>0.0</td>\n",
       "      <td>0.0</td>\n",
       "      <td>0.0</td>\n",
       "      <td>0.0</td>\n",
       "      <td>0.0</td>\n",
       "      <td>0.0</td>\n",
       "      <td>0.0</td>\n",
       "      <td>0.0</td>\n",
       "    </tr>\n",
       "    <tr>\n",
       "      <th>3</th>\n",
       "      <td>0.0</td>\n",
       "      <td>0.0</td>\n",
       "      <td>0.0</td>\n",
       "      <td>0.0</td>\n",
       "      <td>0.0</td>\n",
       "      <td>0.0</td>\n",
       "      <td>0.0</td>\n",
       "      <td>0.0</td>\n",
       "      <td>0.0</td>\n",
       "      <td>0.0</td>\n",
       "      <td>...</td>\n",
       "      <td>0.0</td>\n",
       "      <td>0.0</td>\n",
       "      <td>0.0</td>\n",
       "      <td>0.0</td>\n",
       "      <td>0.0</td>\n",
       "      <td>0.0</td>\n",
       "      <td>0.0</td>\n",
       "      <td>0.0</td>\n",
       "      <td>0.0</td>\n",
       "      <td>0.0</td>\n",
       "    </tr>\n",
       "    <tr>\n",
       "      <th>4</th>\n",
       "      <td>0.0</td>\n",
       "      <td>0.0</td>\n",
       "      <td>0.0</td>\n",
       "      <td>0.0</td>\n",
       "      <td>0.0</td>\n",
       "      <td>0.0</td>\n",
       "      <td>0.0</td>\n",
       "      <td>0.0</td>\n",
       "      <td>0.0</td>\n",
       "      <td>0.0</td>\n",
       "      <td>...</td>\n",
       "      <td>0.0</td>\n",
       "      <td>0.0</td>\n",
       "      <td>0.0</td>\n",
       "      <td>0.0</td>\n",
       "      <td>0.0</td>\n",
       "      <td>0.0</td>\n",
       "      <td>0.0</td>\n",
       "      <td>0.0</td>\n",
       "      <td>0.0</td>\n",
       "      <td>0.0</td>\n",
       "    </tr>\n",
       "  </tbody>\n",
       "</table>\n",
       "<p>5 rows × 1602 columns</p>\n",
       "</div>"
      ],
      "text/plain": [
       "    10  10 year  100   11  11 concord   12  12 bought  120   13   15   ...     \\\n",
       "0  0.0      0.0  0.0  0.0         0.0  0.0        0.0  0.0  0.0  0.0   ...      \n",
       "1  0.0      0.0  0.0  0.0         0.0  0.0        0.0  0.0  0.0  0.0   ...      \n",
       "2  0.0      0.0  0.0  0.0         0.0  0.0        0.0  0.0  0.0  0.0   ...      \n",
       "3  0.0      0.0  0.0  0.0         0.0  0.0        0.0  0.0  0.0  0.0   ...      \n",
       "4  0.0      0.0  0.0  0.0         0.0  0.0        0.0  0.0  0.0  0.0   ...      \n",
       "\n",
       "   zebra  zipper  zne  zne hoodi  zoom  zoom kobe   zx  zx 500  zx 500 rm  \\\n",
       "0    0.0     0.0  0.0        0.0   0.0        0.0  0.0     0.0        0.0   \n",
       "1    0.0     0.0  0.0        0.0   0.0        0.0  0.0     0.0        0.0   \n",
       "2    0.0     0.0  0.0        0.0   0.0        0.0  0.0     0.0        0.0   \n",
       "3    0.0     0.0  0.0        0.0   0.0        0.0  0.0     0.0        0.0   \n",
       "4    0.0     0.0  0.0        0.0   0.0        0.0  0.0     0.0        0.0   \n",
       "\n",
       "   zx flux  \n",
       "0      0.0  \n",
       "1      0.0  \n",
       "2      0.0  \n",
       "3      0.0  \n",
       "4      0.0  \n",
       "\n",
       "[5 rows x 1602 columns]"
      ]
     },
     "execution_count": 31,
     "metadata": {},
     "output_type": "execute_result"
    }
   ],
   "source": [
    "# Create tf_train dataframe\n",
    "tf_train_df = pd.DataFrame(tf_train.toarray(), columns = tf.get_feature_names())\n",
    "tf_train_df.head()"
   ]
  },
  {
   "cell_type": "code",
   "execution_count": 32,
   "metadata": {},
   "outputs": [
    {
     "data": {
      "text/html": [
       "<div>\n",
       "<style scoped>\n",
       "    .dataframe tbody tr th:only-of-type {\n",
       "        vertical-align: middle;\n",
       "    }\n",
       "\n",
       "    .dataframe tbody tr th {\n",
       "        vertical-align: top;\n",
       "    }\n",
       "\n",
       "    .dataframe thead th {\n",
       "        text-align: right;\n",
       "    }\n",
       "</style>\n",
       "<table border=\"1\" class=\"dataframe\">\n",
       "  <thead>\n",
       "    <tr style=\"text-align: right;\">\n",
       "      <th></th>\n",
       "      <th>10</th>\n",
       "      <th>10 year</th>\n",
       "      <th>100</th>\n",
       "      <th>11</th>\n",
       "      <th>11 concord</th>\n",
       "      <th>12</th>\n",
       "      <th>12 bought</th>\n",
       "      <th>120</th>\n",
       "      <th>13</th>\n",
       "      <th>15</th>\n",
       "      <th>...</th>\n",
       "      <th>zebra</th>\n",
       "      <th>zipper</th>\n",
       "      <th>zne</th>\n",
       "      <th>zne hoodi</th>\n",
       "      <th>zoom</th>\n",
       "      <th>zoom kobe</th>\n",
       "      <th>zx</th>\n",
       "      <th>zx 500</th>\n",
       "      <th>zx 500 rm</th>\n",
       "      <th>zx flux</th>\n",
       "    </tr>\n",
       "  </thead>\n",
       "  <tbody>\n",
       "    <tr>\n",
       "      <th>0</th>\n",
       "      <td>0.0</td>\n",
       "      <td>0.0</td>\n",
       "      <td>0.0</td>\n",
       "      <td>0.0</td>\n",
       "      <td>0.0</td>\n",
       "      <td>0.0</td>\n",
       "      <td>0.0</td>\n",
       "      <td>0.0</td>\n",
       "      <td>0.0</td>\n",
       "      <td>0.0</td>\n",
       "      <td>...</td>\n",
       "      <td>0.0</td>\n",
       "      <td>0.0</td>\n",
       "      <td>0.0</td>\n",
       "      <td>0.0</td>\n",
       "      <td>0.0</td>\n",
       "      <td>0.0</td>\n",
       "      <td>0.0</td>\n",
       "      <td>0.0</td>\n",
       "      <td>0.0</td>\n",
       "      <td>0.0</td>\n",
       "    </tr>\n",
       "    <tr>\n",
       "      <th>1</th>\n",
       "      <td>0.0</td>\n",
       "      <td>0.0</td>\n",
       "      <td>0.0</td>\n",
       "      <td>0.0</td>\n",
       "      <td>0.0</td>\n",
       "      <td>0.0</td>\n",
       "      <td>0.0</td>\n",
       "      <td>0.0</td>\n",
       "      <td>0.0</td>\n",
       "      <td>0.0</td>\n",
       "      <td>...</td>\n",
       "      <td>0.0</td>\n",
       "      <td>0.0</td>\n",
       "      <td>0.0</td>\n",
       "      <td>0.0</td>\n",
       "      <td>0.0</td>\n",
       "      <td>0.0</td>\n",
       "      <td>0.0</td>\n",
       "      <td>0.0</td>\n",
       "      <td>0.0</td>\n",
       "      <td>0.0</td>\n",
       "    </tr>\n",
       "    <tr>\n",
       "      <th>2</th>\n",
       "      <td>0.0</td>\n",
       "      <td>0.0</td>\n",
       "      <td>0.0</td>\n",
       "      <td>0.0</td>\n",
       "      <td>0.0</td>\n",
       "      <td>0.0</td>\n",
       "      <td>0.0</td>\n",
       "      <td>0.0</td>\n",
       "      <td>0.0</td>\n",
       "      <td>0.0</td>\n",
       "      <td>...</td>\n",
       "      <td>0.0</td>\n",
       "      <td>0.0</td>\n",
       "      <td>0.0</td>\n",
       "      <td>0.0</td>\n",
       "      <td>0.0</td>\n",
       "      <td>0.0</td>\n",
       "      <td>0.0</td>\n",
       "      <td>0.0</td>\n",
       "      <td>0.0</td>\n",
       "      <td>0.0</td>\n",
       "    </tr>\n",
       "    <tr>\n",
       "      <th>3</th>\n",
       "      <td>0.0</td>\n",
       "      <td>0.0</td>\n",
       "      <td>0.0</td>\n",
       "      <td>0.0</td>\n",
       "      <td>0.0</td>\n",
       "      <td>0.0</td>\n",
       "      <td>0.0</td>\n",
       "      <td>0.0</td>\n",
       "      <td>0.0</td>\n",
       "      <td>0.0</td>\n",
       "      <td>...</td>\n",
       "      <td>0.0</td>\n",
       "      <td>0.0</td>\n",
       "      <td>0.0</td>\n",
       "      <td>0.0</td>\n",
       "      <td>0.0</td>\n",
       "      <td>0.0</td>\n",
       "      <td>0.0</td>\n",
       "      <td>0.0</td>\n",
       "      <td>0.0</td>\n",
       "      <td>0.0</td>\n",
       "    </tr>\n",
       "    <tr>\n",
       "      <th>4</th>\n",
       "      <td>0.0</td>\n",
       "      <td>0.0</td>\n",
       "      <td>0.0</td>\n",
       "      <td>0.0</td>\n",
       "      <td>0.0</td>\n",
       "      <td>0.0</td>\n",
       "      <td>0.0</td>\n",
       "      <td>0.0</td>\n",
       "      <td>0.0</td>\n",
       "      <td>0.0</td>\n",
       "      <td>...</td>\n",
       "      <td>0.0</td>\n",
       "      <td>0.0</td>\n",
       "      <td>0.0</td>\n",
       "      <td>0.0</td>\n",
       "      <td>0.0</td>\n",
       "      <td>0.0</td>\n",
       "      <td>0.0</td>\n",
       "      <td>0.0</td>\n",
       "      <td>0.0</td>\n",
       "      <td>0.0</td>\n",
       "    </tr>\n",
       "  </tbody>\n",
       "</table>\n",
       "<p>5 rows × 1602 columns</p>\n",
       "</div>"
      ],
      "text/plain": [
       "    10  10 year  100   11  11 concord   12  12 bought  120   13   15   ...     \\\n",
       "0  0.0      0.0  0.0  0.0         0.0  0.0        0.0  0.0  0.0  0.0   ...      \n",
       "1  0.0      0.0  0.0  0.0         0.0  0.0        0.0  0.0  0.0  0.0   ...      \n",
       "2  0.0      0.0  0.0  0.0         0.0  0.0        0.0  0.0  0.0  0.0   ...      \n",
       "3  0.0      0.0  0.0  0.0         0.0  0.0        0.0  0.0  0.0  0.0   ...      \n",
       "4  0.0      0.0  0.0  0.0         0.0  0.0        0.0  0.0  0.0  0.0   ...      \n",
       "\n",
       "   zebra  zipper  zne  zne hoodi  zoom  zoom kobe   zx  zx 500  zx 500 rm  \\\n",
       "0    0.0     0.0  0.0        0.0   0.0        0.0  0.0     0.0        0.0   \n",
       "1    0.0     0.0  0.0        0.0   0.0        0.0  0.0     0.0        0.0   \n",
       "2    0.0     0.0  0.0        0.0   0.0        0.0  0.0     0.0        0.0   \n",
       "3    0.0     0.0  0.0        0.0   0.0        0.0  0.0     0.0        0.0   \n",
       "4    0.0     0.0  0.0        0.0   0.0        0.0  0.0     0.0        0.0   \n",
       "\n",
       "   zx flux  \n",
       "0      0.0  \n",
       "1      0.0  \n",
       "2      0.0  \n",
       "3      0.0  \n",
       "4      0.0  \n",
       "\n",
       "[5 rows x 1602 columns]"
      ]
     },
     "execution_count": 32,
     "metadata": {},
     "output_type": "execute_result"
    }
   ],
   "source": [
    "# Create tf_test dataframe\n",
    "tf_test_df = pd.DataFrame(tf_test.todense(), columns = tf.get_feature_names())\n",
    "tf_test_df.head()"
   ]
  },
  {
   "cell_type": "code",
   "execution_count": 33,
   "metadata": {},
   "outputs": [
    {
     "name": "stdout",
     "output_type": "stream",
     "text": [
      "(1488, 1602)\n",
      "(496, 1602)\n"
     ]
    }
   ],
   "source": [
    "print(tf_train.shape)\n",
    "print(tf_test.shape)"
   ]
  },
  {
   "cell_type": "markdown",
   "metadata": {},
   "source": [
    "### Let's try different models and then optimize the one that works best"
   ]
  },
  {
   "cell_type": "markdown",
   "metadata": {},
   "source": [
    "### Logistic Regression Model"
   ]
  },
  {
   "cell_type": "code",
   "execution_count": 34,
   "metadata": {},
   "outputs": [
    {
     "name": "stdout",
     "output_type": "stream",
     "text": [
      "0.9684139784946236\n",
      "\n",
      "0.7620967741935484\n"
     ]
    }
   ],
   "source": [
    "log = LogisticRegression(penalty='l2', tol=.0001, C=50, random_state=42)\n",
    "\n",
    "log.fit(tf_train, y_train)\n",
    "\n",
    "print(log.score(tf_train, y_train))\n",
    "print('')\n",
    "print(log.score(tf_test, y_test))"
   ]
  },
  {
   "cell_type": "code",
   "execution_count": 35,
   "metadata": {},
   "outputs": [
    {
     "name": "stdout",
     "output_type": "stream",
     "text": [
      "0.9711021505376344\n",
      "\n",
      "0.7540322580645161\n"
     ]
    }
   ],
   "source": [
    "log = LogisticRegression(penalty='l1', tol=.0001, C=50, random_state=42)\n",
    "\n",
    "log.fit(tf_train, y_train)\n",
    "\n",
    "print(log.score(tf_train, y_train))\n",
    "print('')\n",
    "print(log.score(tf_test, y_test))"
   ]
  },
  {
   "cell_type": "markdown",
   "metadata": {},
   "source": [
    "|TfidfVectorizer - Logistic Regression Model|Performance (Lasso)|Performance (Ridge)|\n",
    "|---|---|---|\n",
    "|Training score|0.971|0.968|\n",
    "|Testing score|0.754|0.762|\n",
    "\n",
    "\n",
    "|CountVectorizer - Logistic Regression Model|Performance (Lasso)|Performance (Ridge)|\n",
    "|---|---|---|\n",
    "|Training score|0.97|0.972|\n",
    "|Testing score|0.768|0.762|"
   ]
  },
  {
   "cell_type": "markdown",
   "metadata": {},
   "source": [
    "The Logistic Regression model has a higher training score than the testing score under both Lasso and Ridge penalties meaning that the model is very overfit. In both cases, the model performs well on the training data, but there is a significant dropoff in performance in the testing data.\n",
    "\n",
    "In comparison with the CountVectorizer, the Ridge training score and the Lasso testing score was lower under the Tfidf transformer."
   ]
  },
  {
   "cell_type": "code",
   "execution_count": 36,
   "metadata": {},
   "outputs": [],
   "source": [
    "# Created a dataframe of all coefficients and sorted by descending values\n",
    "# The top features and coefficients that will determine whether a post is a nike post\n",
    "coef_df2 = pd.DataFrame(log.coef_, columns=cv_train_df.columns).T.sort_values(by=0, ascending=False)"
   ]
  },
  {
   "cell_type": "code",
   "execution_count": 37,
   "metadata": {},
   "outputs": [
    {
     "data": {
      "text/html": [
       "<div>\n",
       "<style scoped>\n",
       "    .dataframe tbody tr th:only-of-type {\n",
       "        vertical-align: middle;\n",
       "    }\n",
       "\n",
       "    .dataframe tbody tr th {\n",
       "        vertical-align: top;\n",
       "    }\n",
       "\n",
       "    .dataframe thead th {\n",
       "        text-align: right;\n",
       "    }\n",
       "</style>\n",
       "<table border=\"1\" class=\"dataframe\">\n",
       "  <thead>\n",
       "    <tr style=\"text-align: right;\">\n",
       "      <th></th>\n",
       "      <th>0</th>\n",
       "    </tr>\n",
       "  </thead>\n",
       "  <tbody>\n",
       "    <tr>\n",
       "      <th>nike</th>\n",
       "      <td>67.448966</td>\n",
       "    </tr>\n",
       "    <tr>\n",
       "      <th>thi tee</th>\n",
       "      <td>29.833540</td>\n",
       "    </tr>\n",
       "    <tr>\n",
       "      <th>air</th>\n",
       "      <td>24.093357</td>\n",
       "    </tr>\n",
       "    <tr>\n",
       "      <th>thi adida</th>\n",
       "      <td>23.591298</td>\n",
       "    </tr>\n",
       "    <tr>\n",
       "      <th>women jacket</th>\n",
       "      <td>22.991701</td>\n",
       "    </tr>\n",
       "    <tr>\n",
       "      <th>jordan</th>\n",
       "      <td>22.171483</td>\n",
       "    </tr>\n",
       "    <tr>\n",
       "      <th>af1</th>\n",
       "      <td>21.438488</td>\n",
       "    </tr>\n",
       "    <tr>\n",
       "      <th>swoosh</th>\n",
       "      <td>18.586644</td>\n",
       "    </tr>\n",
       "    <tr>\n",
       "      <th>id thi hat</th>\n",
       "      <td>17.899171</td>\n",
       "    </tr>\n",
       "    <tr>\n",
       "      <th>56</th>\n",
       "      <td>15.930431</td>\n",
       "    </tr>\n",
       "  </tbody>\n",
       "</table>\n",
       "</div>"
      ],
      "text/plain": [
       "                      0\n",
       "nike          67.448966\n",
       "thi tee       29.833540\n",
       "air           24.093357\n",
       "thi adida     23.591298\n",
       "women jacket  22.991701\n",
       "jordan        22.171483\n",
       "af1           21.438488\n",
       "swoosh        18.586644\n",
       "id thi hat    17.899171\n",
       "56            15.930431"
      ]
     },
     "execution_count": 37,
     "metadata": {},
     "output_type": "execute_result"
    }
   ],
   "source": [
    "coef_df2.head(10)"
   ]
  },
  {
   "cell_type": "code",
   "execution_count": 38,
   "metadata": {},
   "outputs": [
    {
     "data": {
      "text/html": [
       "<div>\n",
       "<style scoped>\n",
       "    .dataframe tbody tr th:only-of-type {\n",
       "        vertical-align: middle;\n",
       "    }\n",
       "\n",
       "    .dataframe tbody tr th {\n",
       "        vertical-align: top;\n",
       "    }\n",
       "\n",
       "    .dataframe thead th {\n",
       "        text-align: right;\n",
       "    }\n",
       "</style>\n",
       "<table border=\"1\" class=\"dataframe\">\n",
       "  <thead>\n",
       "    <tr style=\"text-align: right;\">\n",
       "      <th></th>\n",
       "      <th>0</th>\n",
       "    </tr>\n",
       "  </thead>\n",
       "  <tbody>\n",
       "    <tr>\n",
       "      <th>love</th>\n",
       "      <td>-17.411038</td>\n",
       "    </tr>\n",
       "    <tr>\n",
       "      <th>adidas</th>\n",
       "      <td>-17.465362</td>\n",
       "    </tr>\n",
       "    <tr>\n",
       "      <th>pants</th>\n",
       "      <td>-18.736918</td>\n",
       "    </tr>\n",
       "    <tr>\n",
       "      <th>tell thi</th>\n",
       "      <td>-21.802988</td>\n",
       "    </tr>\n",
       "    <tr>\n",
       "      <th>appreciated</th>\n",
       "      <td>-21.860661</td>\n",
       "    </tr>\n",
       "    <tr>\n",
       "      <th>boost</th>\n",
       "      <td>-22.116376</td>\n",
       "    </tr>\n",
       "    <tr>\n",
       "      <th>uncomfort</th>\n",
       "      <td>-22.482716</td>\n",
       "    </tr>\n",
       "    <tr>\n",
       "      <th>ultraboost</th>\n",
       "      <td>-22.610392</td>\n",
       "    </tr>\n",
       "    <tr>\n",
       "      <th>nmd</th>\n",
       "      <td>-31.202116</td>\n",
       "    </tr>\n",
       "    <tr>\n",
       "      <th>adida</th>\n",
       "      <td>-63.892771</td>\n",
       "    </tr>\n",
       "  </tbody>\n",
       "</table>\n",
       "</div>"
      ],
      "text/plain": [
       "                     0\n",
       "love        -17.411038\n",
       "adidas      -17.465362\n",
       "pants       -18.736918\n",
       "tell thi    -21.802988\n",
       "appreciated -21.860661\n",
       "boost       -22.116376\n",
       "uncomfort   -22.482716\n",
       "ultraboost  -22.610392\n",
       "nmd         -31.202116\n",
       "adida       -63.892771"
      ]
     },
     "execution_count": 38,
     "metadata": {},
     "output_type": "execute_result"
    }
   ],
   "source": [
    "coef_df2.tail(10)"
   ]
  },
  {
   "cell_type": "markdown",
   "metadata": {},
   "source": [
    "### Multinomial Naive Bayes Model"
   ]
  },
  {
   "cell_type": "code",
   "execution_count": 39,
   "metadata": {},
   "outputs": [
    {
     "name": "stdout",
     "output_type": "stream",
     "text": [
      "0.9166666666666666\n",
      "\n",
      "0.7681451612903226\n"
     ]
    }
   ],
   "source": [
    "mnnb = MultinomialNB()\n",
    "\n",
    "mnnb.fit(tf_train, y_train)\n",
    "\n",
    "print(mnnb.score(tf_train, y_train))\n",
    "print('')\n",
    "print(mnnb.score(tf_test, y_test))"
   ]
  },
  {
   "cell_type": "markdown",
   "metadata": {},
   "source": [
    "|TfidfVectorizer - Multinomial Naive Bayes|Model Performance|\n",
    "|---|---|\n",
    "|Training score|0.917|\n",
    "|Testing score|0.768|\n",
    "\n",
    "\n",
    "|CountVectorizer - Multinomial Naive Bayes|Model Performance|\n",
    "|---|---|\n",
    "|Training score|0.896|\n",
    "|Testing score|0.766|"
   ]
  },
  {
   "cell_type": "markdown",
   "metadata": {},
   "source": [
    "Although the model is still overfit under the Tfidf transformer, the training and testing score performed better than the model under the CountVectorizer transformer."
   ]
  },
  {
   "cell_type": "markdown",
   "metadata": {},
   "source": [
    "### Decision Tree Model"
   ]
  },
  {
   "cell_type": "code",
   "execution_count": 40,
   "metadata": {},
   "outputs": [
    {
     "name": "stdout",
     "output_type": "stream",
     "text": [
      "0.9744623655913979\n",
      "\n",
      "0.7379032258064516\n"
     ]
    }
   ],
   "source": [
    "dT = DecisionTreeClassifier(criterion='gini', random_state=42, max_depth=1000)\n",
    "\n",
    "dT.fit(tf_train, y_train)\n",
    "\n",
    "print(dT.score(tf_train, y_train))\n",
    "print('')\n",
    "print(dT.score(tf_test, y_test))"
   ]
  },
  {
   "cell_type": "markdown",
   "metadata": {},
   "source": [
    "|TfidfVectorizer - Decision Tree Model|Performance|\n",
    "|---|---|\n",
    "|Training score|0.974|\n",
    "|Testing score|0.737|\n",
    "\n",
    "\n",
    "|CountVectorizer - Decision Tree Model|Performance|\n",
    "|---|---|\n",
    "|Training score|0.974|\n",
    "|Testing score|0.692|"
   ]
  },
  {
   "cell_type": "markdown",
   "metadata": {},
   "source": [
    "Although the model is still overfit under the Tfidf transformer, the testing score performed better than the model under the CountVectorizer transformer."
   ]
  },
  {
   "cell_type": "markdown",
   "metadata": {},
   "source": [
    "### Bagged Tree Model"
   ]
  },
  {
   "cell_type": "code",
   "execution_count": 41,
   "metadata": {},
   "outputs": [
    {
     "name": "stdout",
     "output_type": "stream",
     "text": [
      "0.9737903225806451\n",
      "\n",
      "0.7540322580645161\n"
     ]
    }
   ],
   "source": [
    "bagged = BaggingClassifier(base_estimator=DecisionTreeClassifier(criterion='gini', random_state=42, \n",
    "                                                                 max_depth=1000), n_estimators=100)\n",
    "\n",
    "bagged.fit(tf_train, y_train)\n",
    "\n",
    "print(bagged.score(tf_train, y_train))\n",
    "print('')\n",
    "print(bagged.score(tf_test, y_test))"
   ]
  },
  {
   "cell_type": "markdown",
   "metadata": {},
   "source": [
    "|TfidfVectorizer - Bagged Tree Model|Performance|\n",
    "|---|---|\n",
    "|Training score|0.974|\n",
    "|Testing score|0.744|\n",
    "\n",
    "\n",
    "|CountVectorizer - Bagged Tree Model|Performance|\n",
    "|---|---|\n",
    "|Training score|0.974|\n",
    "|Testing score|0.744|"
   ]
  },
  {
   "cell_type": "markdown",
   "metadata": {},
   "source": [
    "The Bagged Tree Model seems to have performed equally well under both vectorizers."
   ]
  },
  {
   "cell_type": "markdown",
   "metadata": {},
   "source": [
    "### Extra Trees Model"
   ]
  },
  {
   "cell_type": "code",
   "execution_count": 42,
   "metadata": {},
   "outputs": [
    {
     "name": "stdout",
     "output_type": "stream",
     "text": [
      "0.9744623655913979\n",
      "\n",
      "0.7560483870967742\n"
     ]
    }
   ],
   "source": [
    "eT = ExtraTreesClassifier(max_depth=1000, random_state=42, criterion='gini', n_estimators=200)\n",
    "\n",
    "eT.fit(tf_train, y_train)\n",
    "\n",
    "print(eT.score(tf_train, y_train))\n",
    "print('')\n",
    "print(eT.score(tf_test, y_test))"
   ]
  },
  {
   "cell_type": "markdown",
   "metadata": {},
   "source": [
    "|TfidfVectorizer - Extra Tree Model|Performance|\n",
    "|---|---|\n",
    "|Training score|0.974|\n",
    "|Testing score|0.76|\n",
    "\n",
    "\n",
    "|CountVectorizer - Extra Tree Model|Performance|\n",
    "|---|---|\n",
    "|Training score|0.974|\n",
    "|Testing score|0.76|"
   ]
  },
  {
   "cell_type": "markdown",
   "metadata": {},
   "source": [
    "The Extra Trees Model seems to have performed equally well under both vectorizers."
   ]
  },
  {
   "cell_type": "markdown",
   "metadata": {},
   "source": [
    "### Let's see how these models compare to a Random Forest Model"
   ]
  },
  {
   "cell_type": "markdown",
   "metadata": {},
   "source": [
    "### Random Forest Model"
   ]
  },
  {
   "cell_type": "code",
   "execution_count": 43,
   "metadata": {},
   "outputs": [
    {
     "name": "stdout",
     "output_type": "stream",
     "text": [
      "0.9744623655913979\n",
      "\n",
      "0.7661290322580645\n"
     ]
    }
   ],
   "source": [
    "rF = RandomForestClassifier(n_estimators=200, criterion='gini', max_depth=1000,\n",
    "                           random_state=42)\n",
    "rF.fit(tf_train, y_train)\n",
    "\n",
    "print(rF.score(tf_train, y_train))\n",
    "print('')\n",
    "print(rF.score(tf_test, y_test))"
   ]
  },
  {
   "cell_type": "markdown",
   "metadata": {},
   "source": [
    "|TfidfVectorizer - Random Forest Model|Performance|\n",
    "|---|---|\n",
    "|Training score|0.974|\n",
    "|Testing score|0.766|\n",
    "\n",
    "\n",
    "|CountVectorizer - Random Forest Model|Performance|\n",
    "|---|---|\n",
    "|Training score|0.974|\n",
    "|Testing score|0.754|"
   ]
  },
  {
   "cell_type": "markdown",
   "metadata": {},
   "source": [
    "Although the model is still overfit under the Tfidf transformer, the testing score performed better than the model under the CountVectorizer transformer."
   ]
  },
  {
   "cell_type": "markdown",
   "metadata": {},
   "source": [
    "### The best models under TfidfVectorizer are: Random Forest Model & Multinomial Naive Bayes Model\n",
    "**(Based on test and train scores)**\n",
    "### Let's optimize both using GridSearch"
   ]
  },
  {
   "cell_type": "code",
   "execution_count": 44,
   "metadata": {},
   "outputs": [
    {
     "name": "stdout",
     "output_type": "stream",
     "text": [
      "0.7735215053763441\n",
      "{'max_depth': 100, 'n_estimators': 50}\n",
      "\n",
      "0.948252688172043\n",
      "\n",
      "0.7641129032258065\n"
     ]
    }
   ],
   "source": [
    "# Random Forest Model GridSearch\n",
    "\n",
    "rF = RandomForestClassifier(random_state=42)\n",
    "rF_params = {\n",
    "    'n_estimators': [10, 50, 100],\n",
    "    'max_depth': [50, 100, 150]\n",
    "}\n",
    "\n",
    "gS = GridSearchCV(rF , param_grid=rF_params, cv=5)\n",
    "\n",
    "gS.fit(tf_train, y_train)\n",
    "print(gS.best_score_)\n",
    "print(gS.best_params_)\n",
    "print('')\n",
    "print(gS.score(tf_train, y_train))\n",
    "print('')\n",
    "print(gS.score(tf_test, y_test))"
   ]
  },
  {
   "cell_type": "markdown",
   "metadata": {},
   "source": [
    "After running our GridSearch model we see that our best score is a cross validation score of about .79. However, when we score our Gridsearch model to the training and testing sets, the model doesn't perform better compared to the original model that we ran. We expect the Gridsearch model to optimize the model based on the parameters we feed into it, but in this case, our model did not generate a better score.\n",
    "\n",
    "We know that the data we gathered is not a representation of the entire subreddit of posts so we can say that the cross validated score is a good generalizer on data that it has not seen. When running a cross validation score, our training set is being split into another training set and a smaller testing set on which our model will score its performance on. "
   ]
  },
  {
   "cell_type": "code",
   "execution_count": null,
   "metadata": {},
   "outputs": [],
   "source": []
  }
 ],
 "metadata": {
  "kernelspec": {
   "display_name": "Python 3",
   "language": "python",
   "name": "python3"
  },
  "language_info": {
   "codemirror_mode": {
    "name": "ipython",
    "version": 3
   },
   "file_extension": ".py",
   "mimetype": "text/x-python",
   "name": "python",
   "nbconvert_exporter": "python",
   "pygments_lexer": "ipython3",
   "version": "3.7.0"
  }
 },
 "nbformat": 4,
 "nbformat_minor": 2
}
